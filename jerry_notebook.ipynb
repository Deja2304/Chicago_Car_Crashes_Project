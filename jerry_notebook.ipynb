{
 "cells": [
  {
   "cell_type": "markdown",
   "metadata": {},
   "source": [
    "# Import Libraries"
   ]
  },
  {
   "cell_type": "code",
   "execution_count": 1,
   "metadata": {},
   "outputs": [],
   "source": [
    "import pandas as pd\n",
    "import numpy as np\n",
    "import matplotlib.pyplot as plt\n",
    "\n",
    "from sklearn.tree import DecisionTreeClassifier, plot_tree\n",
    "from sklearn.neighbors import KNeighborsClassifier\n",
    "from sklearn.ensemble import RandomForestClassifier\n",
    "from sklearn.model_selection import train_test_split, cross_val_score, GridSearchCV, RandomizedSearchCV\n",
    "from sklearn.metrics import roc_auc_score, roc_curve, plot_roc_curve\n",
    "from sklearn.preprocessing import OneHotEncoder, StandardScaler\n",
    "from sklearn.impute import SimpleImputer\n",
    "from sklearn.compose import ColumnTransformer\n",
    "from sklearn.pipeline import Pipeline\n",
    "\n",
    "from imblearn.over_sampling import SMOTE\n",
    "from imblearn.pipeline import Pipeline as ImPipeline\n",
    "\n",
    "\n",
    "%matplotlib inline\n",
    "import seaborn as sns\n",
    "import folium "
   ]
  },
  {
   "cell_type": "code",
   "execution_count": 2,
   "metadata": {},
   "outputs": [
    {
     "name": "stderr",
     "output_type": "stream",
     "text": [
      "/Users/jerry_vasquez/opt/anaconda3/envs/learn-env/lib/python3.8/site-packages/IPython/core/interactiveshell.py:3145: DtypeWarning: Columns (12,13,20,21,22,23,24,25,26,27,29) have mixed types.Specify dtype option on import or set low_memory=False.\n",
      "  has_raised = await self.run_ast_nodes(code_ast.body, cell_name,\n",
      "/Users/jerry_vasquez/opt/anaconda3/envs/learn-env/lib/python3.8/site-packages/IPython/core/interactiveshell.py:3145: DtypeWarning: Columns (19,21,40,41,42,44,48,49,50,53,55,58,59,61,71) have mixed types.Specify dtype option on import or set low_memory=False.\n",
      "  has_raised = await self.run_ast_nodes(code_ast.body, cell_name,\n"
     ]
    },
    {
     "data": {
      "text/html": [
       "<div>\n",
       "<style scoped>\n",
       "    .dataframe tbody tr th:only-of-type {\n",
       "        vertical-align: middle;\n",
       "    }\n",
       "\n",
       "    .dataframe tbody tr th {\n",
       "        vertical-align: top;\n",
       "    }\n",
       "\n",
       "    .dataframe thead th {\n",
       "        text-align: right;\n",
       "    }\n",
       "</style>\n",
       "<table border=\"1\" class=\"dataframe\">\n",
       "  <thead>\n",
       "    <tr style=\"text-align: right;\">\n",
       "      <th></th>\n",
       "      <th>CRASH_RECORD_ID</th>\n",
       "      <th>RD_NO</th>\n",
       "      <th>CRASH_DATE_EST_I</th>\n",
       "      <th>CRASH_DATE</th>\n",
       "      <th>POSTED_SPEED_LIMIT</th>\n",
       "      <th>TRAFFIC_CONTROL_DEVICE</th>\n",
       "      <th>DEVICE_CONDITION</th>\n",
       "      <th>WEATHER_CONDITION</th>\n",
       "      <th>LIGHTING_CONDITION</th>\n",
       "      <th>FIRST_CRASH_TYPE</th>\n",
       "      <th>...</th>\n",
       "      <th>INJURIES_NON_INCAPACITATING</th>\n",
       "      <th>INJURIES_REPORTED_NOT_EVIDENT</th>\n",
       "      <th>INJURIES_NO_INDICATION</th>\n",
       "      <th>INJURIES_UNKNOWN</th>\n",
       "      <th>CRASH_HOUR</th>\n",
       "      <th>CRASH_DAY_OF_WEEK</th>\n",
       "      <th>CRASH_MONTH</th>\n",
       "      <th>LATITUDE</th>\n",
       "      <th>LONGITUDE</th>\n",
       "      <th>LOCATION</th>\n",
       "    </tr>\n",
       "  </thead>\n",
       "  <tbody>\n",
       "    <tr>\n",
       "      <th>0</th>\n",
       "      <td>4fd0a3e0897b3335b94cd8d5b2d2b350eb691add56c62d...</td>\n",
       "      <td>JC343143</td>\n",
       "      <td>NaN</td>\n",
       "      <td>07/10/2019 05:56:00 PM</td>\n",
       "      <td>35</td>\n",
       "      <td>NO CONTROLS</td>\n",
       "      <td>NO CONTROLS</td>\n",
       "      <td>CLEAR</td>\n",
       "      <td>DAYLIGHT</td>\n",
       "      <td>TURNING</td>\n",
       "      <td>...</td>\n",
       "      <td>0.0</td>\n",
       "      <td>0.0</td>\n",
       "      <td>3.0</td>\n",
       "      <td>0.0</td>\n",
       "      <td>17</td>\n",
       "      <td>4</td>\n",
       "      <td>7</td>\n",
       "      <td>41.919664</td>\n",
       "      <td>-87.773288</td>\n",
       "      <td>POINT (-87.773287883007 41.919663832993)</td>\n",
       "    </tr>\n",
       "    <tr>\n",
       "      <th>1</th>\n",
       "      <td>009e9e67203442370272e1a13d6ee51a4155dac65e583d...</td>\n",
       "      <td>JA329216</td>\n",
       "      <td>NaN</td>\n",
       "      <td>06/30/2017 04:00:00 PM</td>\n",
       "      <td>35</td>\n",
       "      <td>STOP SIGN/FLASHER</td>\n",
       "      <td>FUNCTIONING PROPERLY</td>\n",
       "      <td>CLEAR</td>\n",
       "      <td>DAYLIGHT</td>\n",
       "      <td>TURNING</td>\n",
       "      <td>...</td>\n",
       "      <td>0.0</td>\n",
       "      <td>0.0</td>\n",
       "      <td>3.0</td>\n",
       "      <td>0.0</td>\n",
       "      <td>16</td>\n",
       "      <td>6</td>\n",
       "      <td>6</td>\n",
       "      <td>41.741804</td>\n",
       "      <td>-87.740954</td>\n",
       "      <td>POINT (-87.740953581987 41.741803598989)</td>\n",
       "    </tr>\n",
       "    <tr>\n",
       "      <th>2</th>\n",
       "      <td>ee9283eff3a55ac50ee58f3d9528ce1d689b1c4180b4c4...</td>\n",
       "      <td>JD292400</td>\n",
       "      <td>NaN</td>\n",
       "      <td>07/10/2020 10:25:00 AM</td>\n",
       "      <td>30</td>\n",
       "      <td>TRAFFIC SIGNAL</td>\n",
       "      <td>FUNCTIONING PROPERLY</td>\n",
       "      <td>CLEAR</td>\n",
       "      <td>DAYLIGHT</td>\n",
       "      <td>REAR END</td>\n",
       "      <td>...</td>\n",
       "      <td>0.0</td>\n",
       "      <td>0.0</td>\n",
       "      <td>3.0</td>\n",
       "      <td>0.0</td>\n",
       "      <td>10</td>\n",
       "      <td>6</td>\n",
       "      <td>7</td>\n",
       "      <td>41.773456</td>\n",
       "      <td>-87.585022</td>\n",
       "      <td>POINT (-87.585022352022 41.773455972008)</td>\n",
       "    </tr>\n",
       "    <tr>\n",
       "      <th>3</th>\n",
       "      <td>f8960f698e870ebdc60b521b2a141a5395556bc3704191...</td>\n",
       "      <td>JD293602</td>\n",
       "      <td>NaN</td>\n",
       "      <td>07/11/2020 01:00:00 AM</td>\n",
       "      <td>30</td>\n",
       "      <td>NO CONTROLS</td>\n",
       "      <td>NO CONTROLS</td>\n",
       "      <td>CLEAR</td>\n",
       "      <td>DARKNESS</td>\n",
       "      <td>PARKED MOTOR VEHICLE</td>\n",
       "      <td>...</td>\n",
       "      <td>0.0</td>\n",
       "      <td>0.0</td>\n",
       "      <td>3.0</td>\n",
       "      <td>0.0</td>\n",
       "      <td>1</td>\n",
       "      <td>7</td>\n",
       "      <td>7</td>\n",
       "      <td>41.802119</td>\n",
       "      <td>-87.622115</td>\n",
       "      <td>POINT (-87.622114914961 41.802118543011)</td>\n",
       "    </tr>\n",
       "    <tr>\n",
       "      <th>4</th>\n",
       "      <td>8eaa2678d1a127804ee9b8c35ddf7d63d913c14eda61d6...</td>\n",
       "      <td>JD290451</td>\n",
       "      <td>NaN</td>\n",
       "      <td>07/08/2020 02:00:00 PM</td>\n",
       "      <td>20</td>\n",
       "      <td>NO CONTROLS</td>\n",
       "      <td>NO CONTROLS</td>\n",
       "      <td>CLEAR</td>\n",
       "      <td>DAYLIGHT</td>\n",
       "      <td>PARKED MOTOR VEHICLE</td>\n",
       "      <td>...</td>\n",
       "      <td>0.0</td>\n",
       "      <td>0.0</td>\n",
       "      <td>1.0</td>\n",
       "      <td>0.0</td>\n",
       "      <td>14</td>\n",
       "      <td>4</td>\n",
       "      <td>7</td>\n",
       "      <td>NaN</td>\n",
       "      <td>NaN</td>\n",
       "      <td>NaN</td>\n",
       "    </tr>\n",
       "  </tbody>\n",
       "</table>\n",
       "<p>5 rows × 49 columns</p>\n",
       "</div>"
      ],
      "text/plain": [
       "                                     CRASH_RECORD_ID     RD_NO  \\\n",
       "0  4fd0a3e0897b3335b94cd8d5b2d2b350eb691add56c62d...  JC343143   \n",
       "1  009e9e67203442370272e1a13d6ee51a4155dac65e583d...  JA329216   \n",
       "2  ee9283eff3a55ac50ee58f3d9528ce1d689b1c4180b4c4...  JD292400   \n",
       "3  f8960f698e870ebdc60b521b2a141a5395556bc3704191...  JD293602   \n",
       "4  8eaa2678d1a127804ee9b8c35ddf7d63d913c14eda61d6...  JD290451   \n",
       "\n",
       "  CRASH_DATE_EST_I              CRASH_DATE  POSTED_SPEED_LIMIT  \\\n",
       "0              NaN  07/10/2019 05:56:00 PM                  35   \n",
       "1              NaN  06/30/2017 04:00:00 PM                  35   \n",
       "2              NaN  07/10/2020 10:25:00 AM                  30   \n",
       "3              NaN  07/11/2020 01:00:00 AM                  30   \n",
       "4              NaN  07/08/2020 02:00:00 PM                  20   \n",
       "\n",
       "  TRAFFIC_CONTROL_DEVICE      DEVICE_CONDITION WEATHER_CONDITION  \\\n",
       "0            NO CONTROLS           NO CONTROLS             CLEAR   \n",
       "1      STOP SIGN/FLASHER  FUNCTIONING PROPERLY             CLEAR   \n",
       "2         TRAFFIC SIGNAL  FUNCTIONING PROPERLY             CLEAR   \n",
       "3            NO CONTROLS           NO CONTROLS             CLEAR   \n",
       "4            NO CONTROLS           NO CONTROLS             CLEAR   \n",
       "\n",
       "  LIGHTING_CONDITION      FIRST_CRASH_TYPE  ... INJURIES_NON_INCAPACITATING  \\\n",
       "0           DAYLIGHT               TURNING  ...                         0.0   \n",
       "1           DAYLIGHT               TURNING  ...                         0.0   \n",
       "2           DAYLIGHT              REAR END  ...                         0.0   \n",
       "3           DARKNESS  PARKED MOTOR VEHICLE  ...                         0.0   \n",
       "4           DAYLIGHT  PARKED MOTOR VEHICLE  ...                         0.0   \n",
       "\n",
       "   INJURIES_REPORTED_NOT_EVIDENT INJURIES_NO_INDICATION INJURIES_UNKNOWN  \\\n",
       "0                            0.0                    3.0              0.0   \n",
       "1                            0.0                    3.0              0.0   \n",
       "2                            0.0                    3.0              0.0   \n",
       "3                            0.0                    3.0              0.0   \n",
       "4                            0.0                    1.0              0.0   \n",
       "\n",
       "  CRASH_HOUR CRASH_DAY_OF_WEEK CRASH_MONTH   LATITUDE  LONGITUDE  \\\n",
       "0         17                 4           7  41.919664 -87.773288   \n",
       "1         16                 6           6  41.741804 -87.740954   \n",
       "2         10                 6           7  41.773456 -87.585022   \n",
       "3          1                 7           7  41.802119 -87.622115   \n",
       "4         14                 4           7        NaN        NaN   \n",
       "\n",
       "                                   LOCATION  \n",
       "0  POINT (-87.773287883007 41.919663832993)  \n",
       "1  POINT (-87.740953581987 41.741803598989)  \n",
       "2  POINT (-87.585022352022 41.773455972008)  \n",
       "3  POINT (-87.622114914961 41.802118543011)  \n",
       "4                                       NaN  \n",
       "\n",
       "[5 rows x 49 columns]"
      ]
     },
     "execution_count": 2,
     "metadata": {},
     "output_type": "execute_result"
    }
   ],
   "source": [
    "#importing datasets\n",
    "df = pd.read_csv('../Traffic_Crashes_-_Crashes.csv')\n",
    "df_people = pd.read_csv('../Traffic_Crashes_-_People.csv')\n",
    "df_vehicles = pd.read_csv('../Traffic_Crashes_-_Vehicles.csv')\n",
    "df.head()"
   ]
  },
  {
   "cell_type": "code",
   "execution_count": 3,
   "metadata": {},
   "outputs": [
    {
     "data": {
      "text/html": [
       "<div>\n",
       "<style scoped>\n",
       "    .dataframe tbody tr th:only-of-type {\n",
       "        vertical-align: middle;\n",
       "    }\n",
       "\n",
       "    .dataframe tbody tr th {\n",
       "        vertical-align: top;\n",
       "    }\n",
       "\n",
       "    .dataframe thead th {\n",
       "        text-align: right;\n",
       "    }\n",
       "</style>\n",
       "<table border=\"1\" class=\"dataframe\">\n",
       "  <thead>\n",
       "    <tr style=\"text-align: right;\">\n",
       "      <th></th>\n",
       "      <th>CRASH_UNIT_ID</th>\n",
       "      <th>CRASH_RECORD_ID</th>\n",
       "      <th>RD_NO</th>\n",
       "      <th>CRASH_DATE</th>\n",
       "      <th>UNIT_NO</th>\n",
       "      <th>UNIT_TYPE</th>\n",
       "      <th>NUM_PASSENGERS</th>\n",
       "      <th>VEHICLE_ID</th>\n",
       "      <th>CMRC_VEH_I</th>\n",
       "      <th>MAKE</th>\n",
       "      <th>...</th>\n",
       "      <th>TRAILER1_LENGTH</th>\n",
       "      <th>TRAILER2_LENGTH</th>\n",
       "      <th>TOTAL_VEHICLE_LENGTH</th>\n",
       "      <th>AXLE_CNT</th>\n",
       "      <th>VEHICLE_CONFIG</th>\n",
       "      <th>CARGO_BODY_TYPE</th>\n",
       "      <th>LOAD_TYPE</th>\n",
       "      <th>HAZMAT_OUT_OF_SERVICE_I</th>\n",
       "      <th>MCS_OUT_OF_SERVICE_I</th>\n",
       "      <th>HAZMAT_CLASS</th>\n",
       "    </tr>\n",
       "  </thead>\n",
       "  <tbody>\n",
       "    <tr>\n",
       "      <th>0</th>\n",
       "      <td>829999</td>\n",
       "      <td>24ddf9fd8542199d832e1c223cc474e5601b356f1d77a6...</td>\n",
       "      <td>JD124535</td>\n",
       "      <td>01/22/2020 06:25:00 AM</td>\n",
       "      <td>1</td>\n",
       "      <td>DRIVER</td>\n",
       "      <td>NaN</td>\n",
       "      <td>796949.0</td>\n",
       "      <td>NaN</td>\n",
       "      <td>INFINITI</td>\n",
       "      <td>...</td>\n",
       "      <td>NaN</td>\n",
       "      <td>NaN</td>\n",
       "      <td>NaN</td>\n",
       "      <td>NaN</td>\n",
       "      <td>NaN</td>\n",
       "      <td>NaN</td>\n",
       "      <td>NaN</td>\n",
       "      <td>NaN</td>\n",
       "      <td>NaN</td>\n",
       "      <td>NaN</td>\n",
       "    </tr>\n",
       "    <tr>\n",
       "      <th>1</th>\n",
       "      <td>749947</td>\n",
       "      <td>81dc0de2ed92aa62baccab641fa377be7feb1cc47e6554...</td>\n",
       "      <td>JC451435</td>\n",
       "      <td>09/28/2019 03:30:00 AM</td>\n",
       "      <td>1</td>\n",
       "      <td>DRIVER</td>\n",
       "      <td>NaN</td>\n",
       "      <td>834816.0</td>\n",
       "      <td>NaN</td>\n",
       "      <td>HONDA</td>\n",
       "      <td>...</td>\n",
       "      <td>NaN</td>\n",
       "      <td>NaN</td>\n",
       "      <td>NaN</td>\n",
       "      <td>NaN</td>\n",
       "      <td>NaN</td>\n",
       "      <td>NaN</td>\n",
       "      <td>NaN</td>\n",
       "      <td>NaN</td>\n",
       "      <td>NaN</td>\n",
       "      <td>NaN</td>\n",
       "    </tr>\n",
       "    <tr>\n",
       "      <th>2</th>\n",
       "      <td>749949</td>\n",
       "      <td>81dc0de2ed92aa62baccab641fa377be7feb1cc47e6554...</td>\n",
       "      <td>JC451435</td>\n",
       "      <td>09/28/2019 03:30:00 AM</td>\n",
       "      <td>2</td>\n",
       "      <td>PARKED</td>\n",
       "      <td>NaN</td>\n",
       "      <td>834819.0</td>\n",
       "      <td>NaN</td>\n",
       "      <td>TOYOTA</td>\n",
       "      <td>...</td>\n",
       "      <td>NaN</td>\n",
       "      <td>NaN</td>\n",
       "      <td>NaN</td>\n",
       "      <td>NaN</td>\n",
       "      <td>NaN</td>\n",
       "      <td>NaN</td>\n",
       "      <td>NaN</td>\n",
       "      <td>NaN</td>\n",
       "      <td>NaN</td>\n",
       "      <td>NaN</td>\n",
       "    </tr>\n",
       "    <tr>\n",
       "      <th>3</th>\n",
       "      <td>749950</td>\n",
       "      <td>81dc0de2ed92aa62baccab641fa377be7feb1cc47e6554...</td>\n",
       "      <td>JC451435</td>\n",
       "      <td>09/28/2019 03:30:00 AM</td>\n",
       "      <td>3</td>\n",
       "      <td>PARKED</td>\n",
       "      <td>NaN</td>\n",
       "      <td>834817.0</td>\n",
       "      <td>NaN</td>\n",
       "      <td>GENERAL MOTORS CORPORATION (GMC)</td>\n",
       "      <td>...</td>\n",
       "      <td>NaN</td>\n",
       "      <td>NaN</td>\n",
       "      <td>NaN</td>\n",
       "      <td>NaN</td>\n",
       "      <td>NaN</td>\n",
       "      <td>NaN</td>\n",
       "      <td>NaN</td>\n",
       "      <td>NaN</td>\n",
       "      <td>NaN</td>\n",
       "      <td>NaN</td>\n",
       "    </tr>\n",
       "    <tr>\n",
       "      <th>4</th>\n",
       "      <td>871921</td>\n",
       "      <td>af84fb5c8d996fcd3aefd36593c3a02e6e7509eeb27568...</td>\n",
       "      <td>JD208731</td>\n",
       "      <td>04/13/2020 10:50:00 PM</td>\n",
       "      <td>2</td>\n",
       "      <td>DRIVER</td>\n",
       "      <td>NaN</td>\n",
       "      <td>827212.0</td>\n",
       "      <td>NaN</td>\n",
       "      <td>BUICK</td>\n",
       "      <td>...</td>\n",
       "      <td>NaN</td>\n",
       "      <td>NaN</td>\n",
       "      <td>NaN</td>\n",
       "      <td>NaN</td>\n",
       "      <td>NaN</td>\n",
       "      <td>NaN</td>\n",
       "      <td>NaN</td>\n",
       "      <td>NaN</td>\n",
       "      <td>NaN</td>\n",
       "      <td>NaN</td>\n",
       "    </tr>\n",
       "  </tbody>\n",
       "</table>\n",
       "<p>5 rows × 72 columns</p>\n",
       "</div>"
      ],
      "text/plain": [
       "   CRASH_UNIT_ID                                    CRASH_RECORD_ID     RD_NO  \\\n",
       "0         829999  24ddf9fd8542199d832e1c223cc474e5601b356f1d77a6...  JD124535   \n",
       "1         749947  81dc0de2ed92aa62baccab641fa377be7feb1cc47e6554...  JC451435   \n",
       "2         749949  81dc0de2ed92aa62baccab641fa377be7feb1cc47e6554...  JC451435   \n",
       "3         749950  81dc0de2ed92aa62baccab641fa377be7feb1cc47e6554...  JC451435   \n",
       "4         871921  af84fb5c8d996fcd3aefd36593c3a02e6e7509eeb27568...  JD208731   \n",
       "\n",
       "               CRASH_DATE  UNIT_NO UNIT_TYPE  NUM_PASSENGERS  VEHICLE_ID  \\\n",
       "0  01/22/2020 06:25:00 AM        1    DRIVER             NaN    796949.0   \n",
       "1  09/28/2019 03:30:00 AM        1    DRIVER             NaN    834816.0   \n",
       "2  09/28/2019 03:30:00 AM        2    PARKED             NaN    834819.0   \n",
       "3  09/28/2019 03:30:00 AM        3    PARKED             NaN    834817.0   \n",
       "4  04/13/2020 10:50:00 PM        2    DRIVER             NaN    827212.0   \n",
       "\n",
       "  CMRC_VEH_I                              MAKE  ... TRAILER1_LENGTH  \\\n",
       "0        NaN                          INFINITI  ...             NaN   \n",
       "1        NaN                             HONDA  ...             NaN   \n",
       "2        NaN                            TOYOTA  ...             NaN   \n",
       "3        NaN  GENERAL MOTORS CORPORATION (GMC)  ...             NaN   \n",
       "4        NaN                             BUICK  ...             NaN   \n",
       "\n",
       "  TRAILER2_LENGTH  TOTAL_VEHICLE_LENGTH AXLE_CNT VEHICLE_CONFIG  \\\n",
       "0             NaN                   NaN      NaN            NaN   \n",
       "1             NaN                   NaN      NaN            NaN   \n",
       "2             NaN                   NaN      NaN            NaN   \n",
       "3             NaN                   NaN      NaN            NaN   \n",
       "4             NaN                   NaN      NaN            NaN   \n",
       "\n",
       "  CARGO_BODY_TYPE LOAD_TYPE HAZMAT_OUT_OF_SERVICE_I MCS_OUT_OF_SERVICE_I  \\\n",
       "0             NaN       NaN                     NaN                  NaN   \n",
       "1             NaN       NaN                     NaN                  NaN   \n",
       "2             NaN       NaN                     NaN                  NaN   \n",
       "3             NaN       NaN                     NaN                  NaN   \n",
       "4             NaN       NaN                     NaN                  NaN   \n",
       "\n",
       "  HAZMAT_CLASS  \n",
       "0          NaN  \n",
       "1          NaN  \n",
       "2          NaN  \n",
       "3          NaN  \n",
       "4          NaN  \n",
       "\n",
       "[5 rows x 72 columns]"
      ]
     },
     "execution_count": 3,
     "metadata": {},
     "output_type": "execute_result"
    }
   ],
   "source": [
    "df_vehicles.head()"
   ]
  },
  {
   "cell_type": "code",
   "execution_count": 4,
   "metadata": {},
   "outputs": [
    {
     "name": "stdout",
     "output_type": "stream",
     "text": [
      "<class 'pandas.core.frame.DataFrame'>\n",
      "RangeIndex: 567797 entries, 0 to 567796\n",
      "Data columns (total 49 columns):\n",
      " #   Column                         Non-Null Count   Dtype  \n",
      "---  ------                         --------------   -----  \n",
      " 0   CRASH_RECORD_ID                567797 non-null  object \n",
      " 1   RD_NO                          563961 non-null  object \n",
      " 2   CRASH_DATE_EST_I               42926 non-null   object \n",
      " 3   CRASH_DATE                     567797 non-null  object \n",
      " 4   POSTED_SPEED_LIMIT             567797 non-null  int64  \n",
      " 5   TRAFFIC_CONTROL_DEVICE         567797 non-null  object \n",
      " 6   DEVICE_CONDITION               567797 non-null  object \n",
      " 7   WEATHER_CONDITION              567797 non-null  object \n",
      " 8   LIGHTING_CONDITION             567797 non-null  object \n",
      " 9   FIRST_CRASH_TYPE               567797 non-null  object \n",
      " 10  TRAFFICWAY_TYPE                567797 non-null  object \n",
      " 11  LANE_CNT                       198975 non-null  float64\n",
      " 12  ALIGNMENT                      567797 non-null  object \n",
      " 13  ROADWAY_SURFACE_COND           567797 non-null  object \n",
      " 14  ROAD_DEFECT                    567797 non-null  object \n",
      " 15  REPORT_TYPE                    553436 non-null  object \n",
      " 16  CRASH_TYPE                     567797 non-null  object \n",
      " 17  INTERSECTION_RELATED_I         129167 non-null  object \n",
      " 18  NOT_RIGHT_OF_WAY_I             26754 non-null   object \n",
      " 19  HIT_AND_RUN_I                  172106 non-null  object \n",
      " 20  DAMAGE                         567797 non-null  object \n",
      " 21  DATE_POLICE_NOTIFIED           567797 non-null  object \n",
      " 22  PRIM_CONTRIBUTORY_CAUSE        567797 non-null  object \n",
      " 23  SEC_CONTRIBUTORY_CAUSE         567797 non-null  object \n",
      " 24  STREET_NO                      567797 non-null  int64  \n",
      " 25  STREET_DIRECTION               567793 non-null  object \n",
      " 26  STREET_NAME                    567796 non-null  object \n",
      " 27  BEAT_OF_OCCURRENCE             567792 non-null  float64\n",
      " 28  PHOTOS_TAKEN_I                 7008 non-null    object \n",
      " 29  STATEMENTS_TAKEN_I             11462 non-null   object \n",
      " 30  DOORING_I                      1825 non-null    object \n",
      " 31  WORK_ZONE_I                    3536 non-null    object \n",
      " 32  WORK_ZONE_TYPE                 2800 non-null    object \n",
      " 33  WORKERS_PRESENT_I              881 non-null     object \n",
      " 34  NUM_UNITS                      567797 non-null  int64  \n",
      " 35  MOST_SEVERE_INJURY             566622 non-null  object \n",
      " 36  INJURIES_TOTAL                 566633 non-null  float64\n",
      " 37  INJURIES_FATAL                 566633 non-null  float64\n",
      " 38  INJURIES_INCAPACITATING        566633 non-null  float64\n",
      " 39  INJURIES_NON_INCAPACITATING    566633 non-null  float64\n",
      " 40  INJURIES_REPORTED_NOT_EVIDENT  566633 non-null  float64\n",
      " 41  INJURIES_NO_INDICATION         566633 non-null  float64\n",
      " 42  INJURIES_UNKNOWN               566633 non-null  float64\n",
      " 43  CRASH_HOUR                     567797 non-null  int64  \n",
      " 44  CRASH_DAY_OF_WEEK              567797 non-null  int64  \n",
      " 45  CRASH_MONTH                    567797 non-null  int64  \n",
      " 46  LATITUDE                       564487 non-null  float64\n",
      " 47  LONGITUDE                      564487 non-null  float64\n",
      " 48  LOCATION                       564487 non-null  object \n",
      "dtypes: float64(11), int64(6), object(32)\n",
      "memory usage: 212.3+ MB\n"
     ]
    }
   ],
   "source": [
    "df.info()"
   ]
  },
  {
   "cell_type": "code",
   "execution_count": 5,
   "metadata": {},
   "outputs": [
    {
     "name": "stdout",
     "output_type": "stream",
     "text": [
      "<class 'pandas.core.frame.DataFrame'>\n",
      "RangeIndex: 1251211 entries, 0 to 1251210\n",
      "Data columns (total 30 columns):\n",
      " #   Column                 Non-Null Count    Dtype  \n",
      "---  ------                 --------------    -----  \n",
      " 0   PERSON_ID              1251211 non-null  object \n",
      " 1   PERSON_TYPE            1251211 non-null  object \n",
      " 2   CRASH_RECORD_ID        1251211 non-null  object \n",
      " 3   RD_NO                  1242411 non-null  object \n",
      " 4   VEHICLE_ID             1226460 non-null  float64\n",
      " 5   CRASH_DATE             1251211 non-null  object \n",
      " 6   SEAT_NO                255463 non-null   float64\n",
      " 7   CITY                   918813 non-null   object \n",
      " 8   STATE                  929935 non-null   object \n",
      " 9   ZIPCODE                838905 non-null   object \n",
      " 10  SEX                    1232275 non-null  object \n",
      " 11  AGE                    890752 non-null   float64\n",
      " 12  DRIVERS_LICENSE_STATE  737397 non-null   object \n",
      " 13  DRIVERS_LICENSE_CLASS  633054 non-null   object \n",
      " 14  SAFETY_EQUIPMENT       1247568 non-null  object \n",
      " 15  AIRBAG_DEPLOYED        1227480 non-null  object \n",
      " 16  EJECTION               1235947 non-null  object \n",
      " 17  INJURY_CLASSIFICATION  1250611 non-null  object \n",
      " 18  HOSPITAL               223881 non-null   object \n",
      " 19  EMS_AGENCY             141162 non-null   object \n",
      " 20  EMS_RUN_NO             23091 non-null    object \n",
      " 21  DRIVER_ACTION          993389 non-null   object \n",
      " 22  DRIVER_VISION          993033 non-null   object \n",
      " 23  PHYSICAL_CONDITION     994087 non-null   object \n",
      " 24  PEDPEDAL_ACTION        23342 non-null    object \n",
      " 25  PEDPEDAL_VISIBILITY    23291 non-null    object \n",
      " 26  PEDPEDAL_LOCATION      23340 non-null    object \n",
      " 27  BAC_RESULT             994476 non-null   object \n",
      " 28  BAC_RESULT VALUE       1568 non-null     float64\n",
      " 29  CELL_PHONE_USE         1157 non-null     object \n",
      "dtypes: float64(4), object(26)\n",
      "memory usage: 286.4+ MB\n"
     ]
    }
   ],
   "source": [
    "df_people.info()"
   ]
  },
  {
   "cell_type": "code",
   "execution_count": 6,
   "metadata": {},
   "outputs": [
    {
     "name": "stdout",
     "output_type": "stream",
     "text": [
      "<class 'pandas.core.frame.DataFrame'>\n",
      "RangeIndex: 1162795 entries, 0 to 1162794\n",
      "Data columns (total 72 columns):\n",
      " #   Column                    Non-Null Count    Dtype  \n",
      "---  ------                    --------------    -----  \n",
      " 0   CRASH_UNIT_ID             1162795 non-null  int64  \n",
      " 1   CRASH_RECORD_ID           1162795 non-null  object \n",
      " 2   RD_NO                     1154843 non-null  object \n",
      " 3   CRASH_DATE                1162795 non-null  object \n",
      " 4   UNIT_NO                   1162795 non-null  int64  \n",
      " 5   UNIT_TYPE                 1161127 non-null  object \n",
      " 6   NUM_PASSENGERS            173909 non-null   float64\n",
      " 7   VEHICLE_ID                1136152 non-null  float64\n",
      " 8   CMRC_VEH_I                21466 non-null    object \n",
      " 9   MAKE                      1136147 non-null  object \n",
      " 10  MODEL                     1136003 non-null  object \n",
      " 11  LIC_PLATE_STATE           1035993 non-null  object \n",
      " 12  VEHICLE_YEAR              950868 non-null   float64\n",
      " 13  VEHICLE_DEFECT            1136152 non-null  object \n",
      " 14  VEHICLE_TYPE              1136152 non-null  object \n",
      " 15  VEHICLE_USE               1136152 non-null  object \n",
      " 16  TRAVEL_DIRECTION          1136152 non-null  object \n",
      " 17  MANEUVER                  1136152 non-null  object \n",
      " 18  TOWED_I                   137769 non-null   object \n",
      " 19  FIRE_I                    898 non-null      object \n",
      " 20  OCCUPANT_CNT              1136152 non-null  float64\n",
      " 21  EXCEED_SPEED_LIMIT_I      2393 non-null     object \n",
      " 22  TOWED_BY                  101673 non-null   object \n",
      " 23  TOWED_TO                  62894 non-null    object \n",
      " 24  AREA_00_I                 43170 non-null    object \n",
      " 25  AREA_01_I                 303956 non-null   object \n",
      " 26  AREA_02_I                 192701 non-null   object \n",
      " 27  AREA_03_I                 110267 non-null   object \n",
      " 28  AREA_04_I                 113663 non-null   object \n",
      " 29  AREA_05_I                 174291 non-null   object \n",
      " 30  AREA_06_I                 177291 non-null   object \n",
      " 31  AREA_07_I                 156048 non-null   object \n",
      " 32  AREA_08_I                 184820 non-null   object \n",
      " 33  AREA_09_I                 58895 non-null    object \n",
      " 34  AREA_10_I                 84637 non-null    object \n",
      " 35  AREA_11_I                 166742 non-null   object \n",
      " 36  AREA_12_I                 164163 non-null   object \n",
      " 37  AREA_99_I                 125034 non-null   object \n",
      " 38  FIRST_CONTACT_POINT       1127103 non-null  object \n",
      " 39  CMV_ID                    12148 non-null    float64\n",
      " 40  USDOT_NO                  7044 non-null     object \n",
      " 41  CCMC_NO                   1546 non-null     object \n",
      " 42  ILCC_NO                   1112 non-null     object \n",
      " 43  COMMERCIAL_SRC            8510 non-null     object \n",
      " 44  GVWR                      7022 non-null     object \n",
      " 45  CARRIER_NAME              11635 non-null    object \n",
      " 46  CARRIER_STATE             10980 non-null    object \n",
      " 47  CARRIER_CITY              10783 non-null    object \n",
      " 48  HAZMAT_PLACARDS_I         244 non-null      object \n",
      " 49  HAZMAT_NAME               48 non-null       object \n",
      " 50  UN_NO                     446 non-null      object \n",
      " 51  HAZMAT_PRESENT_I          8976 non-null     object \n",
      " 52  HAZMAT_REPORT_I           8693 non-null     object \n",
      " 53  HAZMAT_REPORT_NO          1 non-null        object \n",
      " 54  MCS_REPORT_I              8746 non-null     object \n",
      " 55  MCS_REPORT_NO             6 non-null        object \n",
      " 56  HAZMAT_VIO_CAUSE_CRASH_I  8833 non-null     object \n",
      " 57  MCS_VIO_CAUSE_CRASH_I     8683 non-null     object \n",
      " 58  IDOT_PERMIT_NO            717 non-null      object \n",
      " 59  WIDE_LOAD_I               106 non-null      object \n",
      " 60  TRAILER1_WIDTH            2373 non-null     object \n",
      " 61  TRAILER2_WIDTH            275 non-null      object \n",
      " 62  TRAILER1_LENGTH           1967 non-null     float64\n",
      " 63  TRAILER2_LENGTH           53 non-null       float64\n",
      " 64  TOTAL_VEHICLE_LENGTH      2368 non-null     float64\n",
      " 65  AXLE_CNT                  3437 non-null     float64\n",
      " 66  VEHICLE_CONFIG            10123 non-null    object \n",
      " 67  CARGO_BODY_TYPE           9698 non-null     object \n",
      " 68  LOAD_TYPE                 9284 non-null     object \n",
      " 69  HAZMAT_OUT_OF_SERVICE_I   8425 non-null     object \n",
      " 70  MCS_OUT_OF_SERVICE_I      8663 non-null     object \n",
      " 71  HAZMAT_CLASS              836 non-null      object \n",
      "dtypes: float64(9), int64(2), object(61)\n",
      "memory usage: 638.7+ MB\n"
     ]
    }
   ],
   "source": [
    "df_vehicles.info()"
   ]
  },
  {
   "cell_type": "code",
   "execution_count": 7,
   "metadata": {},
   "outputs": [
    {
     "data": {
      "text/plain": [
       "(567797, 49)"
      ]
     },
     "execution_count": 7,
     "metadata": {},
     "output_type": "execute_result"
    }
   ],
   "source": [
    "df.shape"
   ]
  },
  {
   "cell_type": "markdown",
   "metadata": {},
   "source": [
    "# Data Preparation"
   ]
  },
  {
   "cell_type": "code",
   "execution_count": 8,
   "metadata": {},
   "outputs": [],
   "source": [
    "#Merging Datasets on the Crash_Record_ID Column\n",
    "df_merge = pd.merge(df, df_vehicles, on='CRASH_RECORD_ID').reset_index()\n",
    "df_merge_2 = pd.merge(df_merge, df_people, on='CRASH_RECORD_ID').reset_index()\n",
    "#dropping dupllicates(basically only having one instance of the crashID on there)\n",
    "df_dropped= df_merge_2.drop_duplicates(subset=['CRASH_RECORD_ID'], keep='first')\n",
    "#Taking only necessary columns\n",
    "columns = ['CRASH_RECORD_ID', 'RD_NO_x', 'CRASH_DATE_x', 'POSTED_SPEED_LIMIT', 'TRAFFIC_CONTROL_DEVICE', 'DEVICE_CONDITION', 'WEATHER_CONDITION', 'LIGHTING_CONDITION', 'FIRST_CRASH_TYPE', 'TRAFFICWAY_TYPE', 'LANE_CNT', 'ALIGNMENT', 'ROADWAY_SURFACE_COND', 'ROAD_DEFECT', 'CRASH_TYPE', 'INTERSECTION_RELATED_I', 'NOT_RIGHT_OF_WAY_I', 'HIT_AND_RUN_I', 'DAMAGE', 'PRIM_CONTRIBUTORY_CAUSE', 'SEC_CONTRIBUTORY_CAUSE', 'STREET_NO', 'STREET_DIRECTION', 'STREET_NAME',  'DOORING_I', 'WORK_ZONE_I', 'WORK_ZONE_TYPE', 'WORKERS_PRESENT_I', 'NUM_UNITS', 'MOST_SEVERE_INJURY', 'INJURIES_TOTAL', 'INJURIES_FATAL', 'INJURIES_INCAPACITATING', 'INJURIES_NON_INCAPACITATING', 'INJURIES_REPORTED_NOT_EVIDENT', 'INJURIES_NO_INDICATION', 'INJURIES_UNKNOWN', 'CRASH_HOUR', 'CRASH_DAY_OF_WEEK', 'CRASH_MONTH', 'LATITUDE', 'LONGITUDE', 'LOCATION', 'RD_NO_y', 'UNIT_NO', 'UNIT_TYPE', 'NUM_PASSENGERS', 'VEHICLE_ID_x', 'CMRC_VEH_I', 'MAKE', 'MODEL', 'VEHICLE_YEAR', 'VEHICLE_DEFECT', 'VEHICLE_TYPE', 'TRAVEL_DIRECTION', 'MANEUVER', 'OCCUPANT_CNT', 'EXCEED_SPEED_LIMIT_I', 'FIRST_CONTACT_POINT', 'PERSON_TYPE', 'CITY', 'STATE', 'ZIPCODE', 'SEX', 'AGE',  'AIRBAG_DEPLOYED', 'EJECTION', 'INJURY_CLASSIFICATION', 'DRIVER_VISION','PHYSICAL_CONDITION', 'PEDPEDAL_ACTION', 'PEDPEDAL_VISIBILITY', 'PEDPEDAL_LOCATION', 'BAC_RESULT', 'BAC_RESULT VALUE', 'CELL_PHONE_USE']\n",
    "df_comb = df_dropped[columns]"
   ]
  },
  {
   "cell_type": "code",
   "execution_count": 9,
   "metadata": {},
   "outputs": [
    {
     "name": "stderr",
     "output_type": "stream",
     "text": [
      "<ipython-input-9-6efbe8c7bb70>:2: SettingWithCopyWarning: \n",
      "A value is trying to be set on a copy of a slice from a DataFrame.\n",
      "Try using .loc[row_indexer,col_indexer] = value instead\n",
      "\n",
      "See the caveats in the documentation: https://pandas.pydata.org/pandas-docs/stable/user_guide/indexing.html#returning-a-view-versus-a-copy\n",
      "  df_comb['date'] = pd.to_datetime(df_comb['CRASH_DATE_x'])\n",
      "<ipython-input-9-6efbe8c7bb70>:3: SettingWithCopyWarning: \n",
      "A value is trying to be set on a copy of a slice from a DataFrame.\n",
      "Try using .loc[row_indexer,col_indexer] = value instead\n",
      "\n",
      "See the caveats in the documentation: https://pandas.pydata.org/pandas-docs/stable/user_guide/indexing.html#returning-a-view-versus-a-copy\n",
      "  df_comb['Crash_year'] = df_comb['date'].apply(lambda date: date.year)\n"
     ]
    }
   ],
   "source": [
    "#Taking the Year from the date column\n",
    "df_comb['date'] = pd.to_datetime(df_comb['CRASH_DATE_x'])\n",
    "df_comb['Crash_year'] = df_comb['date'].apply(lambda date: date.year)\n",
    "#only accidents with the driver\n",
    "df_driver = df_comb[df_comb['PERSON_TYPE']=='DRIVER']\n",
    "#necessary columns\n",
    "new_columns = ['CRASH_RECORD_ID', 'CRASH_DATE_x', 'POSTED_SPEED_LIMIT',\n",
    "       'TRAFFIC_CONTROL_DEVICE', 'DEVICE_CONDITION', 'WEATHER_CONDITION',\n",
    "       'LIGHTING_CONDITION', 'FIRST_CRASH_TYPE', 'TRAFFICWAY_TYPE',\n",
    "       'ALIGNMENT', 'ROADWAY_SURFACE_COND', 'ROAD_DEFECT', 'CRASH_TYPE',\n",
    "       'DAMAGE', 'PRIM_CONTRIBUTORY_CAUSE', 'SEC_CONTRIBUTORY_CAUSE','NUM_UNITS',\n",
    "       'MOST_SEVERE_INJURY', 'INJURIES_TOTAL', 'INJURIES_FATAL',\n",
    "       'INJURIES_INCAPACITATING', 'INJURIES_NON_INCAPACITATING',\n",
    "       'INJURIES_REPORTED_NOT_EVIDENT','CRASH_HOUR', 'CRASH_DAY_OF_WEEK', 'CRASH_MONTH',\n",
    "       'LATITUDE', 'LONGITUDE', 'MAKE', 'MODEL',\n",
    "       'VEHICLE_YEAR', 'VEHICLE_DEFECT', 'VEHICLE_TYPE',\n",
    "       'MANEUVER', 'OCCUPANT_CNT', \n",
    "       'FIRST_CONTACT_POINT', 'PERSON_TYPE','SEX',\n",
    "       'AGE', 'AIRBAG_DEPLOYED', 'EJECTION', 'INJURY_CLASSIFICATION','DRIVER_VISION',\n",
    "       'PHYSICAL_CONDITION', 'Crash_year']"
   ]
  },
  {
   "cell_type": "code",
   "execution_count": 10,
   "metadata": {},
   "outputs": [
    {
     "data": {
      "text/plain": [
       "PEDPEDAL_LOCATION              544771\n",
       "PEDPEDAL_VISIBILITY            544771\n",
       "PEDPEDAL_ACTION                544771\n",
       "CELL_PHONE_USE                 543952\n",
       "WORKERS_PRESENT_I              543936\n",
       "                                ...  \n",
       "INJURIES_NON_INCAPACITATING         0\n",
       "INJURIES_INCAPACITATING             0\n",
       "INJURIES_FATAL                      0\n",
       "INJURIES_TOTAL                      0\n",
       "CRASH_RECORD_ID                     0\n",
       "Length: 78, dtype: int64"
      ]
     },
     "execution_count": 10,
     "metadata": {},
     "output_type": "execute_result"
    }
   ],
   "source": [
    "#going to drop columns with lots of missing values\n",
    "pd.isnull(df_driver).sum().sort_values(ascending=False)"
   ]
  },
  {
   "cell_type": "code",
   "execution_count": 11,
   "metadata": {},
   "outputs": [
    {
     "data": {
      "text/plain": [
       "AGE                              216583\n",
       "VEHICLE_YEAR                     143076\n",
       "FIRST_CONTACT_POINT                7332\n",
       "LONGITUDE                          3197\n",
       "LATITUDE                           3197\n",
       "MODEL                              2744\n",
       "MAKE                               2678\n",
       "OCCUPANT_CNT                       2675\n",
       "MANEUVER                           2675\n",
       "VEHICLE_TYPE                       2675\n",
       "VEHICLE_DEFECT                     2675\n",
       "SEX                                  89\n",
       "CRASH_TYPE                            0\n",
       "ROAD_DEFECT                           0\n",
       "ROADWAY_SURFACE_COND                  0\n",
       "DAMAGE                                0\n",
       "ALIGNMENT                             0\n",
       "FIRST_CRASH_TYPE                      0\n",
       "TRAFFICWAY_TYPE                       0\n",
       "Crash_year                            0\n",
       "LIGHTING_CONDITION                    0\n",
       "SEC_CONTRIBUTORY_CAUSE                0\n",
       "WEATHER_CONDITION                     0\n",
       "DEVICE_CONDITION                      0\n",
       "TRAFFIC_CONTROL_DEVICE                0\n",
       "POSTED_SPEED_LIMIT                    0\n",
       "CRASH_DATE_x                          0\n",
       "PRIM_CONTRIBUTORY_CAUSE               0\n",
       "INJURIES_REPORTED_NOT_EVIDENT         0\n",
       "NUM_UNITS                             0\n",
       "MOST_SEVERE_INJURY                    0\n",
       "INJURIES_TOTAL                        0\n",
       "INJURIES_FATAL                        0\n",
       "INJURIES_INCAPACITATING               0\n",
       "INJURIES_NON_INCAPACITATING           0\n",
       "PHYSICAL_CONDITION                    0\n",
       "CRASH_HOUR                            0\n",
       "CRASH_DAY_OF_WEEK                     0\n",
       "CRASH_MONTH                           0\n",
       "PERSON_TYPE                           0\n",
       "AIRBAG_DEPLOYED                       0\n",
       "EJECTION                              0\n",
       "INJURY_CLASSIFICATION                 0\n",
       "DRIVER_VISION                         0\n",
       "CRASH_RECORD_ID                       0\n",
       "dtype: int64"
      ]
     },
     "execution_count": 11,
     "metadata": {},
     "output_type": "execute_result"
    }
   ],
   "source": [
    "#Dataframe with the new columns\n",
    "df_driver = df_driver[new_columns]\n",
    "#check for nulls\n",
    "pd.isnull(df_driver).sum().sort_values(ascending=False)"
   ]
  },
  {
   "cell_type": "code",
   "execution_count": 12,
   "metadata": {},
   "outputs": [],
   "source": [
    "#dropping missing values\n",
    "df_driver.dropna(axis=0, subset=['LATITUDE'], inplace =True)\n",
    "df_driver.dropna(axis=0, subset=['LONGITUDE'], inplace =True)\n",
    "df_driver.dropna(axis=0, subset=['MODEL'], inplace =True)\n",
    "df_driver.dropna(axis=0, subset=['MAKE'], inplace =True)\n",
    "df_driver.dropna(axis=0, subset=['FIRST_CONTACT_POINT'], inplace =True)"
   ]
  },
  {
   "cell_type": "code",
   "execution_count": 13,
   "metadata": {},
   "outputs": [
    {
     "data": {
      "text/plain": [
       "AGE                     213764\n",
       "VEHICLE_YEAR            139129\n",
       "SEX                         89\n",
       "Crash_year                   0\n",
       "ROADWAY_SURFACE_COND         0\n",
       "dtype: int64"
      ]
     },
     "execution_count": 13,
     "metadata": {},
     "output_type": "execute_result"
    }
   ],
   "source": [
    "pd.isnull(df_driver).sum().sort_values(ascending=False).iloc[:5]"
   ]
  },
  {
   "cell_type": "code",
   "execution_count": 14,
   "metadata": {
    "scrolled": false
   },
   "outputs": [
    {
     "data": {
      "text/plain": [
       "0.0    533745\n",
       "1.0       460\n",
       "2.0        27\n",
       "3.0         4\n",
       "4.0         1\n",
       "Name: INJURIES_FATAL, dtype: int64"
      ]
     },
     "execution_count": 14,
     "metadata": {},
     "output_type": "execute_result"
    }
   ],
   "source": [
    "df_driver.INJURIES_FATAL.value_counts()"
   ]
  },
  {
   "cell_type": "code",
   "execution_count": 15,
   "metadata": {
    "scrolled": true
   },
   "outputs": [
    {
     "data": {
      "text/plain": [
       "25.0     10240\n",
       "26.0     10015\n",
       "24.0      9827\n",
       "27.0      9809\n",
       "28.0      9554\n",
       "         ...  \n",
       "104.0        2\n",
       "107.0        1\n",
       "109.0        1\n",
       "110.0        1\n",
       "108.0        1\n",
       "Name: AGE, Length: 108, dtype: int64"
      ]
     },
     "execution_count": 15,
     "metadata": {},
     "output_type": "execute_result"
    }
   ],
   "source": [
    "df_driver.AGE.value_counts()"
   ]
  },
  {
   "cell_type": "code",
   "execution_count": 16,
   "metadata": {},
   "outputs": [
    {
     "data": {
      "text/plain": [
       "M    280128\n",
       "F    160642\n",
       "X     93378\n",
       "Name: SEX, dtype: int64"
      ]
     },
     "execution_count": 16,
     "metadata": {},
     "output_type": "execute_result"
    }
   ],
   "source": [
    "df_driver.SEX.value_counts()"
   ]
  },
  {
   "cell_type": "code",
   "execution_count": 17,
   "metadata": {
    "scrolled": false
   },
   "outputs": [
    {
     "data": {
      "text/plain": [
       "2015.0    27361\n",
       "2016.0    25192\n",
       "2014.0    24892\n",
       "2017.0    23456\n",
       "2013.0    23128\n",
       "          ...  \n",
       "2997.0        1\n",
       "2918.0        1\n",
       "2818.0        1\n",
       "9418.0        1\n",
       "2049.0        1\n",
       "Name: VEHICLE_YEAR, Length: 150, dtype: int64"
      ]
     },
     "execution_count": 17,
     "metadata": {},
     "output_type": "execute_result"
    }
   ],
   "source": [
    "df_driver.VEHICLE_YEAR.value_counts()"
   ]
  },
  {
   "cell_type": "code",
   "execution_count": 18,
   "metadata": {
    "scrolled": true
   },
   "outputs": [
    {
     "data": {
      "text/plain": [
       "count    395108.000000\n",
       "mean       2015.420855\n",
       "std         211.108701\n",
       "min        1900.000000\n",
       "25%        2005.000000\n",
       "50%        2011.000000\n",
       "75%        2015.000000\n",
       "max        9999.000000\n",
       "Name: VEHICLE_YEAR, dtype: float64"
      ]
     },
     "execution_count": 18,
     "metadata": {},
     "output_type": "execute_result"
    }
   ],
   "source": [
    "df_driver.VEHICLE_YEAR.describe()"
   ]
  },
  {
   "cell_type": "code",
   "execution_count": 19,
   "metadata": {},
   "outputs": [
    {
     "data": {
      "text/plain": [
       "(394225, 45)"
      ]
     },
     "execution_count": 19,
     "metadata": {},
     "output_type": "execute_result"
    }
   ],
   "source": [
    "# Handling nulls for AGE, SEX, and VEHICLE_YEAR\n",
    "df_driver = df_driver[(df_driver.VEHICLE_YEAR>=1970) & (df_driver.VEHICLE_YEAR <=2021)]\n",
    "df_driver.AGE.replace({np.NAN: df_driver.AGE.median()},inplace=True)\n",
    "df_driver.SEX.replace({np.NAN : 'X'},inplace=True)\n",
    "# Reassigning values for INJURIES FATAL\n",
    "df_driver.INJURIES_FATAL.replace({0.0:0, 1.0:1, 2.0:1, 3.0:1, 4.0:1}, inplace=True)\n",
    "df_driver.shape"
   ]
  },
  {
   "cell_type": "code",
   "execution_count": 20,
   "metadata": {},
   "outputs": [
    {
     "data": {
      "text/plain": [
       "CRASH_RECORD_ID                  0\n",
       "CRASH_DATE_x                     0\n",
       "POSTED_SPEED_LIMIT               0\n",
       "TRAFFIC_CONTROL_DEVICE           0\n",
       "DEVICE_CONDITION                 0\n",
       "WEATHER_CONDITION                0\n",
       "LIGHTING_CONDITION               0\n",
       "FIRST_CRASH_TYPE                 0\n",
       "TRAFFICWAY_TYPE                  0\n",
       "ALIGNMENT                        0\n",
       "ROADWAY_SURFACE_COND             0\n",
       "ROAD_DEFECT                      0\n",
       "CRASH_TYPE                       0\n",
       "DAMAGE                           0\n",
       "PRIM_CONTRIBUTORY_CAUSE          0\n",
       "SEC_CONTRIBUTORY_CAUSE           0\n",
       "NUM_UNITS                        0\n",
       "MOST_SEVERE_INJURY               0\n",
       "INJURIES_TOTAL                   0\n",
       "INJURIES_FATAL                   0\n",
       "INJURIES_INCAPACITATING          0\n",
       "INJURIES_NON_INCAPACITATING      0\n",
       "INJURIES_REPORTED_NOT_EVIDENT    0\n",
       "CRASH_HOUR                       0\n",
       "CRASH_DAY_OF_WEEK                0\n",
       "CRASH_MONTH                      0\n",
       "LATITUDE                         0\n",
       "LONGITUDE                        0\n",
       "MAKE                             0\n",
       "MODEL                            0\n",
       "VEHICLE_YEAR                     0\n",
       "VEHICLE_DEFECT                   0\n",
       "VEHICLE_TYPE                     0\n",
       "MANEUVER                         0\n",
       "OCCUPANT_CNT                     0\n",
       "FIRST_CONTACT_POINT              0\n",
       "PERSON_TYPE                      0\n",
       "SEX                              0\n",
       "AGE                              0\n",
       "AIRBAG_DEPLOYED                  0\n",
       "EJECTION                         0\n",
       "INJURY_CLASSIFICATION            0\n",
       "DRIVER_VISION                    0\n",
       "PHYSICAL_CONDITION               0\n",
       "Crash_year                       0\n",
       "dtype: int64"
      ]
     },
     "execution_count": 20,
     "metadata": {},
     "output_type": "execute_result"
    }
   ],
   "source": [
    "df_driver.isna().sum()"
   ]
  },
  {
   "cell_type": "code",
   "execution_count": 21,
   "metadata": {
    "scrolled": false
   },
   "outputs": [],
   "source": [
    "# df_driver.hist(figsize=(20,20), bins='auto');"
   ]
  },
  {
   "cell_type": "code",
   "execution_count": 22,
   "metadata": {},
   "outputs": [],
   "source": [
    "# dropping columns we do not need\n",
    "columns_to_drop = ['CRASH_RECORD_ID','CRASH_DATE_x','INJURIES_TOTAL','INJURIES_INCAPACITATING',\n",
    "                   'INJURIES_NON_INCAPACITATING','INJURIES_REPORTED_NOT_EVIDENT','MAKE','MOST_SEVERE_INJURY',\n",
    "                   'MODEL','VEHICLE_YEAR','OCCUPANT_CNT','PERSON_TYPE',\n",
    "                   'INJURY_CLASSIFICATION','CRASH_TYPE','LONGITUDE','LATITUDE','Crash_year']\n",
    "\n",
    "df_driver = df_driver.drop(columns_to_drop,axis=1)"
   ]
  },
  {
   "cell_type": "code",
   "execution_count": 23,
   "metadata": {},
   "outputs": [
    {
     "name": "stdout",
     "output_type": "stream",
     "text": [
      "<class 'pandas.core.frame.DataFrame'>\n",
      "Int64Index: 394225 entries, 0 to 2652377\n",
      "Data columns (total 28 columns):\n",
      " #   Column                   Non-Null Count   Dtype  \n",
      "---  ------                   --------------   -----  \n",
      " 0   POSTED_SPEED_LIMIT       394225 non-null  int64  \n",
      " 1   TRAFFIC_CONTROL_DEVICE   394225 non-null  object \n",
      " 2   DEVICE_CONDITION         394225 non-null  object \n",
      " 3   WEATHER_CONDITION        394225 non-null  object \n",
      " 4   LIGHTING_CONDITION       394225 non-null  object \n",
      " 5   FIRST_CRASH_TYPE         394225 non-null  object \n",
      " 6   TRAFFICWAY_TYPE          394225 non-null  object \n",
      " 7   ALIGNMENT                394225 non-null  object \n",
      " 8   ROADWAY_SURFACE_COND     394225 non-null  object \n",
      " 9   ROAD_DEFECT              394225 non-null  object \n",
      " 10  DAMAGE                   394225 non-null  object \n",
      " 11  PRIM_CONTRIBUTORY_CAUSE  394225 non-null  object \n",
      " 12  SEC_CONTRIBUTORY_CAUSE   394225 non-null  object \n",
      " 13  NUM_UNITS                394225 non-null  int64  \n",
      " 14  INJURIES_FATAL           394225 non-null  float64\n",
      " 15  CRASH_HOUR               394225 non-null  int64  \n",
      " 16  CRASH_DAY_OF_WEEK        394225 non-null  int64  \n",
      " 17  CRASH_MONTH              394225 non-null  int64  \n",
      " 18  VEHICLE_DEFECT           394225 non-null  object \n",
      " 19  VEHICLE_TYPE             394225 non-null  object \n",
      " 20  MANEUVER                 394225 non-null  object \n",
      " 21  FIRST_CONTACT_POINT      394225 non-null  object \n",
      " 22  SEX                      394225 non-null  object \n",
      " 23  AGE                      394225 non-null  float64\n",
      " 24  AIRBAG_DEPLOYED          394225 non-null  object \n",
      " 25  EJECTION                 394225 non-null  object \n",
      " 26  DRIVER_VISION            394225 non-null  object \n",
      " 27  PHYSICAL_CONDITION       394225 non-null  object \n",
      "dtypes: float64(2), int64(5), object(21)\n",
      "memory usage: 87.2+ MB\n"
     ]
    }
   ],
   "source": [
    "df_driver.info()"
   ]
  },
  {
   "cell_type": "code",
   "execution_count": 24,
   "metadata": {
    "scrolled": true
   },
   "outputs": [
    {
     "data": {
      "text/html": [
       "<div>\n",
       "<style scoped>\n",
       "    .dataframe tbody tr th:only-of-type {\n",
       "        vertical-align: middle;\n",
       "    }\n",
       "\n",
       "    .dataframe tbody tr th {\n",
       "        vertical-align: top;\n",
       "    }\n",
       "\n",
       "    .dataframe thead th {\n",
       "        text-align: right;\n",
       "    }\n",
       "</style>\n",
       "<table border=\"1\" class=\"dataframe\">\n",
       "  <thead>\n",
       "    <tr style=\"text-align: right;\">\n",
       "      <th></th>\n",
       "      <th>POSTED_SPEED_LIMIT</th>\n",
       "      <th>NUM_UNITS</th>\n",
       "      <th>INJURIES_FATAL</th>\n",
       "      <th>CRASH_HOUR</th>\n",
       "      <th>CRASH_DAY_OF_WEEK</th>\n",
       "      <th>CRASH_MONTH</th>\n",
       "      <th>AGE</th>\n",
       "    </tr>\n",
       "  </thead>\n",
       "  <tbody>\n",
       "    <tr>\n",
       "      <th>count</th>\n",
       "      <td>394225.000000</td>\n",
       "      <td>394225.000000</td>\n",
       "      <td>394225.000000</td>\n",
       "      <td>394225.000000</td>\n",
       "      <td>394225.000000</td>\n",
       "      <td>394225.000000</td>\n",
       "      <td>394225.000000</td>\n",
       "    </tr>\n",
       "    <tr>\n",
       "      <th>mean</th>\n",
       "      <td>28.537168</td>\n",
       "      <td>2.031928</td>\n",
       "      <td>0.001081</td>\n",
       "      <td>13.355028</td>\n",
       "      <td>4.145140</td>\n",
       "      <td>6.765497</td>\n",
       "      <td>38.447011</td>\n",
       "    </tr>\n",
       "    <tr>\n",
       "      <th>std</th>\n",
       "      <td>6.242392</td>\n",
       "      <td>0.466482</td>\n",
       "      <td>0.032855</td>\n",
       "      <td>5.364024</td>\n",
       "      <td>1.961999</td>\n",
       "      <td>3.387799</td>\n",
       "      <td>14.434861</td>\n",
       "    </tr>\n",
       "    <tr>\n",
       "      <th>min</th>\n",
       "      <td>0.000000</td>\n",
       "      <td>1.000000</td>\n",
       "      <td>0.000000</td>\n",
       "      <td>0.000000</td>\n",
       "      <td>1.000000</td>\n",
       "      <td>1.000000</td>\n",
       "      <td>0.000000</td>\n",
       "    </tr>\n",
       "    <tr>\n",
       "      <th>25%</th>\n",
       "      <td>30.000000</td>\n",
       "      <td>2.000000</td>\n",
       "      <td>0.000000</td>\n",
       "      <td>10.000000</td>\n",
       "      <td>2.000000</td>\n",
       "      <td>4.000000</td>\n",
       "      <td>29.000000</td>\n",
       "    </tr>\n",
       "    <tr>\n",
       "      <th>50%</th>\n",
       "      <td>30.000000</td>\n",
       "      <td>2.000000</td>\n",
       "      <td>0.000000</td>\n",
       "      <td>14.000000</td>\n",
       "      <td>4.000000</td>\n",
       "      <td>7.000000</td>\n",
       "      <td>36.000000</td>\n",
       "    </tr>\n",
       "    <tr>\n",
       "      <th>75%</th>\n",
       "      <td>30.000000</td>\n",
       "      <td>2.000000</td>\n",
       "      <td>0.000000</td>\n",
       "      <td>17.000000</td>\n",
       "      <td>6.000000</td>\n",
       "      <td>10.000000</td>\n",
       "      <td>46.000000</td>\n",
       "    </tr>\n",
       "    <tr>\n",
       "      <th>max</th>\n",
       "      <td>99.000000</td>\n",
       "      <td>18.000000</td>\n",
       "      <td>1.000000</td>\n",
       "      <td>23.000000</td>\n",
       "      <td>7.000000</td>\n",
       "      <td>12.000000</td>\n",
       "      <td>110.000000</td>\n",
       "    </tr>\n",
       "  </tbody>\n",
       "</table>\n",
       "</div>"
      ],
      "text/plain": [
       "       POSTED_SPEED_LIMIT      NUM_UNITS  INJURIES_FATAL     CRASH_HOUR  \\\n",
       "count       394225.000000  394225.000000   394225.000000  394225.000000   \n",
       "mean            28.537168       2.031928        0.001081      13.355028   \n",
       "std              6.242392       0.466482        0.032855       5.364024   \n",
       "min              0.000000       1.000000        0.000000       0.000000   \n",
       "25%             30.000000       2.000000        0.000000      10.000000   \n",
       "50%             30.000000       2.000000        0.000000      14.000000   \n",
       "75%             30.000000       2.000000        0.000000      17.000000   \n",
       "max             99.000000      18.000000        1.000000      23.000000   \n",
       "\n",
       "       CRASH_DAY_OF_WEEK    CRASH_MONTH            AGE  \n",
       "count      394225.000000  394225.000000  394225.000000  \n",
       "mean            4.145140       6.765497      38.447011  \n",
       "std             1.961999       3.387799      14.434861  \n",
       "min             1.000000       1.000000       0.000000  \n",
       "25%             2.000000       4.000000      29.000000  \n",
       "50%             4.000000       7.000000      36.000000  \n",
       "75%             6.000000      10.000000      46.000000  \n",
       "max             7.000000      12.000000     110.000000  "
      ]
     },
     "execution_count": 24,
     "metadata": {},
     "output_type": "execute_result"
    }
   ],
   "source": [
    "df_driver.describe()"
   ]
  },
  {
   "cell_type": "code",
   "execution_count": 25,
   "metadata": {},
   "outputs": [
    {
     "data": {
      "text/plain": [
       "(394225, 28)"
      ]
     },
     "execution_count": 25,
     "metadata": {},
     "output_type": "execute_result"
    }
   ],
   "source": [
    "df_driver.shape"
   ]
  },
  {
   "cell_type": "code",
   "execution_count": 26,
   "metadata": {
    "scrolled": false
   },
   "outputs": [
    {
     "data": {
      "text/plain": [
       "UNABLE TO DETERMINE                                                                 127332\n",
       "FAILING TO YIELD RIGHT-OF-WAY                                                        49379\n",
       "FOLLOWING TOO CLOSELY                                                                46437\n",
       "FAILING TO REDUCE SPEED TO AVOID CRASH                                               19150\n",
       "IMPROPER OVERTAKING/PASSING                                                          18897\n",
       "IMPROPER BACKING                                                                     18580\n",
       "NOT APPLICABLE                                                                       17298\n",
       "IMPROPER LANE USAGE                                                                  15821\n",
       "IMPROPER TURNING/NO SIGNAL                                                           14765\n",
       "DRIVING SKILLS/KNOWLEDGE/EXPERIENCE                                                  13334\n",
       "DISREGARDING TRAFFIC SIGNALS                                                          7797\n",
       "WEATHER                                                                               7438\n",
       "OPERATING VEHICLE IN ERRATIC, RECKLESS, CARELESS, NEGLIGENT OR AGGRESSIVE MANNER      4541\n",
       "DISREGARDING STOP SIGN                                                                4473\n",
       "DISTRACTION - FROM INSIDE VEHICLE                                                     3637\n",
       "EQUIPMENT - VEHICLE CONDITION                                                         3081\n",
       "PHYSICAL CONDITION OF DRIVER                                                          2999\n",
       "VISION OBSCURED (SIGNS, TREE LIMBS, BUILDINGS, ETC.)                                  2786\n",
       "UNDER THE INFLUENCE OF ALCOHOL/DRUGS (USE WHEN ARREST IS EFFECTED)                    2729\n",
       "DISTRACTION - FROM OUTSIDE VEHICLE                                                    2166\n",
       "DRIVING ON WRONG SIDE/WRONG WAY                                                       1834\n",
       "EXCEEDING AUTHORIZED SPEED LIMIT                                                      1365\n",
       "EXCEEDING SAFE SPEED FOR CONDITIONS                                                   1333\n",
       "ROAD ENGINEERING/SURFACE/MARKING DEFECTS                                              1168\n",
       "ROAD CONSTRUCTION/MAINTENANCE                                                         1036\n",
       "EVASIVE ACTION DUE TO ANIMAL, OBJECT, NONMOTORIST                                      881\n",
       "DISREGARDING OTHER TRAFFIC SIGNS                                                       839\n",
       "CELL PHONE USE OTHER THAN TEXTING                                                      653\n",
       "DISREGARDING ROAD MARKINGS                                                             497\n",
       "HAD BEEN DRINKING (USE WHEN ARREST IS NOT MADE)                                        455\n",
       "ANIMAL                                                                                 384\n",
       "TURNING RIGHT ON RED                                                                   301\n",
       "DISTRACTION - OTHER ELECTRONIC DEVICE (NAVIGATION DEVICE, DVD PLAYER, ETC.)            237\n",
       "TEXTING                                                                                203\n",
       "DISREGARDING YIELD SIGN                                                                143\n",
       "RELATED TO BUS STOP                                                                    141\n",
       "PASSING STOPPED SCHOOL BUS                                                              47\n",
       "BICYCLE ADVANCING LEGALLY ON RED LIGHT                                                  30\n",
       "OBSTRUCTED CROSSWALKS                                                                   30\n",
       "MOTORCYCLE ADVANCING LEGALLY ON RED LIGHT                                                8\n",
       "Name: PRIM_CONTRIBUTORY_CAUSE, dtype: int64"
      ]
     },
     "execution_count": 26,
     "metadata": {},
     "output_type": "execute_result"
    }
   ],
   "source": [
    "df_driver.PRIM_CONTRIBUTORY_CAUSE.value_counts()"
   ]
  },
  {
   "cell_type": "code",
   "execution_count": 27,
   "metadata": {
    "scrolled": true
   },
   "outputs": [
    {
     "data": {
      "text/plain": [
       "(266893, 28)"
      ]
     },
     "execution_count": 27,
     "metadata": {},
     "output_type": "execute_result"
    }
   ],
   "source": [
    "# Subsetting df where primary contributory cause is determined\n",
    "df_driver = df_driver[df_driver.PRIM_CONTRIBUTORY_CAUSE != 'UNABLE TO DETERMINE']\n",
    "df_driver.shape"
   ]
  },
  {
   "cell_type": "code",
   "execution_count": 28,
   "metadata": {
    "scrolled": false
   },
   "outputs": [
    {
     "data": {
      "text/plain": [
       "NOT APPLICABLE                                                                      111293\n",
       "UNABLE TO DETERMINE                                                                  57093\n",
       "FAILING TO REDUCE SPEED TO AVOID CRASH                                               17918\n",
       "FAILING TO YIELD RIGHT-OF-WAY                                                        12926\n",
       "DRIVING SKILLS/KNOWLEDGE/EXPERIENCE                                                  12567\n",
       "FOLLOWING TOO CLOSELY                                                                11519\n",
       "IMPROPER OVERTAKING/PASSING                                                           5835\n",
       "IMPROPER LANE USAGE                                                                   5710\n",
       "WEATHER                                                                               5192\n",
       "IMPROPER TURNING/NO SIGNAL                                                            4342\n",
       "IMPROPER BACKING                                                                      3523\n",
       "OPERATING VEHICLE IN ERRATIC, RECKLESS, CARELESS, NEGLIGENT OR AGGRESSIVE MANNER      2494\n",
       "DISREGARDING TRAFFIC SIGNALS                                                          1595\n",
       "VISION OBSCURED (SIGNS, TREE LIMBS, BUILDINGS, ETC.)                                  1567\n",
       "DISTRACTION - FROM INSIDE VEHICLE                                                     1541\n",
       "PHYSICAL CONDITION OF DRIVER                                                          1308\n",
       "DISREGARDING STOP SIGN                                                                1195\n",
       "EXCEEDING SAFE SPEED FOR CONDITIONS                                                   1128\n",
       "EXCEEDING AUTHORIZED SPEED LIMIT                                                       960\n",
       "EQUIPMENT - VEHICLE CONDITION                                                          944\n",
       "UNDER THE INFLUENCE OF ALCOHOL/DRUGS (USE WHEN ARREST IS EFFECTED)                     854\n",
       "DISTRACTION - FROM OUTSIDE VEHICLE                                                     834\n",
       "DRIVING ON WRONG SIDE/WRONG WAY                                                        745\n",
       "ROAD CONSTRUCTION/MAINTENANCE                                                          526\n",
       "ROAD ENGINEERING/SURFACE/MARKING DEFECTS                                               456\n",
       "DISREGARDING ROAD MARKINGS                                                             419\n",
       "DISREGARDING OTHER TRAFFIC SIGNS                                                       389\n",
       "CELL PHONE USE OTHER THAN TEXTING                                                      376\n",
       "HAD BEEN DRINKING (USE WHEN ARREST IS NOT MADE)                                        375\n",
       "EVASIVE ACTION DUE TO ANIMAL, OBJECT, NONMOTORIST                                      256\n",
       "ANIMAL                                                                                 158\n",
       "RELATED TO BUS STOP                                                                    146\n",
       "TURNING RIGHT ON RED                                                                   138\n",
       "DISTRACTION - OTHER ELECTRONIC DEVICE (NAVIGATION DEVICE, DVD PLAYER, ETC.)            137\n",
       "BICYCLE ADVANCING LEGALLY ON RED LIGHT                                                 127\n",
       "DISREGARDING YIELD SIGN                                                                105\n",
       "TEXTING                                                                                 87\n",
       "PASSING STOPPED SCHOOL BUS                                                              48\n",
       "OBSTRUCTED CROSSWALKS                                                                   38\n",
       "MOTORCYCLE ADVANCING LEGALLY ON RED LIGHT                                               29\n",
       "Name: SEC_CONTRIBUTORY_CAUSE, dtype: int64"
      ]
     },
     "execution_count": 28,
     "metadata": {},
     "output_type": "execute_result"
    }
   ],
   "source": [
    "df_driver.SEC_CONTRIBUTORY_CAUSE.value_counts()"
   ]
  },
  {
   "cell_type": "code",
   "execution_count": 29,
   "metadata": {
    "scrolled": true
   },
   "outputs": [
    {
     "data": {
      "text/plain": [
       "(98507, 28)"
      ]
     },
     "execution_count": 29,
     "metadata": {},
     "output_type": "execute_result"
    }
   ],
   "source": [
    "# Subsetting df where Secondary contributory cause is determined and applicable\n",
    "df_driver = df_driver[(df_driver.SEC_CONTRIBUTORY_CAUSE != 'UNABLE TO DETERMINE')]\n",
    "df_driver = df_driver[(df_driver.SEC_CONTRIBUTORY_CAUSE != 'NOT APPLICABLE')]\n",
    "df_driver.shape"
   ]
  },
  {
   "cell_type": "markdown",
   "metadata": {},
   "source": [
    "# Modeling"
   ]
  },
  {
   "cell_type": "code",
   "execution_count": 30,
   "metadata": {},
   "outputs": [
    {
     "data": {
      "text/plain": [
       "Index(['POSTED_SPEED_LIMIT', 'TRAFFIC_CONTROL_DEVICE', 'DEVICE_CONDITION',\n",
       "       'WEATHER_CONDITION', 'LIGHTING_CONDITION', 'FIRST_CRASH_TYPE',\n",
       "       'TRAFFICWAY_TYPE', 'ALIGNMENT', 'ROADWAY_SURFACE_COND', 'ROAD_DEFECT',\n",
       "       'DAMAGE', 'PRIM_CONTRIBUTORY_CAUSE', 'SEC_CONTRIBUTORY_CAUSE',\n",
       "       'NUM_UNITS', 'INJURIES_FATAL', 'CRASH_HOUR', 'CRASH_DAY_OF_WEEK',\n",
       "       'CRASH_MONTH', 'VEHICLE_DEFECT', 'VEHICLE_TYPE', 'MANEUVER',\n",
       "       'FIRST_CONTACT_POINT', 'SEX', 'AGE', 'AIRBAG_DEPLOYED', 'EJECTION',\n",
       "       'DRIVER_VISION', 'PHYSICAL_CONDITION'],\n",
       "      dtype='object')"
      ]
     },
     "execution_count": 30,
     "metadata": {},
     "output_type": "execute_result"
    }
   ],
   "source": [
    "df_driver.columns"
   ]
  },
  {
   "cell_type": "code",
   "execution_count": 31,
   "metadata": {},
   "outputs": [],
   "source": [
    "# Features to try\n",
    "# features = ['AGE', 'CRASH_HOUR','CRASH_DAY_OF_WEEK', 'POSTED_SPEED_LIMIT','PRIM_CONTRIBUTORY_CAUSE',\n",
    "#            'WEATHER_CONDITION','LIGHTING_CONDITION','TRAFFIC_CONTROL_DEVICE','DRIVER_VISION',\n",
    "#            'PHYSICAL_CONDITION','ROADWAY_SURFACE_COND','VEHICLE_DEFECT','EJECTION','INJURIES_FATAL']\n",
    "# test_df = df_driver[features]"
   ]
  },
  {
   "cell_type": "code",
   "execution_count": 32,
   "metadata": {},
   "outputs": [],
   "source": [
    "# Decided Features to use\n",
    "features = ['AGE', 'CRASH_HOUR','CRASH_DAY_OF_WEEK', 'CRASH_MONTH', 'POSTED_SPEED_LIMIT',\n",
    "           'WEATHER_CONDITION','LIGHTING_CONDITION','TRAFFIC_CONTROL_DEVICE',\n",
    "           'PHYSICAL_CONDITION','VEHICLE_DEFECT','INJURIES_FATAL']\n",
    "test_df = df_driver[features]"
   ]
  },
  {
   "cell_type": "markdown",
   "metadata": {},
   "source": [
    "## Train-Test Split"
   ]
  },
  {
   "cell_type": "code",
   "execution_count": 34,
   "metadata": {},
   "outputs": [
    {
     "name": "stdout",
     "output_type": "stream",
     "text": [
      "73880 24627 73880 24627\n"
     ]
    }
   ],
   "source": [
    "X = test_df.drop('INJURIES_FATAL',axis=1)\n",
    "y = test_df.INJURIES_FATAL\n",
    "\n",
    "X_train, X_test, y_train, y_test = train_test_split(X,y,random_state=42)\n",
    "print(len(X_train), len(X_test), len(y_train), len(y_test))"
   ]
  },
  {
   "cell_type": "markdown",
   "metadata": {},
   "source": [
    "## Decision Tree"
   ]
  },
  {
   "cell_type": "markdown",
   "metadata": {},
   "source": [
    "#### Trying to use a pipeline"
   ]
  },
  {
   "cell_type": "code",
   "execution_count": 41,
   "metadata": {},
   "outputs": [
    {
     "data": {
      "text/html": [
       "<div>\n",
       "<style scoped>\n",
       "    .dataframe tbody tr th:only-of-type {\n",
       "        vertical-align: middle;\n",
       "    }\n",
       "\n",
       "    .dataframe tbody tr th {\n",
       "        vertical-align: top;\n",
       "    }\n",
       "\n",
       "    .dataframe thead th {\n",
       "        text-align: right;\n",
       "    }\n",
       "</style>\n",
       "<table border=\"1\" class=\"dataframe\">\n",
       "  <thead>\n",
       "    <tr style=\"text-align: right;\">\n",
       "      <th></th>\n",
       "      <th>AGE</th>\n",
       "      <th>CRASH_HOUR</th>\n",
       "      <th>CRASH_DAY_OF_WEEK</th>\n",
       "      <th>CRASH_MONTH</th>\n",
       "      <th>POSTED_SPEED_LIMIT</th>\n",
       "      <th>WEATHER_CONDITION</th>\n",
       "      <th>LIGHTING_CONDITION</th>\n",
       "      <th>TRAFFIC_CONTROL_DEVICE</th>\n",
       "      <th>PHYSICAL_CONDITION</th>\n",
       "      <th>VEHICLE_DEFECT</th>\n",
       "    </tr>\n",
       "  </thead>\n",
       "  <tbody>\n",
       "    <tr>\n",
       "      <th>360296</th>\n",
       "      <td>36.0</td>\n",
       "      <td>1</td>\n",
       "      <td>7</td>\n",
       "      <td>9</td>\n",
       "      <td>35</td>\n",
       "      <td>CLEAR</td>\n",
       "      <td>DARKNESS, LIGHTED ROAD</td>\n",
       "      <td>NO CONTROLS</td>\n",
       "      <td>UNKNOWN</td>\n",
       "      <td>UNKNOWN</td>\n",
       "    </tr>\n",
       "    <tr>\n",
       "      <th>552661</th>\n",
       "      <td>36.0</td>\n",
       "      <td>12</td>\n",
       "      <td>4</td>\n",
       "      <td>8</td>\n",
       "      <td>30</td>\n",
       "      <td>CLEAR</td>\n",
       "      <td>DAYLIGHT</td>\n",
       "      <td>TRAFFIC SIGNAL</td>\n",
       "      <td>UNKNOWN</td>\n",
       "      <td>UNKNOWN</td>\n",
       "    </tr>\n",
       "    <tr>\n",
       "      <th>1828651</th>\n",
       "      <td>37.0</td>\n",
       "      <td>14</td>\n",
       "      <td>1</td>\n",
       "      <td>9</td>\n",
       "      <td>30</td>\n",
       "      <td>CLEAR</td>\n",
       "      <td>DAYLIGHT</td>\n",
       "      <td>OTHER</td>\n",
       "      <td>NORMAL</td>\n",
       "      <td>NONE</td>\n",
       "    </tr>\n",
       "    <tr>\n",
       "      <th>584842</th>\n",
       "      <td>17.0</td>\n",
       "      <td>19</td>\n",
       "      <td>6</td>\n",
       "      <td>3</td>\n",
       "      <td>30</td>\n",
       "      <td>CLEAR</td>\n",
       "      <td>DARKNESS, LIGHTED ROAD</td>\n",
       "      <td>TRAFFIC SIGNAL</td>\n",
       "      <td>UNKNOWN</td>\n",
       "      <td>UNKNOWN</td>\n",
       "    </tr>\n",
       "    <tr>\n",
       "      <th>921245</th>\n",
       "      <td>37.0</td>\n",
       "      <td>19</td>\n",
       "      <td>4</td>\n",
       "      <td>8</td>\n",
       "      <td>30</td>\n",
       "      <td>CLEAR</td>\n",
       "      <td>DAYLIGHT</td>\n",
       "      <td>NO CONTROLS</td>\n",
       "      <td>UNKNOWN</td>\n",
       "      <td>UNKNOWN</td>\n",
       "    </tr>\n",
       "  </tbody>\n",
       "</table>\n",
       "</div>"
      ],
      "text/plain": [
       "          AGE  CRASH_HOUR  CRASH_DAY_OF_WEEK  CRASH_MONTH  POSTED_SPEED_LIMIT  \\\n",
       "360296   36.0           1                  7            9                  35   \n",
       "552661   36.0          12                  4            8                  30   \n",
       "1828651  37.0          14                  1            9                  30   \n",
       "584842   17.0          19                  6            3                  30   \n",
       "921245   37.0          19                  4            8                  30   \n",
       "\n",
       "        WEATHER_CONDITION      LIGHTING_CONDITION TRAFFIC_CONTROL_DEVICE  \\\n",
       "360296              CLEAR  DARKNESS, LIGHTED ROAD            NO CONTROLS   \n",
       "552661              CLEAR                DAYLIGHT         TRAFFIC SIGNAL   \n",
       "1828651             CLEAR                DAYLIGHT                  OTHER   \n",
       "584842              CLEAR  DARKNESS, LIGHTED ROAD         TRAFFIC SIGNAL   \n",
       "921245              CLEAR                DAYLIGHT            NO CONTROLS   \n",
       "\n",
       "        PHYSICAL_CONDITION VEHICLE_DEFECT  \n",
       "360296             UNKNOWN        UNKNOWN  \n",
       "552661             UNKNOWN        UNKNOWN  \n",
       "1828651             NORMAL           NONE  \n",
       "584842             UNKNOWN        UNKNOWN  \n",
       "921245             UNKNOWN        UNKNOWN  "
      ]
     },
     "execution_count": 41,
     "metadata": {},
     "output_type": "execute_result"
    }
   ],
   "source": [
    "X_train.head()"
   ]
  },
  {
   "cell_type": "code",
   "execution_count": 42,
   "metadata": {},
   "outputs": [],
   "source": [
    "subpipe_num = Pipeline(steps=[('ss', StandardScaler())])\n",
    "subpipe_cat = Pipeline(steps=[('ohe', OneHotEncoder(sparse=False, handle_unknown='ignore'))])"
   ]
  },
  {
   "cell_type": "code",
   "execution_count": 43,
   "metadata": {},
   "outputs": [],
   "source": [
    "CT = ColumnTransformer(transformers=[('subpipe_num', subpipe_num, [0, 1, 2,3,4]),\n",
    "                                         ('subpipe_cat', subpipe_cat, [5,6,7,8,9])],\n",
    "                           remainder='passthrough')"
   ]
  },
  {
   "cell_type": "code",
   "execution_count": 44,
   "metadata": {},
   "outputs": [],
   "source": [
    "imb_pipe = ImPipeline(steps=[('ct', CT),\n",
    "                             ('sm', SMOTE(sampling_strategy='auto',random_state=42)),\n",
    "                            ('rfc', DecisionTreeClassifier(random_state=42))])"
   ]
  },
  {
   "cell_type": "code",
   "execution_count": 45,
   "metadata": {},
   "outputs": [
    {
     "data": {
      "text/plain": [
       "Pipeline(steps=[('ct',\n",
       "                 ColumnTransformer(remainder='passthrough',\n",
       "                                   transformers=[('subpipe_num',\n",
       "                                                  Pipeline(steps=[('ss',\n",
       "                                                                   StandardScaler())]),\n",
       "                                                  [0, 1, 2, 3, 4]),\n",
       "                                                 ('subpipe_cat',\n",
       "                                                  Pipeline(steps=[('ohe',\n",
       "                                                                   OneHotEncoder(handle_unknown='ignore',\n",
       "                                                                                 sparse=False))]),\n",
       "                                                  [5, 6, 7, 8, 9])])),\n",
       "                ('sm', SMOTE(random_state=42)),\n",
       "                ('rfc', DecisionTreeClassifier(random_state=42))])"
      ]
     },
     "execution_count": 45,
     "metadata": {},
     "output_type": "execute_result"
    }
   ],
   "source": [
    "imb_pipe.fit(X_train,y_train)"
   ]
  },
  {
   "cell_type": "code",
   "execution_count": 46,
   "metadata": {},
   "outputs": [
    {
     "data": {
      "text/plain": [
       "0.999918787222523"
      ]
     },
     "execution_count": 46,
     "metadata": {},
     "output_type": "execute_result"
    }
   ],
   "source": [
    "imb_pipe.score(X_train, y_train)"
   ]
  },
  {
   "cell_type": "code",
   "execution_count": 47,
   "metadata": {},
   "outputs": [
    {
     "data": {
      "text/plain": [
       "0.9961424452836318"
      ]
     },
     "execution_count": 47,
     "metadata": {},
     "output_type": "execute_result"
    }
   ],
   "source": [
    "imb_pipe.score(X_test, y_test)"
   ]
  },
  {
   "cell_type": "markdown",
   "metadata": {},
   "source": [
    "#### Not using pipeline"
   ]
  },
  {
   "cell_type": "markdown",
   "metadata": {},
   "source": [
    "### One Hot Encoding "
   ]
  },
  {
   "cell_type": "code",
   "execution_count": 49,
   "metadata": {
    "scrolled": false
   },
   "outputs": [],
   "source": [
    "#Ohe-ing Train set\n",
    "X_train_cat = X_train.select_dtypes('object')\n",
    "\n",
    "ohe = OneHotEncoder(\n",
    "    drop='first',\n",
    "    sparse=False)\n",
    "\n",
    "dums_train = ohe.fit_transform(X_train_cat)\n",
    "dums_train_df = pd.DataFrame(dums_train,\n",
    "                       columns=ohe.get_feature_names(),\n",
    "                       index=X_train_cat.index)\n",
    "\n",
    "nums_train_df = X_train.select_dtypes(['int64','float64'])\n",
    "\n",
    "X_train_clean = pd.concat([nums_train_df, dums_train_df], axis=1)"
   ]
  },
  {
   "cell_type": "code",
   "execution_count": 50,
   "metadata": {},
   "outputs": [],
   "source": [
    "#Ohe-ing Test set\n",
    "X_test_cat = X_test.select_dtypes('object')\n",
    "\n",
    "dums_test = ohe.transform(X_test_cat)\n",
    "dums_test_df = pd.DataFrame(dums_test,\n",
    "                       columns=ohe.get_feature_names(),\n",
    "                       index=X_test_cat.index)\n",
    "\n",
    "nums_test_df = X_test.select_dtypes(['int64','float64'])\n",
    "\n",
    "X_test_clean = pd.concat([nums_test_df, dums_test_df], axis=1)"
   ]
  },
  {
   "cell_type": "markdown",
   "metadata": {},
   "source": [
    "### Smote"
   ]
  },
  {
   "cell_type": "code",
   "execution_count": 51,
   "metadata": {
    "scrolled": true
   },
   "outputs": [],
   "source": [
    "# X_train_clean.columns\n",
    "smote = SMOTE(sampling_strategy='auto',random_state=42)\n",
    "X_train_resampled, y_train_resampled = smote.fit_sample(X_train_clean, y_train) "
   ]
  },
  {
   "cell_type": "code",
   "execution_count": 52,
   "metadata": {},
   "outputs": [
    {
     "data": {
      "text/plain": [
       "(147572, 65)"
      ]
     },
     "execution_count": 52,
     "metadata": {},
     "output_type": "execute_result"
    }
   ],
   "source": [
    "X_train_resampled.shape"
   ]
  },
  {
   "cell_type": "code",
   "execution_count": 54,
   "metadata": {},
   "outputs": [
    {
     "data": {
      "text/plain": [
       "0.0    73786\n",
       "1.0       94\n",
       "Name: INJURIES_FATAL, dtype: int64"
      ]
     },
     "execution_count": 54,
     "metadata": {},
     "output_type": "execute_result"
    }
   ],
   "source": [
    "y_train.value_counts()"
   ]
  },
  {
   "cell_type": "code",
   "execution_count": 53,
   "metadata": {
    "scrolled": true
   },
   "outputs": [
    {
     "data": {
      "text/plain": [
       "1.0    73786\n",
       "0.0    73786\n",
       "Name: INJURIES_FATAL, dtype: int64"
      ]
     },
     "execution_count": 53,
     "metadata": {},
     "output_type": "execute_result"
    }
   ],
   "source": [
    "y_train_resampled.value_counts()"
   ]
  },
  {
   "cell_type": "markdown",
   "metadata": {},
   "source": [
    "### Baseline (Vanilla) Decision Tree"
   ]
  },
  {
   "cell_type": "code",
   "execution_count": 55,
   "metadata": {},
   "outputs": [
    {
     "name": "stdout",
     "output_type": "stream",
     "text": [
      "DT baseline Train Cross Validation Score: 0.9979467731878373\n",
      "DT baseline Test Cross Validation Score: 0.9966703392956878\n"
     ]
    }
   ],
   "source": [
    "baseline_tree = DecisionTreeClassifier(random_state=42)\n",
    "baseline_tree.fit(X_train_resampled,y_train_resampled)\n",
    "baseline_tree_train_cv = cross_val_score(baseline_tree, X_train_resampled, y_train_resampled).mean()\n",
    "baseline_tree_test_cv = cross_val_score(baseline_tree, X_test_clean, y_test).mean()\n",
    "\n",
    "print(f'DT baseline Train Cross Validation Score: {baseline_tree_train_cv}')\n",
    "print(f'DT baseline Test Cross Validation Score: {baseline_tree_test_cv}')"
   ]
  },
  {
   "cell_type": "code",
   "execution_count": 56,
   "metadata": {
    "scrolled": true
   },
   "outputs": [],
   "source": [
    "# fig, ax = plt.subplots(figsize=(20,20))\n",
    "# plot_tree(baseline_tree,ax=ax);"
   ]
  },
  {
   "cell_type": "markdown",
   "metadata": {},
   "source": [
    "### Finding Best Decision Tree Model"
   ]
  },
  {
   "cell_type": "code",
   "execution_count": 57,
   "metadata": {},
   "outputs": [],
   "source": [
    "tree = DecisionTreeClassifier(random_state=42)"
   ]
  },
  {
   "cell_type": "code",
   "execution_count": 58,
   "metadata": {},
   "outputs": [],
   "source": [
    "tree_grid = {'max_leaf_nodes': list(range(2, 100)), \n",
    "             'min_samples_split': [2, 3, 4],\n",
    "             'max_depth': [5, 6, 7, 8, 9],\n",
    "            }"
   ]
  },
  {
   "cell_type": "code",
   "execution_count": 59,
   "metadata": {},
   "outputs": [],
   "source": [
    "tree_grid_search = GridSearchCV(tree, tree_grid, cv=5)"
   ]
  },
  {
   "cell_type": "code",
   "execution_count": null,
   "metadata": {
    "scrolled": true
   },
   "outputs": [],
   "source": [
    "tree_grid_search.fit(X_train_resampled, y_train_resampled)"
   ]
  },
  {
   "cell_type": "code",
   "execution_count": null,
   "metadata": {},
   "outputs": [],
   "source": [
    "tree_grid_search.best_params_"
   ]
  },
  {
   "cell_type": "code",
   "execution_count": null,
   "metadata": {
    "scrolled": true
   },
   "outputs": [],
   "source": [
    "tree_grid_search.best_score_"
   ]
  },
  {
   "cell_type": "code",
   "execution_count": null,
   "metadata": {},
   "outputs": [],
   "source": [
    "tree_grid_search.best_estimator_.score(X_test_clean, y_test)"
   ]
  },
  {
   "cell_type": "code",
   "execution_count": null,
   "metadata": {},
   "outputs": [],
   "source": [
    "tree_cv_df = pd.DataFrame(tree_grid_search.cv_results_)\n",
    "tree_cv_df.head()"
   ]
  },
  {
   "cell_type": "code",
   "execution_count": null,
   "metadata": {},
   "outputs": [],
   "source": [
    "best_tree = tree_grid_search.best_estimator_"
   ]
  },
  {
   "cell_type": "code",
   "execution_count": null,
   "metadata": {},
   "outputs": [],
   "source": [
    "def plot_feature_importances(model):\n",
    "    n_features = X_train_resampled.shape[1]\n",
    "    plt.figure(figsize=(30,30))\n",
    "    plt.barh(range(n_features), model.feature_importances_, align='center') \n",
    "    plt.yticks(np.arange(n_features), X_train_resampled.columns.values) \n",
    "    plt.xlabel('Feature importance')\n",
    "    plt.ylabel('Feature')"
   ]
  },
  {
   "cell_type": "code",
   "execution_count": null,
   "metadata": {
    "scrolled": false
   },
   "outputs": [],
   "source": [
    "plot_feature_importances(best_tree)"
   ]
  },
  {
   "cell_type": "markdown",
   "metadata": {},
   "source": [
    "# Random Forest"
   ]
  },
  {
   "cell_type": "markdown",
   "metadata": {},
   "source": [
    "### Baseline (Vanilla) Random Forest"
   ]
  },
  {
   "cell_type": "code",
   "execution_count": null,
   "metadata": {},
   "outputs": [],
   "source": [
    "baseline_forest = RandomForestClassifier(random_state=42)\n",
    "baseline_forest.fit(X_train_resampled,y_train_resampled)\n",
    "baseline_forest_train_cv = cross_val_score(baseline_forest, X_train_resampled, y_train_resampled).mean()\n",
    "baseline_forest_test_cv = cross_val_score(baseline_forest, X_test_clean, y_test).mean()\n",
    "\n",
    "print(f'DT baseline Train Cross Validation Score: {baseline_forest_train_cv}')\n",
    "print(f'DT baseline Test Cross Validation Score: {baseline_forest_test_cv}')"
   ]
  },
  {
   "cell_type": "markdown",
   "metadata": {},
   "source": [
    "### Finding Best Random Forest Model"
   ]
  },
  {
   "cell_type": "code",
   "execution_count": null,
   "metadata": {},
   "outputs": [],
   "source": [
    "forest = RandomForestClassifier(random_state=42)"
   ]
  },
  {
   "cell_type": "code",
   "execution_count": null,
   "metadata": {},
   "outputs": [],
   "source": [
    "# Number of trees in random forest\n",
    "# n_estimators = [100,150,200]\n",
    "\n",
    "# The number of features to consider when looking for the best split\n",
    "max_features = ['sqrt', 'log2']\n",
    "\n",
    "# function to measure the quality of a split\n",
    "criteria = ['gini', 'entropy']\n",
    "\n",
    "# Minimum number of samples required to split a node\n",
    "min_samples_split = [2, 5, 10]\n",
    "\n",
    "# Minimum number of samples required at each leaf node\n",
    "min_samples_leaf = [1, 2, 4]\n",
    "\n",
    "# Create the random grid\n",
    "forrest_grid = {'max_features': max_features, \n",
    "                'min_samples_split': min_samples_split,\n",
    "               'min_samples_leaf': min_samples_leaf\n",
    "              }"
   ]
  },
  {
   "cell_type": "code",
   "execution_count": null,
   "metadata": {},
   "outputs": [],
   "source": [
    "forrest_grid_search = GridSearchCV(estimator=forest, param_grid=forrest_grid, cv=5)"
   ]
  },
  {
   "cell_type": "code",
   "execution_count": null,
   "metadata": {},
   "outputs": [],
   "source": [
    "forrest_grid_search.fit(X_train_resampled, y_train_resampled)"
   ]
  },
  {
   "cell_type": "code",
   "execution_count": null,
   "metadata": {},
   "outputs": [],
   "source": [
    "forrest_grid_search.best_params_"
   ]
  },
  {
   "cell_type": "code",
   "execution_count": null,
   "metadata": {},
   "outputs": [],
   "source": [
    "forrest_grid_search.best_score_"
   ]
  },
  {
   "cell_type": "code",
   "execution_count": null,
   "metadata": {},
   "outputs": [],
   "source": [
    "forrest_grid_search.best_estimator_.score(X_test_clean, y_test)"
   ]
  },
  {
   "cell_type": "code",
   "execution_count": null,
   "metadata": {},
   "outputs": [],
   "source": [
    "best_forest = forrest_grid_search.best_estimator_"
   ]
  },
  {
   "cell_type": "code",
   "execution_count": null,
   "metadata": {},
   "outputs": [],
   "source": [
    "plot_feature_importances(best_forest)"
   ]
  },
  {
   "cell_type": "code",
   "execution_count": null,
   "metadata": {
    "scrolled": false
   },
   "outputs": [],
   "source": [
    "forest_cv_df = pd.DataFrame(forrest_grid_search.cv_results_)\n",
    "forest_cv_df.head()"
   ]
  },
  {
   "cell_type": "markdown",
   "metadata": {},
   "source": [
    "# K Nearest Neighbor"
   ]
  },
  {
   "cell_type": "code",
   "execution_count": null,
   "metadata": {},
   "outputs": [],
   "source": [
    "# Splitting categorical and numeric features from train and test set\n",
    "X_train_cat = X_train.select_dtypes('object')\n",
    "X_test_cat = X_test.select_dtypes('object')\n",
    "nums_train = X_train.select_dtypes(['int64','float64'])\n",
    "nums_test = X_test.select_dtypes(['int64','float64'])\n",
    "\n",
    "# One Hot Encoding the categoricals\n",
    "ohe = OneHotEncoder(\n",
    "    drop='first',\n",
    "    sparse=False)\n",
    "\n",
    "dums_train = ohe.fit_transform(X_train_cat)\n",
    "dums_train_df = pd.DataFrame(dums_train,\n",
    "                       columns=ohe.get_feature_names(),\n",
    "                       index=X_train_cat.index)\n",
    "\n",
    "dums_test = ohe.transform(X_test_cat)\n",
    "dums_test_df = pd.DataFrame(dums_test,\n",
    "                       columns=ohe.get_feature_names(),\n",
    "                       index=X_test_cat.index)\n",
    "# Scaling the Numerics\n",
    "scaler = StandardScaler()\n",
    "\n",
    "nums_train_scaled = scaler.fit_transform(nums_train)\n",
    "nums_train_df = pd.DataFrame(nums_train_scaled,\n",
    "                       columns=nums_train.columns,\n",
    "                       index=nums_train.index)\n",
    "\n",
    "nums_test_scaled = scaler.transform(nums_test)\n",
    "nums_test_df = pd.DataFrame(nums_test_scaled,\n",
    "                       columns=nums_test.columns,\n",
    "                       index=nums_test.index)\n",
    "\n",
    "# Scaled and Encoded train and test data\n",
    "X_train_scaled = pd.concat([nums_train_df, dums_train_df], axis=1)\n",
    "X_test_scaled = pd.concat([nums_test_df, dums_test_df], axis=1)\n",
    "\n",
    "# SMOTE\n",
    "smote = SMOTE(sampling_strategy='auto',random_state=42)\n",
    "X_train_resampled, y_train_resampled = smote.fit_sample(X_train_scaled, y_train) "
   ]
  },
  {
   "cell_type": "code",
   "execution_count": null,
   "metadata": {},
   "outputs": [],
   "source": [
    "knn = KNeighborsClassifier()"
   ]
  },
  {
   "cell_type": "code",
   "execution_count": null,
   "metadata": {},
   "outputs": [],
   "source": [
    "# create params_grid for KNeighborsClassifier  \n",
    "knn_grid = {'n_neighbors': [3, 9, 11],\n",
    "              'weights': ['uniform', 'distance'],\n",
    "              'metric': ['euclidean', 'manhattan']}\n",
    "\n",
    "# create grid search \n",
    "knn_grid = GridSearchCV(knn, knn_grid, cv=5)"
   ]
  },
  {
   "cell_type": "code",
   "execution_count": null,
   "metadata": {},
   "outputs": [],
   "source": [
    "# fit x_train and y_train to grid \n",
    "knn_grid.fit(X_train_resampled,y_train_resampled)"
   ]
  },
  {
   "cell_type": "code",
   "execution_count": null,
   "metadata": {},
   "outputs": [],
   "source": [
    "# observe combination of best params \n",
    "knn_grid.best_params_"
   ]
  },
  {
   "cell_type": "code",
   "execution_count": null,
   "metadata": {},
   "outputs": [],
   "source": [
    "knn_cv_df = pd.DataFrame(knn_grid.cv_results_)\n",
    "knn_cv_df.head()"
   ]
  },
  {
   "cell_type": "code",
   "execution_count": null,
   "metadata": {},
   "outputs": [],
   "source": [
    "knn_grid.best_estimator_.score(X_test_scaled, y_test)"
   ]
  },
  {
   "cell_type": "code",
   "execution_count": null,
   "metadata": {},
   "outputs": [],
   "source": [
    "test_preds = knn_grid.best_estimator_.predict(X_test_scaled)"
   ]
  },
  {
   "cell_type": "code",
   "execution_count": null,
   "metadata": {},
   "outputs": [],
   "source": []
  }
 ],
 "metadata": {
  "kernelspec": {
   "display_name": "Python (learn-env)",
   "language": "python",
   "name": "learn-env"
  },
  "language_info": {
   "codemirror_mode": {
    "name": "ipython",
    "version": 3
   },
   "file_extension": ".py",
   "mimetype": "text/x-python",
   "name": "python",
   "nbconvert_exporter": "python",
   "pygments_lexer": "ipython3",
   "version": "3.8.5"
  }
 },
 "nbformat": 4,
 "nbformat_minor": 4
}
