{
 "cells": [
  {
   "cell_type": "code",
   "execution_count": 137,
   "metadata": {},
   "outputs": [],
   "source": [
    "import pandas as pd\n",
    "import numpy as np\n",
    "from sklearn.model_selection import train_test_split, RandomizedSearchCV, GridSearchCV\n",
    "from sklearn.tree import DecisionTreeClassifier\n",
    "from sklearn.ensemble import RandomForestClassifier\n",
    "import matplotlib.pyplot as plt\n",
    "%matplotlib inline\n",
    "import seaborn as sns"
   ]
  },
  {
   "cell_type": "markdown",
   "metadata": {},
   "source": [
    "## Important"
   ]
  },
  {
   "cell_type": "markdown",
   "metadata": {},
   "source": [
    "In order to use run this data you must download the data sets from the following 3 links and store them in the same folder as your notebook\n",
    "1. https://data.cityofchicago.org/Transportation/Traffic-Crashes-Crashes/85ca-t3if\n",
    "2. https://data.cityofchicago.org/Transportation/Traffic-Crashes-Vehicles/68nd-jvt3\n",
    "3. https://data.cityofchicago.org/Transportation/Traffic-Crashes-People/u6pd-qa9d"
   ]
  },
  {
   "cell_type": "code",
   "execution_count": 27,
   "metadata": {},
   "outputs": [
    {
     "name": "stderr",
     "output_type": "stream",
     "text": [
      "/opt/anaconda3/envs/learn-env/lib/python3.8/site-packages/IPython/core/interactiveshell.py:3145: DtypeWarning: Columns (12,13,20,21,22,23,24,25,26,27,29) have mixed types.Specify dtype option on import or set low_memory=False.\n",
      "  has_raised = await self.run_ast_nodes(code_ast.body, cell_name,\n",
      "/opt/anaconda3/envs/learn-env/lib/python3.8/site-packages/IPython/core/interactiveshell.py:3145: DtypeWarning: Columns (19,21,40,41,42,44,48,49,50,53,55,58,59,61,71) have mixed types.Specify dtype option on import or set low_memory=False.\n",
      "  has_raised = await self.run_ast_nodes(code_ast.body, cell_name,\n"
     ]
    },
    {
     "data": {
      "text/html": [
       "<div>\n",
       "<style scoped>\n",
       "    .dataframe tbody tr th:only-of-type {\n",
       "        vertical-align: middle;\n",
       "    }\n",
       "\n",
       "    .dataframe tbody tr th {\n",
       "        vertical-align: top;\n",
       "    }\n",
       "\n",
       "    .dataframe thead th {\n",
       "        text-align: right;\n",
       "    }\n",
       "</style>\n",
       "<table border=\"1\" class=\"dataframe\">\n",
       "  <thead>\n",
       "    <tr style=\"text-align: right;\">\n",
       "      <th></th>\n",
       "      <th>CRASH_RECORD_ID</th>\n",
       "      <th>RD_NO</th>\n",
       "      <th>CRASH_DATE_EST_I</th>\n",
       "      <th>CRASH_DATE</th>\n",
       "      <th>POSTED_SPEED_LIMIT</th>\n",
       "      <th>TRAFFIC_CONTROL_DEVICE</th>\n",
       "      <th>DEVICE_CONDITION</th>\n",
       "      <th>WEATHER_CONDITION</th>\n",
       "      <th>LIGHTING_CONDITION</th>\n",
       "      <th>FIRST_CRASH_TYPE</th>\n",
       "      <th>...</th>\n",
       "      <th>INJURIES_NON_INCAPACITATING</th>\n",
       "      <th>INJURIES_REPORTED_NOT_EVIDENT</th>\n",
       "      <th>INJURIES_NO_INDICATION</th>\n",
       "      <th>INJURIES_UNKNOWN</th>\n",
       "      <th>CRASH_HOUR</th>\n",
       "      <th>CRASH_DAY_OF_WEEK</th>\n",
       "      <th>CRASH_MONTH</th>\n",
       "      <th>LATITUDE</th>\n",
       "      <th>LONGITUDE</th>\n",
       "      <th>LOCATION</th>\n",
       "    </tr>\n",
       "  </thead>\n",
       "  <tbody>\n",
       "    <tr>\n",
       "      <th>0</th>\n",
       "      <td>4fd0a3e0897b3335b94cd8d5b2d2b350eb691add56c62d...</td>\n",
       "      <td>JC343143</td>\n",
       "      <td>NaN</td>\n",
       "      <td>07/10/2019 05:56:00 PM</td>\n",
       "      <td>35</td>\n",
       "      <td>NO CONTROLS</td>\n",
       "      <td>NO CONTROLS</td>\n",
       "      <td>CLEAR</td>\n",
       "      <td>DAYLIGHT</td>\n",
       "      <td>TURNING</td>\n",
       "      <td>...</td>\n",
       "      <td>0.0</td>\n",
       "      <td>0.0</td>\n",
       "      <td>3.0</td>\n",
       "      <td>0.0</td>\n",
       "      <td>17</td>\n",
       "      <td>4</td>\n",
       "      <td>7</td>\n",
       "      <td>41.919664</td>\n",
       "      <td>-87.773288</td>\n",
       "      <td>POINT (-87.773287883007 41.919663832993)</td>\n",
       "    </tr>\n",
       "    <tr>\n",
       "      <th>1</th>\n",
       "      <td>009e9e67203442370272e1a13d6ee51a4155dac65e583d...</td>\n",
       "      <td>JA329216</td>\n",
       "      <td>NaN</td>\n",
       "      <td>06/30/2017 04:00:00 PM</td>\n",
       "      <td>35</td>\n",
       "      <td>STOP SIGN/FLASHER</td>\n",
       "      <td>FUNCTIONING PROPERLY</td>\n",
       "      <td>CLEAR</td>\n",
       "      <td>DAYLIGHT</td>\n",
       "      <td>TURNING</td>\n",
       "      <td>...</td>\n",
       "      <td>0.0</td>\n",
       "      <td>0.0</td>\n",
       "      <td>3.0</td>\n",
       "      <td>0.0</td>\n",
       "      <td>16</td>\n",
       "      <td>6</td>\n",
       "      <td>6</td>\n",
       "      <td>41.741804</td>\n",
       "      <td>-87.740954</td>\n",
       "      <td>POINT (-87.740953581987 41.741803598989)</td>\n",
       "    </tr>\n",
       "    <tr>\n",
       "      <th>2</th>\n",
       "      <td>ee9283eff3a55ac50ee58f3d9528ce1d689b1c4180b4c4...</td>\n",
       "      <td>JD292400</td>\n",
       "      <td>NaN</td>\n",
       "      <td>07/10/2020 10:25:00 AM</td>\n",
       "      <td>30</td>\n",
       "      <td>TRAFFIC SIGNAL</td>\n",
       "      <td>FUNCTIONING PROPERLY</td>\n",
       "      <td>CLEAR</td>\n",
       "      <td>DAYLIGHT</td>\n",
       "      <td>REAR END</td>\n",
       "      <td>...</td>\n",
       "      <td>0.0</td>\n",
       "      <td>0.0</td>\n",
       "      <td>3.0</td>\n",
       "      <td>0.0</td>\n",
       "      <td>10</td>\n",
       "      <td>6</td>\n",
       "      <td>7</td>\n",
       "      <td>41.773456</td>\n",
       "      <td>-87.585022</td>\n",
       "      <td>POINT (-87.585022352022 41.773455972008)</td>\n",
       "    </tr>\n",
       "    <tr>\n",
       "      <th>3</th>\n",
       "      <td>f8960f698e870ebdc60b521b2a141a5395556bc3704191...</td>\n",
       "      <td>JD293602</td>\n",
       "      <td>NaN</td>\n",
       "      <td>07/11/2020 01:00:00 AM</td>\n",
       "      <td>30</td>\n",
       "      <td>NO CONTROLS</td>\n",
       "      <td>NO CONTROLS</td>\n",
       "      <td>CLEAR</td>\n",
       "      <td>DARKNESS</td>\n",
       "      <td>PARKED MOTOR VEHICLE</td>\n",
       "      <td>...</td>\n",
       "      <td>0.0</td>\n",
       "      <td>0.0</td>\n",
       "      <td>3.0</td>\n",
       "      <td>0.0</td>\n",
       "      <td>1</td>\n",
       "      <td>7</td>\n",
       "      <td>7</td>\n",
       "      <td>41.802119</td>\n",
       "      <td>-87.622115</td>\n",
       "      <td>POINT (-87.622114914961 41.802118543011)</td>\n",
       "    </tr>\n",
       "    <tr>\n",
       "      <th>4</th>\n",
       "      <td>8eaa2678d1a127804ee9b8c35ddf7d63d913c14eda61d6...</td>\n",
       "      <td>JD290451</td>\n",
       "      <td>NaN</td>\n",
       "      <td>07/08/2020 02:00:00 PM</td>\n",
       "      <td>20</td>\n",
       "      <td>NO CONTROLS</td>\n",
       "      <td>NO CONTROLS</td>\n",
       "      <td>CLEAR</td>\n",
       "      <td>DAYLIGHT</td>\n",
       "      <td>PARKED MOTOR VEHICLE</td>\n",
       "      <td>...</td>\n",
       "      <td>0.0</td>\n",
       "      <td>0.0</td>\n",
       "      <td>1.0</td>\n",
       "      <td>0.0</td>\n",
       "      <td>14</td>\n",
       "      <td>4</td>\n",
       "      <td>7</td>\n",
       "      <td>NaN</td>\n",
       "      <td>NaN</td>\n",
       "      <td>NaN</td>\n",
       "    </tr>\n",
       "  </tbody>\n",
       "</table>\n",
       "<p>5 rows × 49 columns</p>\n",
       "</div>"
      ],
      "text/plain": [
       "                                     CRASH_RECORD_ID     RD_NO  \\\n",
       "0  4fd0a3e0897b3335b94cd8d5b2d2b350eb691add56c62d...  JC343143   \n",
       "1  009e9e67203442370272e1a13d6ee51a4155dac65e583d...  JA329216   \n",
       "2  ee9283eff3a55ac50ee58f3d9528ce1d689b1c4180b4c4...  JD292400   \n",
       "3  f8960f698e870ebdc60b521b2a141a5395556bc3704191...  JD293602   \n",
       "4  8eaa2678d1a127804ee9b8c35ddf7d63d913c14eda61d6...  JD290451   \n",
       "\n",
       "  CRASH_DATE_EST_I              CRASH_DATE  POSTED_SPEED_LIMIT  \\\n",
       "0              NaN  07/10/2019 05:56:00 PM                  35   \n",
       "1              NaN  06/30/2017 04:00:00 PM                  35   \n",
       "2              NaN  07/10/2020 10:25:00 AM                  30   \n",
       "3              NaN  07/11/2020 01:00:00 AM                  30   \n",
       "4              NaN  07/08/2020 02:00:00 PM                  20   \n",
       "\n",
       "  TRAFFIC_CONTROL_DEVICE      DEVICE_CONDITION WEATHER_CONDITION  \\\n",
       "0            NO CONTROLS           NO CONTROLS             CLEAR   \n",
       "1      STOP SIGN/FLASHER  FUNCTIONING PROPERLY             CLEAR   \n",
       "2         TRAFFIC SIGNAL  FUNCTIONING PROPERLY             CLEAR   \n",
       "3            NO CONTROLS           NO CONTROLS             CLEAR   \n",
       "4            NO CONTROLS           NO CONTROLS             CLEAR   \n",
       "\n",
       "  LIGHTING_CONDITION      FIRST_CRASH_TYPE  ... INJURIES_NON_INCAPACITATING  \\\n",
       "0           DAYLIGHT               TURNING  ...                         0.0   \n",
       "1           DAYLIGHT               TURNING  ...                         0.0   \n",
       "2           DAYLIGHT              REAR END  ...                         0.0   \n",
       "3           DARKNESS  PARKED MOTOR VEHICLE  ...                         0.0   \n",
       "4           DAYLIGHT  PARKED MOTOR VEHICLE  ...                         0.0   \n",
       "\n",
       "   INJURIES_REPORTED_NOT_EVIDENT INJURIES_NO_INDICATION INJURIES_UNKNOWN  \\\n",
       "0                            0.0                    3.0              0.0   \n",
       "1                            0.0                    3.0              0.0   \n",
       "2                            0.0                    3.0              0.0   \n",
       "3                            0.0                    3.0              0.0   \n",
       "4                            0.0                    1.0              0.0   \n",
       "\n",
       "  CRASH_HOUR CRASH_DAY_OF_WEEK CRASH_MONTH   LATITUDE  LONGITUDE  \\\n",
       "0         17                 4           7  41.919664 -87.773288   \n",
       "1         16                 6           6  41.741804 -87.740954   \n",
       "2         10                 6           7  41.773456 -87.585022   \n",
       "3          1                 7           7  41.802119 -87.622115   \n",
       "4         14                 4           7        NaN        NaN   \n",
       "\n",
       "                                   LOCATION  \n",
       "0  POINT (-87.773287883007 41.919663832993)  \n",
       "1  POINT (-87.740953581987 41.741803598989)  \n",
       "2  POINT (-87.585022352022 41.773455972008)  \n",
       "3  POINT (-87.622114914961 41.802118543011)  \n",
       "4                                       NaN  \n",
       "\n",
       "[5 rows x 49 columns]"
      ]
     },
     "execution_count": 27,
     "metadata": {},
     "output_type": "execute_result"
    }
   ],
   "source": [
    "#importing datasets\n",
    "df = pd.read_csv('../Traffic_Crashes_-_Crashes.csv')\n",
    "df_people = pd.read_csv('../Traffic_Crashes_-_People.csv')\n",
    "df_vehicles = pd.read_csv('../Traffic_Crashes_-_Vehicles.csv')\n",
    "df.head()"
   ]
  },
  {
   "cell_type": "code",
   "execution_count": null,
   "metadata": {},
   "outputs": [],
   "source": []
  },
  {
   "cell_type": "code",
   "execution_count": 28,
   "metadata": {},
   "outputs": [],
   "source": [
    "#Merging Datasets on the Crash_Record_ID Column\n",
    "df_merge = pd.merge(df, df_vehicles, on='CRASH_RECORD_ID').reset_index()\n",
    "df_merge_2 = pd.merge(df_merge, df_people, on='CRASH_RECORD_ID').reset_index()\n",
    "#dropping dupllicates(basically only having one instance of the crashID on there)\n",
    "df_dropped= df_merge_2.drop_duplicates(subset=['CRASH_RECORD_ID'], keep='first')\n",
    "#Taking only necessary columns\n",
    "columns = ['CRASH_RECORD_ID', 'RD_NO_x', 'CRASH_DATE_x', 'POSTED_SPEED_LIMIT', 'TRAFFIC_CONTROL_DEVICE', 'DEVICE_CONDITION', 'WEATHER_CONDITION', 'LIGHTING_CONDITION', 'FIRST_CRASH_TYPE', 'TRAFFICWAY_TYPE', 'LANE_CNT', 'ALIGNMENT', 'ROADWAY_SURFACE_COND', 'ROAD_DEFECT', 'CRASH_TYPE', 'INTERSECTION_RELATED_I', 'NOT_RIGHT_OF_WAY_I', 'HIT_AND_RUN_I', 'DAMAGE', 'PRIM_CONTRIBUTORY_CAUSE', 'SEC_CONTRIBUTORY_CAUSE', 'STREET_NO', 'STREET_DIRECTION', 'STREET_NAME',  'DOORING_I', 'WORK_ZONE_I', 'WORK_ZONE_TYPE', 'WORKERS_PRESENT_I', 'NUM_UNITS', 'MOST_SEVERE_INJURY', 'INJURIES_TOTAL', 'INJURIES_FATAL', 'INJURIES_INCAPACITATING', 'INJURIES_NON_INCAPACITATING', 'INJURIES_REPORTED_NOT_EVIDENT', 'INJURIES_NO_INDICATION', 'INJURIES_UNKNOWN', 'CRASH_HOUR', 'CRASH_DAY_OF_WEEK', 'CRASH_MONTH', 'LATITUDE', 'LONGITUDE', 'LOCATION', 'RD_NO_y', 'UNIT_NO', 'UNIT_TYPE', 'NUM_PASSENGERS', 'VEHICLE_ID_x', 'CMRC_VEH_I', 'MAKE', 'MODEL', 'VEHICLE_YEAR', 'VEHICLE_DEFECT', 'VEHICLE_TYPE', 'TRAVEL_DIRECTION', 'MANEUVER', 'OCCUPANT_CNT', 'EXCEED_SPEED_LIMIT_I', 'FIRST_CONTACT_POINT', 'PERSON_TYPE', 'CITY', 'STATE', 'ZIPCODE', 'SEX', 'AGE',  'AIRBAG_DEPLOYED', 'EJECTION', 'INJURY_CLASSIFICATION', 'DRIVER_VISION','PHYSICAL_CONDITION', 'PEDPEDAL_ACTION', 'PEDPEDAL_VISIBILITY', 'PEDPEDAL_LOCATION', 'BAC_RESULT', 'BAC_RESULT VALUE', 'CELL_PHONE_USE']\n",
    "df_comb = df_dropped[columns]"
   ]
  },
  {
   "cell_type": "code",
   "execution_count": 29,
   "metadata": {},
   "outputs": [
    {
     "name": "stderr",
     "output_type": "stream",
     "text": [
      "<ipython-input-29-6efbe8c7bb70>:2: SettingWithCopyWarning: \n",
      "A value is trying to be set on a copy of a slice from a DataFrame.\n",
      "Try using .loc[row_indexer,col_indexer] = value instead\n",
      "\n",
      "See the caveats in the documentation: https://pandas.pydata.org/pandas-docs/stable/user_guide/indexing.html#returning-a-view-versus-a-copy\n",
      "  df_comb['date'] = pd.to_datetime(df_comb['CRASH_DATE_x'])\n",
      "<ipython-input-29-6efbe8c7bb70>:3: SettingWithCopyWarning: \n",
      "A value is trying to be set on a copy of a slice from a DataFrame.\n",
      "Try using .loc[row_indexer,col_indexer] = value instead\n",
      "\n",
      "See the caveats in the documentation: https://pandas.pydata.org/pandas-docs/stable/user_guide/indexing.html#returning-a-view-versus-a-copy\n",
      "  df_comb['Crash_year'] = df_comb['date'].apply(lambda date: date.year)\n"
     ]
    }
   ],
   "source": [
    "#Taking the Year from the date column\n",
    "df_comb['date'] = pd.to_datetime(df_comb['CRASH_DATE_x'])\n",
    "df_comb['Crash_year'] = df_comb['date'].apply(lambda date: date.year)\n",
    "#only accidents with the driver\n",
    "df_driver = df_comb[df_comb['PERSON_TYPE']=='DRIVER']\n",
    "#necessary columns\n",
    "new_columns = ['CRASH_RECORD_ID', 'CRASH_DATE_x', 'POSTED_SPEED_LIMIT',\n",
    "       'TRAFFIC_CONTROL_DEVICE', 'DEVICE_CONDITION', 'WEATHER_CONDITION',\n",
    "       'LIGHTING_CONDITION', 'FIRST_CRASH_TYPE', 'TRAFFICWAY_TYPE',\n",
    "       'ALIGNMENT', 'ROADWAY_SURFACE_COND', 'ROAD_DEFECT', 'CRASH_TYPE',\n",
    "       'DAMAGE', 'PRIM_CONTRIBUTORY_CAUSE', 'SEC_CONTRIBUTORY_CAUSE','NUM_UNITS',\n",
    "       'MOST_SEVERE_INJURY', 'INJURIES_TOTAL', 'INJURIES_FATAL',\n",
    "       'INJURIES_INCAPACITATING', 'INJURIES_NON_INCAPACITATING',\n",
    "       'INJURIES_REPORTED_NOT_EVIDENT','CRASH_HOUR', 'CRASH_DAY_OF_WEEK', 'CRASH_MONTH',\n",
    "       'LATITUDE', 'LONGITUDE', 'MAKE', 'MODEL',\n",
    "       'VEHICLE_YEAR', 'VEHICLE_DEFECT', 'VEHICLE_TYPE',\n",
    "       'MANEUVER', 'OCCUPANT_CNT', \n",
    "       'FIRST_CONTACT_POINT', 'PERSON_TYPE','SEX',\n",
    "       'AGE', 'AIRBAG_DEPLOYED', 'EJECTION', 'INJURY_CLASSIFICATION','DRIVER_VISION',\n",
    "       'PHYSICAL_CONDITION', 'Crash_year']"
   ]
  },
  {
   "cell_type": "code",
   "execution_count": null,
   "metadata": {},
   "outputs": [],
   "source": [
    "#Dataframe with the new columns\n",
    "df_driver = df_driver[new_columns]\n",
    "#check for nulls\n",
    "# pd.isnull(df_driver).sum()"
   ]
  },
  {
   "cell_type": "code",
   "execution_count": 50,
   "metadata": {},
   "outputs": [],
   "source": [
    "#dropping missing values\n",
    "df_driver.dropna(axis=0, subset=['LATITUDE'], inplace =True)\n",
    "df_driver.dropna(axis=0, subset=['LONGITUDE'], inplace =True)\n",
    "df_driver.dropna(axis=0, subset=['MODEL'], inplace =True)\n",
    "df_driver.dropna(axis=0, subset=['MAKE'], inplace =True)\n",
    "df_driver.dropna(axis=0, subset=['FIRST_CONTACT_POINT'], inplace =True)"
   ]
  },
  {
   "cell_type": "code",
   "execution_count": 51,
   "metadata": {},
   "outputs": [],
   "source": [
    "df_driver.INJURIES_FATAL.replace({0.0:0, 1.0:1, 2.0:1, 3.0:1, 4.0:1}, inplace=True)"
   ]
  },
  {
   "cell_type": "code",
   "execution_count": 52,
   "metadata": {},
   "outputs": [
    {
     "data": {
      "image/png": "[encoded data removed]",
      "text/plain": [
       "<Figure size 1440x1440 with 16 Axes>"
      ]
     },
     "metadata": {
      "needs_background": "light"
     },
     "output_type": "display_data"
    }
   ],
   "source": [
    "df_driver.hist(figsize=(20,20), bins='auto');"
   ]
  },
  {
   "cell_type": "code",
   "execution_count": 49,
   "metadata": {},
   "outputs": [
    {
     "data": {
      "text/plain": [
       "0.0    533762\n",
       "1.0       489\n",
       "Name: INJURIES_FATAL, dtype: int64"
      ]
     },
     "execution_count": 49,
     "metadata": {},
     "output_type": "execute_result"
    }
   ],
   "source": [
    "df_driver.INJURIES_FATAL.value_counts()"
   ]
  },
  {
   "cell_type": "markdown",
   "metadata": {},
   "source": [
    "# Data Preperation"
   ]
  },
  {
   "cell_type": "code",
   "execution_count": 204,
   "metadata": {},
   "outputs": [],
   "source": [
    "test_df = df_driver.copy()\n",
    "test_df = test_df[['AGE', 'CRASH_HOUR', 'POSTED_SPEED_LIMIT', 'INJURIES_FATAL']]\n",
    "# make columns equal legnth \n",
    "test_df = test_df[test_df['AGE'].notna()]"
   ]
  },
  {
   "cell_type": "code",
   "execution_count": 156,
   "metadata": {},
   "outputs": [],
   "source": [
    "data = test_df[['AGE', 'CRASH_HOUR', 'POSTED_SPEED_LIMIT']].astype('int16')\n",
    "target = test_df.INJURIES_FATAL.values.astype('int16')"
   ]
  },
  {
   "cell_type": "markdown",
   "metadata": {},
   "source": [
    "# train-test split"
   ]
  },
  {
   "cell_type": "code",
   "execution_count": 166,
   "metadata": {},
   "outputs": [],
   "source": [
    "data_train, data_test, target_train, target_test = train_test_split(data, target, test_size = 0.5, random_state=42)"
   ]
  },
  {
   "cell_type": "markdown",
   "metadata": {},
   "source": [
    "# Decision Tree"
   ]
  },
  {
   "cell_type": "code",
   "execution_count": 167,
   "metadata": {},
   "outputs": [],
   "source": [
    "tree = DecisionTreeClassifier()"
   ]
  },
  {
   "cell_type": "code",
   "execution_count": 168,
   "metadata": {},
   "outputs": [],
   "source": [
    "tree_grid = {'max_leaf_nodes': list(range(2, 100)), \n",
    "             'min_samples_split': [2, 3, 4],\n",
    "             'max_depth': [5, 6, 7, 8, 9],\n",
    "            }\n"
   ]
  },
  {
   "cell_type": "code",
   "execution_count": 169,
   "metadata": {},
   "outputs": [],
   "source": [
    "tree_grid_search = GridSearchCV(tree, tree_grid, cv=5)"
   ]
  },
  {
   "cell_type": "code",
   "execution_count": 170,
   "metadata": {},
   "outputs": [
    {
     "data": {
      "text/plain": [
       "GridSearchCV(cv=5, estimator=DecisionTreeClassifier(),\n",
       "             param_grid={'max_depth': [5, 6, 7, 8, 9],\n",
       "                         'max_leaf_nodes': [2, 3, 4, 5, 6, 7, 8, 9, 10, 11, 12,\n",
       "                                            13, 14, 15, 16, 17, 18, 19, 20, 21,\n",
       "                                            22, 23, 24, 25, 26, 27, 28, 29, 30,\n",
       "                                            31, ...],\n",
       "                         'min_samples_split': [2, 3, 4]})"
      ]
     },
     "execution_count": 170,
     "metadata": {},
     "output_type": "execute_result"
    }
   ],
   "source": [
    "tree_grid_search.fit(data_train, target_train)"
   ]
  },
  {
   "cell_type": "code",
   "execution_count": 171,
   "metadata": {},
   "outputs": [
    {
     "data": {
      "text/plain": [
       "{'max_depth': 5, 'max_leaf_nodes': 2, 'min_samples_split': 2}"
      ]
     },
     "execution_count": 171,
     "metadata": {},
     "output_type": "execute_result"
    }
   ],
   "source": [
    "tree_grid_search.best_params_"
   ]
  },
  {
   "cell_type": "code",
   "execution_count": 172,
   "metadata": {},
   "outputs": [
    {
     "data": {
      "text/plain": [
       "0.9987706556394803"
      ]
     },
     "execution_count": 172,
     "metadata": {},
     "output_type": "execute_result"
    }
   ],
   "source": [
    "tree_grid_search.best_score_"
   ]
  },
  {
   "cell_type": "code",
   "execution_count": 185,
   "metadata": {},
   "outputs": [
    {
     "data": {
      "text/plain": [
       "0.9988018571214617"
      ]
     },
     "execution_count": 185,
     "metadata": {},
     "output_type": "execute_result"
    }
   ],
   "source": [
    "tree_grid_search.best_estimator_.score(data_test, target_test)"
   ]
  },
  {
   "cell_type": "code",
   "execution_count": 192,
   "metadata": {},
   "outputs": [
    {
     "data": {
      "text/html": [
       "<div>\n",
       "<style scoped>\n",
       "    .dataframe tbody tr th:only-of-type {\n",
       "        vertical-align: middle;\n",
       "    }\n",
       "\n",
       "    .dataframe tbody tr th {\n",
       "        vertical-align: top;\n",
       "    }\n",
       "\n",
       "    .dataframe thead th {\n",
       "        text-align: right;\n",
       "    }\n",
       "</style>\n",
       "<table border=\"1\" class=\"dataframe\">\n",
       "  <thead>\n",
       "    <tr style=\"text-align: right;\">\n",
       "      <th></th>\n",
       "      <th>mean_fit_time</th>\n",
       "      <th>std_fit_time</th>\n",
       "      <th>mean_score_time</th>\n",
       "      <th>std_score_time</th>\n",
       "      <th>param_max_depth</th>\n",
       "      <th>param_max_leaf_nodes</th>\n",
       "      <th>param_min_samples_split</th>\n",
       "      <th>params</th>\n",
       "      <th>split0_test_score</th>\n",
       "      <th>split1_test_score</th>\n",
       "      <th>split2_test_score</th>\n",
       "      <th>split3_test_score</th>\n",
       "      <th>split4_test_score</th>\n",
       "      <th>mean_test_score</th>\n",
       "      <th>std_test_score</th>\n",
       "      <th>rank_test_score</th>\n",
       "    </tr>\n",
       "  </thead>\n",
       "  <tbody>\n",
       "    <tr>\n",
       "      <th>0</th>\n",
       "      <td>0.024129</td>\n",
       "      <td>0.004554</td>\n",
       "      <td>0.002280</td>\n",
       "      <td>0.000349</td>\n",
       "      <td>5</td>\n",
       "      <td>2</td>\n",
       "      <td>2</td>\n",
       "      <td>{'max_depth': 5, 'max_leaf_nodes': 2, 'min_sam...</td>\n",
       "      <td>0.998783</td>\n",
       "      <td>0.998752</td>\n",
       "      <td>0.998752</td>\n",
       "      <td>0.998783</td>\n",
       "      <td>0.998783</td>\n",
       "      <td>0.998771</td>\n",
       "      <td>0.000015</td>\n",
       "      <td>1</td>\n",
       "    </tr>\n",
       "    <tr>\n",
       "      <th>1</th>\n",
       "      <td>0.020428</td>\n",
       "      <td>0.000484</td>\n",
       "      <td>0.001953</td>\n",
       "      <td>0.000030</td>\n",
       "      <td>5</td>\n",
       "      <td>2</td>\n",
       "      <td>3</td>\n",
       "      <td>{'max_depth': 5, 'max_leaf_nodes': 2, 'min_sam...</td>\n",
       "      <td>0.998783</td>\n",
       "      <td>0.998752</td>\n",
       "      <td>0.998752</td>\n",
       "      <td>0.998783</td>\n",
       "      <td>0.998783</td>\n",
       "      <td>0.998771</td>\n",
       "      <td>0.000015</td>\n",
       "      <td>1</td>\n",
       "    </tr>\n",
       "    <tr>\n",
       "      <th>2</th>\n",
       "      <td>0.020706</td>\n",
       "      <td>0.000592</td>\n",
       "      <td>0.002041</td>\n",
       "      <td>0.000090</td>\n",
       "      <td>5</td>\n",
       "      <td>2</td>\n",
       "      <td>4</td>\n",
       "      <td>{'max_depth': 5, 'max_leaf_nodes': 2, 'min_sam...</td>\n",
       "      <td>0.998783</td>\n",
       "      <td>0.998752</td>\n",
       "      <td>0.998752</td>\n",
       "      <td>0.998783</td>\n",
       "      <td>0.998783</td>\n",
       "      <td>0.998771</td>\n",
       "      <td>0.000015</td>\n",
       "      <td>1</td>\n",
       "    </tr>\n",
       "    <tr>\n",
       "      <th>3</th>\n",
       "      <td>0.025677</td>\n",
       "      <td>0.002415</td>\n",
       "      <td>0.002011</td>\n",
       "      <td>0.000043</td>\n",
       "      <td>5</td>\n",
       "      <td>3</td>\n",
       "      <td>2</td>\n",
       "      <td>{'max_depth': 5, 'max_leaf_nodes': 3, 'min_sam...</td>\n",
       "      <td>0.998783</td>\n",
       "      <td>0.998752</td>\n",
       "      <td>0.998752</td>\n",
       "      <td>0.998783</td>\n",
       "      <td>0.998783</td>\n",
       "      <td>0.998771</td>\n",
       "      <td>0.000015</td>\n",
       "      <td>1</td>\n",
       "    </tr>\n",
       "    <tr>\n",
       "      <th>4</th>\n",
       "      <td>0.025841</td>\n",
       "      <td>0.002666</td>\n",
       "      <td>0.002074</td>\n",
       "      <td>0.000101</td>\n",
       "      <td>5</td>\n",
       "      <td>3</td>\n",
       "      <td>3</td>\n",
       "      <td>{'max_depth': 5, 'max_leaf_nodes': 3, 'min_sam...</td>\n",
       "      <td>0.998783</td>\n",
       "      <td>0.998752</td>\n",
       "      <td>0.998752</td>\n",
       "      <td>0.998783</td>\n",
       "      <td>0.998783</td>\n",
       "      <td>0.998771</td>\n",
       "      <td>0.000015</td>\n",
       "      <td>1</td>\n",
       "    </tr>\n",
       "  </tbody>\n",
       "</table>\n",
       "</div>"
      ],
      "text/plain": [
       "   mean_fit_time  std_fit_time  mean_score_time  std_score_time  \\\n",
       "0       0.024129      0.004554         0.002280        0.000349   \n",
       "1       0.020428      0.000484         0.001953        0.000030   \n",
       "2       0.020706      0.000592         0.002041        0.000090   \n",
       "3       0.025677      0.002415         0.002011        0.000043   \n",
       "4       0.025841      0.002666         0.002074        0.000101   \n",
       "\n",
       "  param_max_depth param_max_leaf_nodes param_min_samples_split  \\\n",
       "0               5                    2                       2   \n",
       "1               5                    2                       3   \n",
       "2               5                    2                       4   \n",
       "3               5                    3                       2   \n",
       "4               5                    3                       3   \n",
       "\n",
       "                                              params  split0_test_score  \\\n",
       "0  {'max_depth': 5, 'max_leaf_nodes': 2, 'min_sam...           0.998783   \n",
       "1  {'max_depth': 5, 'max_leaf_nodes': 2, 'min_sam...           0.998783   \n",
       "2  {'max_depth': 5, 'max_leaf_nodes': 2, 'min_sam...           0.998783   \n",
       "3  {'max_depth': 5, 'max_leaf_nodes': 3, 'min_sam...           0.998783   \n",
       "4  {'max_depth': 5, 'max_leaf_nodes': 3, 'min_sam...           0.998783   \n",
       "\n",
       "   split1_test_score  split2_test_score  split3_test_score  split4_test_score  \\\n",
       "0           0.998752           0.998752           0.998783           0.998783   \n",
       "1           0.998752           0.998752           0.998783           0.998783   \n",
       "2           0.998752           0.998752           0.998783           0.998783   \n",
       "3           0.998752           0.998752           0.998783           0.998783   \n",
       "4           0.998752           0.998752           0.998783           0.998783   \n",
       "\n",
       "   mean_test_score  std_test_score  rank_test_score  \n",
       "0         0.998771        0.000015                1  \n",
       "1         0.998771        0.000015                1  \n",
       "2         0.998771        0.000015                1  \n",
       "3         0.998771        0.000015                1  \n",
       "4         0.998771        0.000015                1  "
      ]
     },
     "execution_count": 192,
     "metadata": {},
     "output_type": "execute_result"
    }
   ],
   "source": [
    "tree_cv_df = pd.DataFrame(tree_grid_search.cv_results_)\n",
    "tree_cv_df.head()"
   ]
  },
  {
   "cell_type": "code",
   "execution_count": 199,
   "metadata": {},
   "outputs": [],
   "source": [
    "best_tree = tree_grid_search.best_estimator_"
   ]
  },
  {
   "cell_type": "code",
   "execution_count": 196,
   "metadata": {},
   "outputs": [],
   "source": [
    "def plot_feature_importances(model):\n",
    "    n_features = data_train.shape[1]\n",
    "    plt.figure(figsize=(8,8))\n",
    "    plt.barh(range(n_features), model.feature_importances_, align='center') \n",
    "    plt.yticks(np.arange(n_features), data_train.columns.values) \n",
    "    plt.xlabel('Feature importance')\n",
    "    plt.ylabel('Feature')"
   ]
  },
  {
   "cell_type": "code",
   "execution_count": 200,
   "metadata": {},
   "outputs": [
    {
     "data": {
      "image/png": "[encoded data removed]",
      "text/plain": [
       "<Figure size 576x576 with 1 Axes>"
      ]
     },
     "metadata": {
      "needs_background": "light"
     },
     "output_type": "display_data"
    }
   ],
   "source": [
    "plot_feature_importances(best_tree)"
   ]
  },
  {
   "cell_type": "code",
   "execution_count": null,
   "metadata": {},
   "outputs": [],
   "source": []
  },
  {
   "cell_type": "markdown",
   "metadata": {},
   "source": [
    "# Random Forest"
   ]
  },
  {
   "cell_type": "code",
   "execution_count": 173,
   "metadata": {},
   "outputs": [],
   "source": [
    "forest = RandomForestClassifier()"
   ]
  },
  {
   "cell_type": "code",
   "execution_count": 177,
   "metadata": {},
   "outputs": [
    {
     "name": "stdout",
     "output_type": "stream",
     "text": [
      "{'max_features': ['sqrt', 'log2'], 'min_samples_split': [2, 5, 10], 'min_samples_leaf': [1, 2, 4]}\n"
     ]
    }
   ],
   "source": [
    "# Number of trees in random forest\n",
    "# n_estimators = [100,150,200]\n",
    "\n",
    "# The number of features to consider when looking for the best split\n",
    "max_features = ['sqrt', 'log2']\n",
    "\n",
    "# function to measure the quality of a split\n",
    "criteria = ['gini', 'entropy']\n",
    "\n",
    "# Minimum number of samples required to split a node\n",
    "min_samples_split = [2, 5, 10]\n",
    "\n",
    "# Minimum number of samples required at each leaf node\n",
    "min_samples_leaf = [1, 2, 4]\n",
    "\n",
    "# Create the random grid\n",
    "forrest_grid = {'max_features': max_features, \n",
    "                'min_samples_split': min_samples_split,\n",
    "               'min_samples_leaf': min_samples_leaf\n",
    "              }"
   ]
  },
  {
   "cell_type": "code",
   "execution_count": 178,
   "metadata": {},
   "outputs": [],
   "source": [
    "forrest_grid_search = GridSearchCV(estimator=forest, param_grid=forrest_grid, cv=5)"
   ]
  },
  {
   "cell_type": "code",
   "execution_count": 179,
   "metadata": {},
   "outputs": [
    {
     "data": {
      "text/plain": [
       "GridSearchCV(cv=5, estimator=RandomForestClassifier(),\n",
       "             param_grid={'max_features': ['sqrt', 'log2'],\n",
       "                         'min_samples_leaf': [1, 2, 4],\n",
       "                         'min_samples_split': [2, 5, 10]})"
      ]
     },
     "execution_count": 179,
     "metadata": {},
     "output_type": "execute_result"
    }
   ],
   "source": [
    "forrest_grid_search.fit(data_train, target_train)"
   ]
  },
  {
   "cell_type": "code",
   "execution_count": 180,
   "metadata": {},
   "outputs": [
    {
     "data": {
      "text/plain": [
       "{'max_features': 'sqrt', 'min_samples_leaf': 1, 'min_samples_split': 10}"
      ]
     },
     "execution_count": 180,
     "metadata": {},
     "output_type": "execute_result"
    }
   ],
   "source": [
    "forrest_grid_search.best_params_"
   ]
  },
  {
   "cell_type": "code",
   "execution_count": 181,
   "metadata": {},
   "outputs": [
    {
     "data": {
      "text/plain": [
       "0.9987706556394803"
      ]
     },
     "execution_count": 181,
     "metadata": {},
     "output_type": "execute_result"
    }
   ],
   "source": [
    "forrest_grid_search.best_score_"
   ]
  },
  {
   "cell_type": "code",
   "execution_count": 183,
   "metadata": {},
   "outputs": [
    {
     "data": {
      "text/plain": [
       "0.9988018571214617"
      ]
     },
     "execution_count": 183,
     "metadata": {},
     "output_type": "execute_result"
    }
   ],
   "source": [
    "forrest_grid_search.best_estimator_.score(data_test, target_test)"
   ]
  },
  {
   "cell_type": "code",
   "execution_count": 191,
   "metadata": {},
   "outputs": [
    {
     "data": {
      "text/html": [
       "<div>\n",
       "<style scoped>\n",
       "    .dataframe tbody tr th:only-of-type {\n",
       "        vertical-align: middle;\n",
       "    }\n",
       "\n",
       "    .dataframe tbody tr th {\n",
       "        vertical-align: top;\n",
       "    }\n",
       "\n",
       "    .dataframe thead th {\n",
       "        text-align: right;\n",
       "    }\n",
       "</style>\n",
       "<table border=\"1\" class=\"dataframe\">\n",
       "  <thead>\n",
       "    <tr style=\"text-align: right;\">\n",
       "      <th></th>\n",
       "      <th>mean_fit_time</th>\n",
       "      <th>std_fit_time</th>\n",
       "      <th>mean_score_time</th>\n",
       "      <th>std_score_time</th>\n",
       "      <th>param_max_features</th>\n",
       "      <th>param_min_samples_leaf</th>\n",
       "      <th>param_min_samples_split</th>\n",
       "      <th>params</th>\n",
       "      <th>split0_test_score</th>\n",
       "      <th>split1_test_score</th>\n",
       "      <th>split2_test_score</th>\n",
       "      <th>split3_test_score</th>\n",
       "      <th>split4_test_score</th>\n",
       "      <th>mean_test_score</th>\n",
       "      <th>std_test_score</th>\n",
       "      <th>rank_test_score</th>\n",
       "    </tr>\n",
       "  </thead>\n",
       "  <tbody>\n",
       "    <tr>\n",
       "      <th>0</th>\n",
       "      <td>2.608719</td>\n",
       "      <td>0.031437</td>\n",
       "      <td>0.229667</td>\n",
       "      <td>0.002871</td>\n",
       "      <td>sqrt</td>\n",
       "      <td>1</td>\n",
       "      <td>2</td>\n",
       "      <td>{'max_features': 'sqrt', 'min_samples_leaf': 1...</td>\n",
       "      <td>0.998752</td>\n",
       "      <td>0.998690</td>\n",
       "      <td>0.998752</td>\n",
       "      <td>0.998690</td>\n",
       "      <td>0.998565</td>\n",
       "      <td>0.998690</td>\n",
       "      <td>0.000068</td>\n",
       "      <td>17</td>\n",
       "    </tr>\n",
       "    <tr>\n",
       "      <th>1</th>\n",
       "      <td>2.612641</td>\n",
       "      <td>0.023280</td>\n",
       "      <td>0.229373</td>\n",
       "      <td>0.004059</td>\n",
       "      <td>sqrt</td>\n",
       "      <td>1</td>\n",
       "      <td>5</td>\n",
       "      <td>{'max_features': 'sqrt', 'min_samples_leaf': 1...</td>\n",
       "      <td>0.998783</td>\n",
       "      <td>0.998752</td>\n",
       "      <td>0.998752</td>\n",
       "      <td>0.998721</td>\n",
       "      <td>0.998752</td>\n",
       "      <td>0.998752</td>\n",
       "      <td>0.000020</td>\n",
       "      <td>15</td>\n",
       "    </tr>\n",
       "    <tr>\n",
       "      <th>2</th>\n",
       "      <td>2.598985</td>\n",
       "      <td>0.025440</td>\n",
       "      <td>0.229484</td>\n",
       "      <td>0.002873</td>\n",
       "      <td>sqrt</td>\n",
       "      <td>1</td>\n",
       "      <td>10</td>\n",
       "      <td>{'max_features': 'sqrt', 'min_samples_leaf': 1...</td>\n",
       "      <td>0.998783</td>\n",
       "      <td>0.998752</td>\n",
       "      <td>0.998752</td>\n",
       "      <td>0.998783</td>\n",
       "      <td>0.998783</td>\n",
       "      <td>0.998771</td>\n",
       "      <td>0.000015</td>\n",
       "      <td>1</td>\n",
       "    </tr>\n",
       "    <tr>\n",
       "      <th>3</th>\n",
       "      <td>2.535748</td>\n",
       "      <td>0.020700</td>\n",
       "      <td>0.221306</td>\n",
       "      <td>0.002901</td>\n",
       "      <td>sqrt</td>\n",
       "      <td>2</td>\n",
       "      <td>2</td>\n",
       "      <td>{'max_features': 'sqrt', 'min_samples_leaf': 2...</td>\n",
       "      <td>0.998783</td>\n",
       "      <td>0.998752</td>\n",
       "      <td>0.998752</td>\n",
       "      <td>0.998783</td>\n",
       "      <td>0.998783</td>\n",
       "      <td>0.998771</td>\n",
       "      <td>0.000015</td>\n",
       "      <td>1</td>\n",
       "    </tr>\n",
       "    <tr>\n",
       "      <th>4</th>\n",
       "      <td>2.553644</td>\n",
       "      <td>0.019702</td>\n",
       "      <td>0.221371</td>\n",
       "      <td>0.003696</td>\n",
       "      <td>sqrt</td>\n",
       "      <td>2</td>\n",
       "      <td>5</td>\n",
       "      <td>{'max_features': 'sqrt', 'min_samples_leaf': 2...</td>\n",
       "      <td>0.998783</td>\n",
       "      <td>0.998752</td>\n",
       "      <td>0.998752</td>\n",
       "      <td>0.998783</td>\n",
       "      <td>0.998783</td>\n",
       "      <td>0.998771</td>\n",
       "      <td>0.000015</td>\n",
       "      <td>1</td>\n",
       "    </tr>\n",
       "  </tbody>\n",
       "</table>\n",
       "</div>"
      ],
      "text/plain": [
       "   mean_fit_time  std_fit_time  mean_score_time  std_score_time  \\\n",
       "0       2.608719      0.031437         0.229667        0.002871   \n",
       "1       2.612641      0.023280         0.229373        0.004059   \n",
       "2       2.598985      0.025440         0.229484        0.002873   \n",
       "3       2.535748      0.020700         0.221306        0.002901   \n",
       "4       2.553644      0.019702         0.221371        0.003696   \n",
       "\n",
       "  param_max_features param_min_samples_leaf param_min_samples_split  \\\n",
       "0               sqrt                      1                       2   \n",
       "1               sqrt                      1                       5   \n",
       "2               sqrt                      1                      10   \n",
       "3               sqrt                      2                       2   \n",
       "4               sqrt                      2                       5   \n",
       "\n",
       "                                              params  split0_test_score  \\\n",
       "0  {'max_features': 'sqrt', 'min_samples_leaf': 1...           0.998752   \n",
       "1  {'max_features': 'sqrt', 'min_samples_leaf': 1...           0.998783   \n",
       "2  {'max_features': 'sqrt', 'min_samples_leaf': 1...           0.998783   \n",
       "3  {'max_features': 'sqrt', 'min_samples_leaf': 2...           0.998783   \n",
       "4  {'max_features': 'sqrt', 'min_samples_leaf': 2...           0.998783   \n",
       "\n",
       "   split1_test_score  split2_test_score  split3_test_score  split4_test_score  \\\n",
       "0           0.998690           0.998752           0.998690           0.998565   \n",
       "1           0.998752           0.998752           0.998721           0.998752   \n",
       "2           0.998752           0.998752           0.998783           0.998783   \n",
       "3           0.998752           0.998752           0.998783           0.998783   \n",
       "4           0.998752           0.998752           0.998783           0.998783   \n",
       "\n",
       "   mean_test_score  std_test_score  rank_test_score  \n",
       "0         0.998690        0.000068               17  \n",
       "1         0.998752        0.000020               15  \n",
       "2         0.998771        0.000015                1  \n",
       "3         0.998771        0.000015                1  \n",
       "4         0.998771        0.000015                1  "
      ]
     },
     "execution_count": 191,
     "metadata": {},
     "output_type": "execute_result"
    }
   ],
   "source": [
    "forest_cv_df = pd.DataFrame(forrest_grid_search.cv_results_)\n",
    "forest_cv_df.head()"
   ]
  },
  {
   "cell_type": "code",
   "execution_count": 202,
   "metadata": {},
   "outputs": [],
   "source": [
    "best_forest = forrest_grid_search.best_estimator_"
   ]
  },
  {
   "cell_type": "code",
   "execution_count": 203,
   "metadata": {},
   "outputs": [
    {
     "data": {
      "image/png": "[encoded data removed]",
      "text/plain": [
       "<Figure size 576x576 with 1 Axes>"
      ]
     },
     "metadata": {
      "needs_background": "light"
     },
     "output_type": "display_data"
    }
   ],
   "source": [
    "plot_feature_importances(best_forest)"
   ]
  },
  {
   "cell_type": "code",
   "execution_count": null,
   "metadata": {},
   "outputs": [],
   "source": []
  },
  {
   "cell_type": "markdown",
   "metadata": {},
   "source": [
    "# map"
   ]
  },
  {
   "cell_type": "code",
   "execution_count": 35,
   "metadata": {},
   "outputs": [],
   "source": [
    "import folium "
   ]
  },
  {
   "cell_type": "code",
   "execution_count": 40,
   "metadata": {},
   "outputs": [],
   "source": [
    "map_df = df_driver[:100]"
   ]
  },
  {
   "cell_type": "code",
   "execution_count": 117,
   "metadata": {},
   "outputs": [],
   "source": [
    "map_center = [map_df.LATITUDE.mean(), map_df.LONGITUDE.mean()]\n",
    "\n",
    "crash_map = folium.Map(location=map_center, zoom_start=10, control_scale=True)\n",
    "\n",
    "for index, location_info in map_df.iterrows():\n",
    "    folium.Marker([location_info[\"LATITUDE\"], location_info[\"LONGITUDE\"]], popup=location_info[\"INJURIES_FATAL\"]).add_to(crash_map)"
   ]
  },
  {
   "cell_type": "code",
   "execution_count": 118,
   "metadata": {},
   "outputs": [
    {
     "data": {
      "text/html": [
       "<div style=\"width:100%;\"><div style=\"position:relative;width:100%;height:0;padding-bottom:60%;\"><span style=\"color:#565656\">Make this Notebook Trusted to load map: File -> Trust Notebook</span><iframe src=\"about:blank\" style=\"position:absolute;width:100%;height:100%;left:0;top:0;border:none !important;\" data-html=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 onload=\"this.contentDocument.open();this.contentDocument.write(atob(this.getAttribute('data-html')));this.contentDocument.close();\" allowfullscreen webkitallowfullscreen mozallowfullscreen></iframe></div></div>"
      ],
      "text/plain": [
       "<folium.folium.Map at 0x7fd3f4d082e0>"
      ]
     },
     "execution_count": 118,
     "metadata": {},
     "output_type": "execute_result"
    }
   ],
   "source": [
    "crash_map"
   ]
  },
  {
   "cell_type": "code",
   "execution_count": null,
   "metadata": {},
   "outputs": [],
   "source": []
  }
 ],
 "metadata": {
  "kernelspec": {
   "display_name": "Python (learn-env)",
   "language": "python",
   "name": "learn-env"
  },
  "language_info": {
   "codemirror_mode": {
    "name": "ipython",
    "version": 3
   },
   "file_extension": ".py",
   "mimetype": "text/x-python",
   "name": "python",
   "nbconvert_exporter": "python",
   "pygments_lexer": "ipython3",
   "version": "3.8.5"
  }
 },
 "nbformat": 4,
 "nbformat_minor": 4
}
