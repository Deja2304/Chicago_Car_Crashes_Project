{
 "cells": [
  {
   "cell_type": "code",
   "execution_count": 37,
   "metadata": {},
   "outputs": [],
   "source": [
    "import pandas as pd\n",
    "import numpy as np\n",
    "import matplotlib.pyplot as plt\n",
    "%matplotlib inline\n",
    "import seaborn as sns\n",
    "import folium \n",
    "from sklearn.model_selection import train_test_split, RandomizedSearchCV, GridSearchCV\n",
    "from sklearn.tree import DecisionTreeClassifier\n",
    "from sklearn.ensemble import RandomForestClassifier\n",
    "from sklearn.model_selection import train_test_split"
   ]
  },
  {
   "cell_type": "markdown",
   "metadata": {},
   "source": [
    "## Important\n",
    "In order to use run this data you must download the data sets from the following 3 links and store them in the same folder as your notebook\n",
    "\n",
    "https://data.cityofchicago.org/Transportation/Traffic-Crashes-Crashes/85ca-t3if\n",
    "https://data.cityofchicago.org/Transportation/Traffic-Crashes-Vehicles/68nd-jvt3\n",
    "https://data.cityofchicago.org/Transportation/Traffic-Crashes-People/u6pd-qa9d"
   ]
  },
  {
   "cell_type": "code",
   "execution_count": 38,
   "metadata": {
    "scrolled": true
   },
   "outputs": [
    {
     "name": "stderr",
     "output_type": "stream",
     "text": [
      "/Users/deja/opt/anaconda3/envs/learn-env/lib/python3.8/site-packages/IPython/core/interactiveshell.py:3145: DtypeWarning: Columns (12,13,20,21,22,23,24,25,26,27,29) have mixed types.Specify dtype option on import or set low_memory=False.\n",
      "  has_raised = await self.run_ast_nodes(code_ast.body, cell_name,\n",
      "/Users/deja/opt/anaconda3/envs/learn-env/lib/python3.8/site-packages/IPython/core/interactiveshell.py:3145: DtypeWarning: Columns (19,21,40,41,42,44,48,49,50,53,55,58,59,61,71) have mixed types.Specify dtype option on import or set low_memory=False.\n",
      "  has_raised = await self.run_ast_nodes(code_ast.body, cell_name,\n"
     ]
    },
    {
     "data": {
      "text/html": [
       "<div>\n",
       "<style scoped>\n",
       "    .dataframe tbody tr th:only-of-type {\n",
       "        vertical-align: middle;\n",
       "    }\n",
       "\n",
       "    .dataframe tbody tr th {\n",
       "        vertical-align: top;\n",
       "    }\n",
       "\n",
       "    .dataframe thead th {\n",
       "        text-align: right;\n",
       "    }\n",
       "</style>\n",
       "<table border=\"1\" class=\"dataframe\">\n",
       "  <thead>\n",
       "    <tr style=\"text-align: right;\">\n",
       "      <th></th>\n",
       "      <th>CRASH_RECORD_ID</th>\n",
       "      <th>RD_NO</th>\n",
       "      <th>CRASH_DATE_EST_I</th>\n",
       "      <th>CRASH_DATE</th>\n",
       "      <th>POSTED_SPEED_LIMIT</th>\n",
       "      <th>TRAFFIC_CONTROL_DEVICE</th>\n",
       "      <th>DEVICE_CONDITION</th>\n",
       "      <th>WEATHER_CONDITION</th>\n",
       "      <th>LIGHTING_CONDITION</th>\n",
       "      <th>FIRST_CRASH_TYPE</th>\n",
       "      <th>...</th>\n",
       "      <th>INJURIES_NON_INCAPACITATING</th>\n",
       "      <th>INJURIES_REPORTED_NOT_EVIDENT</th>\n",
       "      <th>INJURIES_NO_INDICATION</th>\n",
       "      <th>INJURIES_UNKNOWN</th>\n",
       "      <th>CRASH_HOUR</th>\n",
       "      <th>CRASH_DAY_OF_WEEK</th>\n",
       "      <th>CRASH_MONTH</th>\n",
       "      <th>LATITUDE</th>\n",
       "      <th>LONGITUDE</th>\n",
       "      <th>LOCATION</th>\n",
       "    </tr>\n",
       "  </thead>\n",
       "  <tbody>\n",
       "    <tr>\n",
       "      <th>0</th>\n",
       "      <td>4fd0a3e0897b3335b94cd8d5b2d2b350eb691add56c62d...</td>\n",
       "      <td>JC343143</td>\n",
       "      <td>NaN</td>\n",
       "      <td>07/10/2019 05:56:00 PM</td>\n",
       "      <td>35</td>\n",
       "      <td>NO CONTROLS</td>\n",
       "      <td>NO CONTROLS</td>\n",
       "      <td>CLEAR</td>\n",
       "      <td>DAYLIGHT</td>\n",
       "      <td>TURNING</td>\n",
       "      <td>...</td>\n",
       "      <td>0.0</td>\n",
       "      <td>0.0</td>\n",
       "      <td>3.0</td>\n",
       "      <td>0.0</td>\n",
       "      <td>17</td>\n",
       "      <td>4</td>\n",
       "      <td>7</td>\n",
       "      <td>41.919664</td>\n",
       "      <td>-87.773288</td>\n",
       "      <td>POINT (-87.773287883007 41.919663832993)</td>\n",
       "    </tr>\n",
       "    <tr>\n",
       "      <th>1</th>\n",
       "      <td>009e9e67203442370272e1a13d6ee51a4155dac65e583d...</td>\n",
       "      <td>JA329216</td>\n",
       "      <td>NaN</td>\n",
       "      <td>06/30/2017 04:00:00 PM</td>\n",
       "      <td>35</td>\n",
       "      <td>STOP SIGN/FLASHER</td>\n",
       "      <td>FUNCTIONING PROPERLY</td>\n",
       "      <td>CLEAR</td>\n",
       "      <td>DAYLIGHT</td>\n",
       "      <td>TURNING</td>\n",
       "      <td>...</td>\n",
       "      <td>0.0</td>\n",
       "      <td>0.0</td>\n",
       "      <td>3.0</td>\n",
       "      <td>0.0</td>\n",
       "      <td>16</td>\n",
       "      <td>6</td>\n",
       "      <td>6</td>\n",
       "      <td>41.741804</td>\n",
       "      <td>-87.740954</td>\n",
       "      <td>POINT (-87.740953581987 41.741803598989)</td>\n",
       "    </tr>\n",
       "    <tr>\n",
       "      <th>2</th>\n",
       "      <td>ee9283eff3a55ac50ee58f3d9528ce1d689b1c4180b4c4...</td>\n",
       "      <td>JD292400</td>\n",
       "      <td>NaN</td>\n",
       "      <td>07/10/2020 10:25:00 AM</td>\n",
       "      <td>30</td>\n",
       "      <td>TRAFFIC SIGNAL</td>\n",
       "      <td>FUNCTIONING PROPERLY</td>\n",
       "      <td>CLEAR</td>\n",
       "      <td>DAYLIGHT</td>\n",
       "      <td>REAR END</td>\n",
       "      <td>...</td>\n",
       "      <td>0.0</td>\n",
       "      <td>0.0</td>\n",
       "      <td>3.0</td>\n",
       "      <td>0.0</td>\n",
       "      <td>10</td>\n",
       "      <td>6</td>\n",
       "      <td>7</td>\n",
       "      <td>41.773456</td>\n",
       "      <td>-87.585022</td>\n",
       "      <td>POINT (-87.585022352022 41.773455972008)</td>\n",
       "    </tr>\n",
       "    <tr>\n",
       "      <th>3</th>\n",
       "      <td>f8960f698e870ebdc60b521b2a141a5395556bc3704191...</td>\n",
       "      <td>JD293602</td>\n",
       "      <td>NaN</td>\n",
       "      <td>07/11/2020 01:00:00 AM</td>\n",
       "      <td>30</td>\n",
       "      <td>NO CONTROLS</td>\n",
       "      <td>NO CONTROLS</td>\n",
       "      <td>CLEAR</td>\n",
       "      <td>DARKNESS</td>\n",
       "      <td>PARKED MOTOR VEHICLE</td>\n",
       "      <td>...</td>\n",
       "      <td>0.0</td>\n",
       "      <td>0.0</td>\n",
       "      <td>3.0</td>\n",
       "      <td>0.0</td>\n",
       "      <td>1</td>\n",
       "      <td>7</td>\n",
       "      <td>7</td>\n",
       "      <td>41.802119</td>\n",
       "      <td>-87.622115</td>\n",
       "      <td>POINT (-87.622114914961 41.802118543011)</td>\n",
       "    </tr>\n",
       "    <tr>\n",
       "      <th>4</th>\n",
       "      <td>8eaa2678d1a127804ee9b8c35ddf7d63d913c14eda61d6...</td>\n",
       "      <td>JD290451</td>\n",
       "      <td>NaN</td>\n",
       "      <td>07/08/2020 02:00:00 PM</td>\n",
       "      <td>20</td>\n",
       "      <td>NO CONTROLS</td>\n",
       "      <td>NO CONTROLS</td>\n",
       "      <td>CLEAR</td>\n",
       "      <td>DAYLIGHT</td>\n",
       "      <td>PARKED MOTOR VEHICLE</td>\n",
       "      <td>...</td>\n",
       "      <td>0.0</td>\n",
       "      <td>0.0</td>\n",
       "      <td>1.0</td>\n",
       "      <td>0.0</td>\n",
       "      <td>14</td>\n",
       "      <td>4</td>\n",
       "      <td>7</td>\n",
       "      <td>NaN</td>\n",
       "      <td>NaN</td>\n",
       "      <td>NaN</td>\n",
       "    </tr>\n",
       "  </tbody>\n",
       "</table>\n",
       "<p>5 rows × 49 columns</p>\n",
       "</div>"
      ],
      "text/plain": [
       "                                     CRASH_RECORD_ID     RD_NO  \\\n",
       "0  4fd0a3e0897b3335b94cd8d5b2d2b350eb691add56c62d...  JC343143   \n",
       "1  009e9e67203442370272e1a13d6ee51a4155dac65e583d...  JA329216   \n",
       "2  ee9283eff3a55ac50ee58f3d9528ce1d689b1c4180b4c4...  JD292400   \n",
       "3  f8960f698e870ebdc60b521b2a141a5395556bc3704191...  JD293602   \n",
       "4  8eaa2678d1a127804ee9b8c35ddf7d63d913c14eda61d6...  JD290451   \n",
       "\n",
       "  CRASH_DATE_EST_I              CRASH_DATE  POSTED_SPEED_LIMIT  \\\n",
       "0              NaN  07/10/2019 05:56:00 PM                  35   \n",
       "1              NaN  06/30/2017 04:00:00 PM                  35   \n",
       "2              NaN  07/10/2020 10:25:00 AM                  30   \n",
       "3              NaN  07/11/2020 01:00:00 AM                  30   \n",
       "4              NaN  07/08/2020 02:00:00 PM                  20   \n",
       "\n",
       "  TRAFFIC_CONTROL_DEVICE      DEVICE_CONDITION WEATHER_CONDITION  \\\n",
       "0            NO CONTROLS           NO CONTROLS             CLEAR   \n",
       "1      STOP SIGN/FLASHER  FUNCTIONING PROPERLY             CLEAR   \n",
       "2         TRAFFIC SIGNAL  FUNCTIONING PROPERLY             CLEAR   \n",
       "3            NO CONTROLS           NO CONTROLS             CLEAR   \n",
       "4            NO CONTROLS           NO CONTROLS             CLEAR   \n",
       "\n",
       "  LIGHTING_CONDITION      FIRST_CRASH_TYPE  ... INJURIES_NON_INCAPACITATING  \\\n",
       "0           DAYLIGHT               TURNING  ...                         0.0   \n",
       "1           DAYLIGHT               TURNING  ...                         0.0   \n",
       "2           DAYLIGHT              REAR END  ...                         0.0   \n",
       "3           DARKNESS  PARKED MOTOR VEHICLE  ...                         0.0   \n",
       "4           DAYLIGHT  PARKED MOTOR VEHICLE  ...                         0.0   \n",
       "\n",
       "   INJURIES_REPORTED_NOT_EVIDENT INJURIES_NO_INDICATION INJURIES_UNKNOWN  \\\n",
       "0                            0.0                    3.0              0.0   \n",
       "1                            0.0                    3.0              0.0   \n",
       "2                            0.0                    3.0              0.0   \n",
       "3                            0.0                    3.0              0.0   \n",
       "4                            0.0                    1.0              0.0   \n",
       "\n",
       "  CRASH_HOUR CRASH_DAY_OF_WEEK CRASH_MONTH   LATITUDE  LONGITUDE  \\\n",
       "0         17                 4           7  41.919664 -87.773288   \n",
       "1         16                 6           6  41.741804 -87.740954   \n",
       "2         10                 6           7  41.773456 -87.585022   \n",
       "3          1                 7           7  41.802119 -87.622115   \n",
       "4         14                 4           7        NaN        NaN   \n",
       "\n",
       "                                   LOCATION  \n",
       "0  POINT (-87.773287883007 41.919663832993)  \n",
       "1  POINT (-87.740953581987 41.741803598989)  \n",
       "2  POINT (-87.585022352022 41.773455972008)  \n",
       "3  POINT (-87.622114914961 41.802118543011)  \n",
       "4                                       NaN  \n",
       "\n",
       "[5 rows x 49 columns]"
      ]
     },
     "execution_count": 38,
     "metadata": {},
     "output_type": "execute_result"
    }
   ],
   "source": [
    "#importing datasets\n",
    "df = pd.read_csv('Traffic_Crashes_-_Crashes.csv')\n",
    "df_people = pd.read_csv('Traffic_Crashes_-_People.csv')\n",
    "df_vehicles = pd.read_csv('Traffic_Crashes_-_Vehicles.csv')\n",
    "df.head()"
   ]
  },
  {
   "cell_type": "code",
   "execution_count": 39,
   "metadata": {},
   "outputs": [
    {
     "data": {
      "text/html": [
       "<div>\n",
       "<style scoped>\n",
       "    .dataframe tbody tr th:only-of-type {\n",
       "        vertical-align: middle;\n",
       "    }\n",
       "\n",
       "    .dataframe tbody tr th {\n",
       "        vertical-align: top;\n",
       "    }\n",
       "\n",
       "    .dataframe thead th {\n",
       "        text-align: right;\n",
       "    }\n",
       "</style>\n",
       "<table border=\"1\" class=\"dataframe\">\n",
       "  <thead>\n",
       "    <tr style=\"text-align: right;\">\n",
       "      <th></th>\n",
       "      <th>PERSON_ID</th>\n",
       "      <th>PERSON_TYPE</th>\n",
       "      <th>CRASH_RECORD_ID</th>\n",
       "      <th>RD_NO</th>\n",
       "      <th>VEHICLE_ID</th>\n",
       "      <th>CRASH_DATE</th>\n",
       "      <th>SEAT_NO</th>\n",
       "      <th>CITY</th>\n",
       "      <th>STATE</th>\n",
       "      <th>ZIPCODE</th>\n",
       "      <th>...</th>\n",
       "      <th>EMS_RUN_NO</th>\n",
       "      <th>DRIVER_ACTION</th>\n",
       "      <th>DRIVER_VISION</th>\n",
       "      <th>PHYSICAL_CONDITION</th>\n",
       "      <th>PEDPEDAL_ACTION</th>\n",
       "      <th>PEDPEDAL_VISIBILITY</th>\n",
       "      <th>PEDPEDAL_LOCATION</th>\n",
       "      <th>BAC_RESULT</th>\n",
       "      <th>BAC_RESULT VALUE</th>\n",
       "      <th>CELL_PHONE_USE</th>\n",
       "    </tr>\n",
       "  </thead>\n",
       "  <tbody>\n",
       "    <tr>\n",
       "      <th>0</th>\n",
       "      <td>O749947</td>\n",
       "      <td>DRIVER</td>\n",
       "      <td>81dc0de2ed92aa62baccab641fa377be7feb1cc47e6554...</td>\n",
       "      <td>JC451435</td>\n",
       "      <td>834816.0</td>\n",
       "      <td>09/28/2019 03:30:00 AM</td>\n",
       "      <td>NaN</td>\n",
       "      <td>CHICAGO</td>\n",
       "      <td>IL</td>\n",
       "      <td>60651</td>\n",
       "      <td>...</td>\n",
       "      <td>NaN</td>\n",
       "      <td>UNKNOWN</td>\n",
       "      <td>UNKNOWN</td>\n",
       "      <td>UNKNOWN</td>\n",
       "      <td>NaN</td>\n",
       "      <td>NaN</td>\n",
       "      <td>NaN</td>\n",
       "      <td>TEST NOT OFFERED</td>\n",
       "      <td>NaN</td>\n",
       "      <td>NaN</td>\n",
       "    </tr>\n",
       "    <tr>\n",
       "      <th>1</th>\n",
       "      <td>O871921</td>\n",
       "      <td>DRIVER</td>\n",
       "      <td>af84fb5c8d996fcd3aefd36593c3a02e6e7509eeb27568...</td>\n",
       "      <td>JD208731</td>\n",
       "      <td>827212.0</td>\n",
       "      <td>04/13/2020 10:50:00 PM</td>\n",
       "      <td>NaN</td>\n",
       "      <td>CHICAGO</td>\n",
       "      <td>IL</td>\n",
       "      <td>60620</td>\n",
       "      <td>...</td>\n",
       "      <td>NaN</td>\n",
       "      <td>NONE</td>\n",
       "      <td>NOT OBSCURED</td>\n",
       "      <td>NORMAL</td>\n",
       "      <td>NaN</td>\n",
       "      <td>NaN</td>\n",
       "      <td>NaN</td>\n",
       "      <td>TEST NOT OFFERED</td>\n",
       "      <td>NaN</td>\n",
       "      <td>NaN</td>\n",
       "    </tr>\n",
       "    <tr>\n",
       "      <th>2</th>\n",
       "      <td>O10018</td>\n",
       "      <td>DRIVER</td>\n",
       "      <td>71162af7bf22799b776547132ebf134b5b438dcf3dac6b...</td>\n",
       "      <td>HY484534</td>\n",
       "      <td>9579.0</td>\n",
       "      <td>11/01/2015 05:00:00 AM</td>\n",
       "      <td>NaN</td>\n",
       "      <td>NaN</td>\n",
       "      <td>NaN</td>\n",
       "      <td>NaN</td>\n",
       "      <td>...</td>\n",
       "      <td>NaN</td>\n",
       "      <td>IMPROPER BACKING</td>\n",
       "      <td>UNKNOWN</td>\n",
       "      <td>UNKNOWN</td>\n",
       "      <td>NaN</td>\n",
       "      <td>NaN</td>\n",
       "      <td>NaN</td>\n",
       "      <td>TEST NOT OFFERED</td>\n",
       "      <td>NaN</td>\n",
       "      <td>NaN</td>\n",
       "    </tr>\n",
       "    <tr>\n",
       "      <th>3</th>\n",
       "      <td>O10038</td>\n",
       "      <td>DRIVER</td>\n",
       "      <td>c21c476e2ccc41af550b5d858d22aaac4ffc88745a1700...</td>\n",
       "      <td>HY484750</td>\n",
       "      <td>9598.0</td>\n",
       "      <td>11/01/2015 08:00:00 AM</td>\n",
       "      <td>NaN</td>\n",
       "      <td>NaN</td>\n",
       "      <td>NaN</td>\n",
       "      <td>NaN</td>\n",
       "      <td>...</td>\n",
       "      <td>NaN</td>\n",
       "      <td>UNKNOWN</td>\n",
       "      <td>UNKNOWN</td>\n",
       "      <td>UNKNOWN</td>\n",
       "      <td>NaN</td>\n",
       "      <td>NaN</td>\n",
       "      <td>NaN</td>\n",
       "      <td>TEST NOT OFFERED</td>\n",
       "      <td>NaN</td>\n",
       "      <td>NaN</td>\n",
       "    </tr>\n",
       "    <tr>\n",
       "      <th>4</th>\n",
       "      <td>O10039</td>\n",
       "      <td>DRIVER</td>\n",
       "      <td>eb390a4c8e114c69488f5fb8a097fe629f5a92fd528cf4...</td>\n",
       "      <td>HY484778</td>\n",
       "      <td>9600.0</td>\n",
       "      <td>11/01/2015 10:15:00 AM</td>\n",
       "      <td>NaN</td>\n",
       "      <td>NaN</td>\n",
       "      <td>NaN</td>\n",
       "      <td>NaN</td>\n",
       "      <td>...</td>\n",
       "      <td>NaN</td>\n",
       "      <td>UNKNOWN</td>\n",
       "      <td>UNKNOWN</td>\n",
       "      <td>UNKNOWN</td>\n",
       "      <td>NaN</td>\n",
       "      <td>NaN</td>\n",
       "      <td>NaN</td>\n",
       "      <td>TEST NOT OFFERED</td>\n",
       "      <td>NaN</td>\n",
       "      <td>NaN</td>\n",
       "    </tr>\n",
       "  </tbody>\n",
       "</table>\n",
       "<p>5 rows × 30 columns</p>\n",
       "</div>"
      ],
      "text/plain": [
       "  PERSON_ID PERSON_TYPE                                    CRASH_RECORD_ID  \\\n",
       "0   O749947      DRIVER  81dc0de2ed92aa62baccab641fa377be7feb1cc47e6554...   \n",
       "1   O871921      DRIVER  af84fb5c8d996fcd3aefd36593c3a02e6e7509eeb27568...   \n",
       "2    O10018      DRIVER  71162af7bf22799b776547132ebf134b5b438dcf3dac6b...   \n",
       "3    O10038      DRIVER  c21c476e2ccc41af550b5d858d22aaac4ffc88745a1700...   \n",
       "4    O10039      DRIVER  eb390a4c8e114c69488f5fb8a097fe629f5a92fd528cf4...   \n",
       "\n",
       "      RD_NO  VEHICLE_ID              CRASH_DATE  SEAT_NO     CITY STATE  \\\n",
       "0  JC451435    834816.0  09/28/2019 03:30:00 AM      NaN  CHICAGO    IL   \n",
       "1  JD208731    827212.0  04/13/2020 10:50:00 PM      NaN  CHICAGO    IL   \n",
       "2  HY484534      9579.0  11/01/2015 05:00:00 AM      NaN      NaN   NaN   \n",
       "3  HY484750      9598.0  11/01/2015 08:00:00 AM      NaN      NaN   NaN   \n",
       "4  HY484778      9600.0  11/01/2015 10:15:00 AM      NaN      NaN   NaN   \n",
       "\n",
       "  ZIPCODE  ... EMS_RUN_NO     DRIVER_ACTION DRIVER_VISION PHYSICAL_CONDITION  \\\n",
       "0   60651  ...        NaN           UNKNOWN       UNKNOWN            UNKNOWN   \n",
       "1   60620  ...        NaN              NONE  NOT OBSCURED             NORMAL   \n",
       "2     NaN  ...        NaN  IMPROPER BACKING       UNKNOWN            UNKNOWN   \n",
       "3     NaN  ...        NaN           UNKNOWN       UNKNOWN            UNKNOWN   \n",
       "4     NaN  ...        NaN           UNKNOWN       UNKNOWN            UNKNOWN   \n",
       "\n",
       "  PEDPEDAL_ACTION PEDPEDAL_VISIBILITY PEDPEDAL_LOCATION        BAC_RESULT  \\\n",
       "0             NaN                 NaN               NaN  TEST NOT OFFERED   \n",
       "1             NaN                 NaN               NaN  TEST NOT OFFERED   \n",
       "2             NaN                 NaN               NaN  TEST NOT OFFERED   \n",
       "3             NaN                 NaN               NaN  TEST NOT OFFERED   \n",
       "4             NaN                 NaN               NaN  TEST NOT OFFERED   \n",
       "\n",
       "  BAC_RESULT VALUE CELL_PHONE_USE  \n",
       "0              NaN            NaN  \n",
       "1              NaN            NaN  \n",
       "2              NaN            NaN  \n",
       "3              NaN            NaN  \n",
       "4              NaN            NaN  \n",
       "\n",
       "[5 rows x 30 columns]"
      ]
     },
     "execution_count": 39,
     "metadata": {},
     "output_type": "execute_result"
    }
   ],
   "source": [
    "df_people.head()"
   ]
  },
  {
   "cell_type": "code",
   "execution_count": 40,
   "metadata": {},
   "outputs": [
    {
     "data": {
      "text/html": [
       "<div>\n",
       "<style scoped>\n",
       "    .dataframe tbody tr th:only-of-type {\n",
       "        vertical-align: middle;\n",
       "    }\n",
       "\n",
       "    .dataframe tbody tr th {\n",
       "        vertical-align: top;\n",
       "    }\n",
       "\n",
       "    .dataframe thead th {\n",
       "        text-align: right;\n",
       "    }\n",
       "</style>\n",
       "<table border=\"1\" class=\"dataframe\">\n",
       "  <thead>\n",
       "    <tr style=\"text-align: right;\">\n",
       "      <th></th>\n",
       "      <th>CRASH_UNIT_ID</th>\n",
       "      <th>CRASH_RECORD_ID</th>\n",
       "      <th>RD_NO</th>\n",
       "      <th>CRASH_DATE</th>\n",
       "      <th>UNIT_NO</th>\n",
       "      <th>UNIT_TYPE</th>\n",
       "      <th>NUM_PASSENGERS</th>\n",
       "      <th>VEHICLE_ID</th>\n",
       "      <th>CMRC_VEH_I</th>\n",
       "      <th>MAKE</th>\n",
       "      <th>...</th>\n",
       "      <th>TRAILER1_LENGTH</th>\n",
       "      <th>TRAILER2_LENGTH</th>\n",
       "      <th>TOTAL_VEHICLE_LENGTH</th>\n",
       "      <th>AXLE_CNT</th>\n",
       "      <th>VEHICLE_CONFIG</th>\n",
       "      <th>CARGO_BODY_TYPE</th>\n",
       "      <th>LOAD_TYPE</th>\n",
       "      <th>HAZMAT_OUT_OF_SERVICE_I</th>\n",
       "      <th>MCS_OUT_OF_SERVICE_I</th>\n",
       "      <th>HAZMAT_CLASS</th>\n",
       "    </tr>\n",
       "  </thead>\n",
       "  <tbody>\n",
       "    <tr>\n",
       "      <th>0</th>\n",
       "      <td>829999</td>\n",
       "      <td>24ddf9fd8542199d832e1c223cc474e5601b356f1d77a6...</td>\n",
       "      <td>JD124535</td>\n",
       "      <td>01/22/2020 06:25:00 AM</td>\n",
       "      <td>1</td>\n",
       "      <td>DRIVER</td>\n",
       "      <td>NaN</td>\n",
       "      <td>796949.0</td>\n",
       "      <td>NaN</td>\n",
       "      <td>INFINITI</td>\n",
       "      <td>...</td>\n",
       "      <td>NaN</td>\n",
       "      <td>NaN</td>\n",
       "      <td>NaN</td>\n",
       "      <td>NaN</td>\n",
       "      <td>NaN</td>\n",
       "      <td>NaN</td>\n",
       "      <td>NaN</td>\n",
       "      <td>NaN</td>\n",
       "      <td>NaN</td>\n",
       "      <td>NaN</td>\n",
       "    </tr>\n",
       "    <tr>\n",
       "      <th>1</th>\n",
       "      <td>749947</td>\n",
       "      <td>81dc0de2ed92aa62baccab641fa377be7feb1cc47e6554...</td>\n",
       "      <td>JC451435</td>\n",
       "      <td>09/28/2019 03:30:00 AM</td>\n",
       "      <td>1</td>\n",
       "      <td>DRIVER</td>\n",
       "      <td>NaN</td>\n",
       "      <td>834816.0</td>\n",
       "      <td>NaN</td>\n",
       "      <td>HONDA</td>\n",
       "      <td>...</td>\n",
       "      <td>NaN</td>\n",
       "      <td>NaN</td>\n",
       "      <td>NaN</td>\n",
       "      <td>NaN</td>\n",
       "      <td>NaN</td>\n",
       "      <td>NaN</td>\n",
       "      <td>NaN</td>\n",
       "      <td>NaN</td>\n",
       "      <td>NaN</td>\n",
       "      <td>NaN</td>\n",
       "    </tr>\n",
       "    <tr>\n",
       "      <th>2</th>\n",
       "      <td>749949</td>\n",
       "      <td>81dc0de2ed92aa62baccab641fa377be7feb1cc47e6554...</td>\n",
       "      <td>JC451435</td>\n",
       "      <td>09/28/2019 03:30:00 AM</td>\n",
       "      <td>2</td>\n",
       "      <td>PARKED</td>\n",
       "      <td>NaN</td>\n",
       "      <td>834819.0</td>\n",
       "      <td>NaN</td>\n",
       "      <td>TOYOTA</td>\n",
       "      <td>...</td>\n",
       "      <td>NaN</td>\n",
       "      <td>NaN</td>\n",
       "      <td>NaN</td>\n",
       "      <td>NaN</td>\n",
       "      <td>NaN</td>\n",
       "      <td>NaN</td>\n",
       "      <td>NaN</td>\n",
       "      <td>NaN</td>\n",
       "      <td>NaN</td>\n",
       "      <td>NaN</td>\n",
       "    </tr>\n",
       "    <tr>\n",
       "      <th>3</th>\n",
       "      <td>749950</td>\n",
       "      <td>81dc0de2ed92aa62baccab641fa377be7feb1cc47e6554...</td>\n",
       "      <td>JC451435</td>\n",
       "      <td>09/28/2019 03:30:00 AM</td>\n",
       "      <td>3</td>\n",
       "      <td>PARKED</td>\n",
       "      <td>NaN</td>\n",
       "      <td>834817.0</td>\n",
       "      <td>NaN</td>\n",
       "      <td>GENERAL MOTORS CORPORATION (GMC)</td>\n",
       "      <td>...</td>\n",
       "      <td>NaN</td>\n",
       "      <td>NaN</td>\n",
       "      <td>NaN</td>\n",
       "      <td>NaN</td>\n",
       "      <td>NaN</td>\n",
       "      <td>NaN</td>\n",
       "      <td>NaN</td>\n",
       "      <td>NaN</td>\n",
       "      <td>NaN</td>\n",
       "      <td>NaN</td>\n",
       "    </tr>\n",
       "    <tr>\n",
       "      <th>4</th>\n",
       "      <td>871921</td>\n",
       "      <td>af84fb5c8d996fcd3aefd36593c3a02e6e7509eeb27568...</td>\n",
       "      <td>JD208731</td>\n",
       "      <td>04/13/2020 10:50:00 PM</td>\n",
       "      <td>2</td>\n",
       "      <td>DRIVER</td>\n",
       "      <td>NaN</td>\n",
       "      <td>827212.0</td>\n",
       "      <td>NaN</td>\n",
       "      <td>BUICK</td>\n",
       "      <td>...</td>\n",
       "      <td>NaN</td>\n",
       "      <td>NaN</td>\n",
       "      <td>NaN</td>\n",
       "      <td>NaN</td>\n",
       "      <td>NaN</td>\n",
       "      <td>NaN</td>\n",
       "      <td>NaN</td>\n",
       "      <td>NaN</td>\n",
       "      <td>NaN</td>\n",
       "      <td>NaN</td>\n",
       "    </tr>\n",
       "  </tbody>\n",
       "</table>\n",
       "<p>5 rows × 72 columns</p>\n",
       "</div>"
      ],
      "text/plain": [
       "   CRASH_UNIT_ID                                    CRASH_RECORD_ID     RD_NO  \\\n",
       "0         829999  24ddf9fd8542199d832e1c223cc474e5601b356f1d77a6...  JD124535   \n",
       "1         749947  81dc0de2ed92aa62baccab641fa377be7feb1cc47e6554...  JC451435   \n",
       "2         749949  81dc0de2ed92aa62baccab641fa377be7feb1cc47e6554...  JC451435   \n",
       "3         749950  81dc0de2ed92aa62baccab641fa377be7feb1cc47e6554...  JC451435   \n",
       "4         871921  af84fb5c8d996fcd3aefd36593c3a02e6e7509eeb27568...  JD208731   \n",
       "\n",
       "               CRASH_DATE  UNIT_NO UNIT_TYPE  NUM_PASSENGERS  VEHICLE_ID  \\\n",
       "0  01/22/2020 06:25:00 AM        1    DRIVER             NaN    796949.0   \n",
       "1  09/28/2019 03:30:00 AM        1    DRIVER             NaN    834816.0   \n",
       "2  09/28/2019 03:30:00 AM        2    PARKED             NaN    834819.0   \n",
       "3  09/28/2019 03:30:00 AM        3    PARKED             NaN    834817.0   \n",
       "4  04/13/2020 10:50:00 PM        2    DRIVER             NaN    827212.0   \n",
       "\n",
       "  CMRC_VEH_I                              MAKE  ... TRAILER1_LENGTH  \\\n",
       "0        NaN                          INFINITI  ...             NaN   \n",
       "1        NaN                             HONDA  ...             NaN   \n",
       "2        NaN                            TOYOTA  ...             NaN   \n",
       "3        NaN  GENERAL MOTORS CORPORATION (GMC)  ...             NaN   \n",
       "4        NaN                             BUICK  ...             NaN   \n",
       "\n",
       "  TRAILER2_LENGTH  TOTAL_VEHICLE_LENGTH AXLE_CNT VEHICLE_CONFIG  \\\n",
       "0             NaN                   NaN      NaN            NaN   \n",
       "1             NaN                   NaN      NaN            NaN   \n",
       "2             NaN                   NaN      NaN            NaN   \n",
       "3             NaN                   NaN      NaN            NaN   \n",
       "4             NaN                   NaN      NaN            NaN   \n",
       "\n",
       "  CARGO_BODY_TYPE LOAD_TYPE HAZMAT_OUT_OF_SERVICE_I MCS_OUT_OF_SERVICE_I  \\\n",
       "0             NaN       NaN                     NaN                  NaN   \n",
       "1             NaN       NaN                     NaN                  NaN   \n",
       "2             NaN       NaN                     NaN                  NaN   \n",
       "3             NaN       NaN                     NaN                  NaN   \n",
       "4             NaN       NaN                     NaN                  NaN   \n",
       "\n",
       "  HAZMAT_CLASS  \n",
       "0          NaN  \n",
       "1          NaN  \n",
       "2          NaN  \n",
       "3          NaN  \n",
       "4          NaN  \n",
       "\n",
       "[5 rows x 72 columns]"
      ]
     },
     "execution_count": 40,
     "metadata": {},
     "output_type": "execute_result"
    }
   ],
   "source": [
    "df_vehicles.head()"
   ]
  },
  {
   "cell_type": "code",
   "execution_count": 41,
   "metadata": {},
   "outputs": [
    {
     "name": "stdout",
     "output_type": "stream",
     "text": [
      "<class 'pandas.core.frame.DataFrame'>\n",
      "RangeIndex: 567797 entries, 0 to 567796\n",
      "Data columns (total 49 columns):\n",
      " #   Column                         Non-Null Count   Dtype  \n",
      "---  ------                         --------------   -----  \n",
      " 0   CRASH_RECORD_ID                567797 non-null  object \n",
      " 1   RD_NO                          563961 non-null  object \n",
      " 2   CRASH_DATE_EST_I               42926 non-null   object \n",
      " 3   CRASH_DATE                     567797 non-null  object \n",
      " 4   POSTED_SPEED_LIMIT             567797 non-null  int64  \n",
      " 5   TRAFFIC_CONTROL_DEVICE         567797 non-null  object \n",
      " 6   DEVICE_CONDITION               567797 non-null  object \n",
      " 7   WEATHER_CONDITION              567797 non-null  object \n",
      " 8   LIGHTING_CONDITION             567797 non-null  object \n",
      " 9   FIRST_CRASH_TYPE               567797 non-null  object \n",
      " 10  TRAFFICWAY_TYPE                567797 non-null  object \n",
      " 11  LANE_CNT                       198975 non-null  float64\n",
      " 12  ALIGNMENT                      567797 non-null  object \n",
      " 13  ROADWAY_SURFACE_COND           567797 non-null  object \n",
      " 14  ROAD_DEFECT                    567797 non-null  object \n",
      " 15  REPORT_TYPE                    553436 non-null  object \n",
      " 16  CRASH_TYPE                     567797 non-null  object \n",
      " 17  INTERSECTION_RELATED_I         129167 non-null  object \n",
      " 18  NOT_RIGHT_OF_WAY_I             26754 non-null   object \n",
      " 19  HIT_AND_RUN_I                  172106 non-null  object \n",
      " 20  DAMAGE                         567797 non-null  object \n",
      " 21  DATE_POLICE_NOTIFIED           567797 non-null  object \n",
      " 22  PRIM_CONTRIBUTORY_CAUSE        567797 non-null  object \n",
      " 23  SEC_CONTRIBUTORY_CAUSE         567797 non-null  object \n",
      " 24  STREET_NO                      567797 non-null  int64  \n",
      " 25  STREET_DIRECTION               567793 non-null  object \n",
      " 26  STREET_NAME                    567796 non-null  object \n",
      " 27  BEAT_OF_OCCURRENCE             567792 non-null  float64\n",
      " 28  PHOTOS_TAKEN_I                 7008 non-null    object \n",
      " 29  STATEMENTS_TAKEN_I             11462 non-null   object \n",
      " 30  DOORING_I                      1825 non-null    object \n",
      " 31  WORK_ZONE_I                    3536 non-null    object \n",
      " 32  WORK_ZONE_TYPE                 2800 non-null    object \n",
      " 33  WORKERS_PRESENT_I              881 non-null     object \n",
      " 34  NUM_UNITS                      567797 non-null  int64  \n",
      " 35  MOST_SEVERE_INJURY             566622 non-null  object \n",
      " 36  INJURIES_TOTAL                 566633 non-null  float64\n",
      " 37  INJURIES_FATAL                 566633 non-null  float64\n",
      " 38  INJURIES_INCAPACITATING        566633 non-null  float64\n",
      " 39  INJURIES_NON_INCAPACITATING    566633 non-null  float64\n",
      " 40  INJURIES_REPORTED_NOT_EVIDENT  566633 non-null  float64\n",
      " 41  INJURIES_NO_INDICATION         566633 non-null  float64\n",
      " 42  INJURIES_UNKNOWN               566633 non-null  float64\n",
      " 43  CRASH_HOUR                     567797 non-null  int64  \n",
      " 44  CRASH_DAY_OF_WEEK              567797 non-null  int64  \n",
      " 45  CRASH_MONTH                    567797 non-null  int64  \n",
      " 46  LATITUDE                       564487 non-null  float64\n",
      " 47  LONGITUDE                      564487 non-null  float64\n",
      " 48  LOCATION                       564487 non-null  object \n",
      "dtypes: float64(11), int64(6), object(32)\n",
      "memory usage: 212.3+ MB\n"
     ]
    }
   ],
   "source": [
    "df.info()"
   ]
  },
  {
   "cell_type": "code",
   "execution_count": 42,
   "metadata": {},
   "outputs": [
    {
     "name": "stdout",
     "output_type": "stream",
     "text": [
      "<class 'pandas.core.frame.DataFrame'>\n",
      "RangeIndex: 1251211 entries, 0 to 1251210\n",
      "Data columns (total 30 columns):\n",
      " #   Column                 Non-Null Count    Dtype  \n",
      "---  ------                 --------------    -----  \n",
      " 0   PERSON_ID              1251211 non-null  object \n",
      " 1   PERSON_TYPE            1251211 non-null  object \n",
      " 2   CRASH_RECORD_ID        1251211 non-null  object \n",
      " 3   RD_NO                  1242411 non-null  object \n",
      " 4   VEHICLE_ID             1226460 non-null  float64\n",
      " 5   CRASH_DATE             1251211 non-null  object \n",
      " 6   SEAT_NO                255463 non-null   float64\n",
      " 7   CITY                   918813 non-null   object \n",
      " 8   STATE                  929935 non-null   object \n",
      " 9   ZIPCODE                838905 non-null   object \n",
      " 10  SEX                    1232275 non-null  object \n",
      " 11  AGE                    890752 non-null   float64\n",
      " 12  DRIVERS_LICENSE_STATE  737397 non-null   object \n",
      " 13  DRIVERS_LICENSE_CLASS  633054 non-null   object \n",
      " 14  SAFETY_EQUIPMENT       1247568 non-null  object \n",
      " 15  AIRBAG_DEPLOYED        1227480 non-null  object \n",
      " 16  EJECTION               1235947 non-null  object \n",
      " 17  INJURY_CLASSIFICATION  1250611 non-null  object \n",
      " 18  HOSPITAL               223881 non-null   object \n",
      " 19  EMS_AGENCY             141162 non-null   object \n",
      " 20  EMS_RUN_NO             23091 non-null    object \n",
      " 21  DRIVER_ACTION          993389 non-null   object \n",
      " 22  DRIVER_VISION          993033 non-null   object \n",
      " 23  PHYSICAL_CONDITION     994087 non-null   object \n",
      " 24  PEDPEDAL_ACTION        23342 non-null    object \n",
      " 25  PEDPEDAL_VISIBILITY    23291 non-null    object \n",
      " 26  PEDPEDAL_LOCATION      23340 non-null    object \n",
      " 27  BAC_RESULT             994476 non-null   object \n",
      " 28  BAC_RESULT VALUE       1568 non-null     float64\n",
      " 29  CELL_PHONE_USE         1157 non-null     object \n",
      "dtypes: float64(4), object(26)\n",
      "memory usage: 286.4+ MB\n"
     ]
    }
   ],
   "source": [
    "df_people.info()"
   ]
  },
  {
   "cell_type": "code",
   "execution_count": 43,
   "metadata": {},
   "outputs": [
    {
     "name": "stdout",
     "output_type": "stream",
     "text": [
      "<class 'pandas.core.frame.DataFrame'>\n",
      "RangeIndex: 1162795 entries, 0 to 1162794\n",
      "Data columns (total 72 columns):\n",
      " #   Column                    Non-Null Count    Dtype  \n",
      "---  ------                    --------------    -----  \n",
      " 0   CRASH_UNIT_ID             1162795 non-null  int64  \n",
      " 1   CRASH_RECORD_ID           1162795 non-null  object \n",
      " 2   RD_NO                     1154843 non-null  object \n",
      " 3   CRASH_DATE                1162795 non-null  object \n",
      " 4   UNIT_NO                   1162795 non-null  int64  \n",
      " 5   UNIT_TYPE                 1161127 non-null  object \n",
      " 6   NUM_PASSENGERS            173909 non-null   float64\n",
      " 7   VEHICLE_ID                1136152 non-null  float64\n",
      " 8   CMRC_VEH_I                21466 non-null    object \n",
      " 9   MAKE                      1136147 non-null  object \n",
      " 10  MODEL                     1136003 non-null  object \n",
      " 11  LIC_PLATE_STATE           1035993 non-null  object \n",
      " 12  VEHICLE_YEAR              950868 non-null   float64\n",
      " 13  VEHICLE_DEFECT            1136152 non-null  object \n",
      " 14  VEHICLE_TYPE              1136152 non-null  object \n",
      " 15  VEHICLE_USE               1136152 non-null  object \n",
      " 16  TRAVEL_DIRECTION          1136152 non-null  object \n",
      " 17  MANEUVER                  1136152 non-null  object \n",
      " 18  TOWED_I                   137769 non-null   object \n",
      " 19  FIRE_I                    898 non-null      object \n",
      " 20  OCCUPANT_CNT              1136152 non-null  float64\n",
      " 21  EXCEED_SPEED_LIMIT_I      2393 non-null     object \n",
      " 22  TOWED_BY                  101673 non-null   object \n",
      " 23  TOWED_TO                  62894 non-null    object \n",
      " 24  AREA_00_I                 43170 non-null    object \n",
      " 25  AREA_01_I                 303956 non-null   object \n",
      " 26  AREA_02_I                 192701 non-null   object \n",
      " 27  AREA_03_I                 110267 non-null   object \n",
      " 28  AREA_04_I                 113663 non-null   object \n",
      " 29  AREA_05_I                 174291 non-null   object \n",
      " 30  AREA_06_I                 177291 non-null   object \n",
      " 31  AREA_07_I                 156048 non-null   object \n",
      " 32  AREA_08_I                 184820 non-null   object \n",
      " 33  AREA_09_I                 58895 non-null    object \n",
      " 34  AREA_10_I                 84637 non-null    object \n",
      " 35  AREA_11_I                 166742 non-null   object \n",
      " 36  AREA_12_I                 164163 non-null   object \n",
      " 37  AREA_99_I                 125034 non-null   object \n",
      " 38  FIRST_CONTACT_POINT       1127103 non-null  object \n",
      " 39  CMV_ID                    12148 non-null    float64\n",
      " 40  USDOT_NO                  7044 non-null     object \n",
      " 41  CCMC_NO                   1546 non-null     object \n",
      " 42  ILCC_NO                   1112 non-null     object \n",
      " 43  COMMERCIAL_SRC            8510 non-null     object \n",
      " 44  GVWR                      7022 non-null     object \n",
      " 45  CARRIER_NAME              11635 non-null    object \n",
      " 46  CARRIER_STATE             10980 non-null    object \n",
      " 47  CARRIER_CITY              10783 non-null    object \n",
      " 48  HAZMAT_PLACARDS_I         244 non-null      object \n",
      " 49  HAZMAT_NAME               48 non-null       object \n",
      " 50  UN_NO                     446 non-null      object \n",
      " 51  HAZMAT_PRESENT_I          8976 non-null     object \n",
      " 52  HAZMAT_REPORT_I           8693 non-null     object \n",
      " 53  HAZMAT_REPORT_NO          1 non-null        object \n",
      " 54  MCS_REPORT_I              8746 non-null     object \n",
      " 55  MCS_REPORT_NO             6 non-null        object \n",
      " 56  HAZMAT_VIO_CAUSE_CRASH_I  8833 non-null     object \n",
      " 57  MCS_VIO_CAUSE_CRASH_I     8683 non-null     object \n",
      " 58  IDOT_PERMIT_NO            717 non-null      object \n",
      " 59  WIDE_LOAD_I               106 non-null      object \n",
      " 60  TRAILER1_WIDTH            2373 non-null     object \n",
      " 61  TRAILER2_WIDTH            275 non-null      object \n",
      " 62  TRAILER1_LENGTH           1967 non-null     float64\n",
      " 63  TRAILER2_LENGTH           53 non-null       float64\n",
      " 64  TOTAL_VEHICLE_LENGTH      2368 non-null     float64\n",
      " 65  AXLE_CNT                  3437 non-null     float64\n",
      " 66  VEHICLE_CONFIG            10123 non-null    object \n",
      " 67  CARGO_BODY_TYPE           9698 non-null     object \n",
      " 68  LOAD_TYPE                 9284 non-null     object \n",
      " 69  HAZMAT_OUT_OF_SERVICE_I   8425 non-null     object \n",
      " 70  MCS_OUT_OF_SERVICE_I      8663 non-null     object \n",
      " 71  HAZMAT_CLASS              836 non-null      object \n",
      "dtypes: float64(9), int64(2), object(61)\n",
      "memory usage: 638.7+ MB\n"
     ]
    }
   ],
   "source": [
    "df_vehicles.info()"
   ]
  },
  {
   "cell_type": "code",
   "execution_count": 44,
   "metadata": {},
   "outputs": [
    {
     "data": {
      "text/plain": [
       "(567797, 49)"
      ]
     },
     "execution_count": 44,
     "metadata": {},
     "output_type": "execute_result"
    }
   ],
   "source": [
    "df.shape"
   ]
  },
  {
   "cell_type": "code",
   "execution_count": 45,
   "metadata": {},
   "outputs": [],
   "source": [
    "#Merging Datasets on the Crash_Record_ID Column\n",
    "df_merge = pd.merge(df, df_vehicles, on='CRASH_RECORD_ID').reset_index()\n",
    "df_merge_2 = pd.merge(df_merge, df_people, on='CRASH_RECORD_ID').reset_index()\n",
    "#dropping dupllicates(basically only having one instance of the crashID on there)\n",
    "df_dropped= df_merge_2.drop_duplicates(subset=['CRASH_RECORD_ID'], keep='first')\n",
    "#Taking only necessary columns\n",
    "columns = ['CRASH_RECORD_ID', 'RD_NO_x', 'CRASH_DATE_x', 'POSTED_SPEED_LIMIT', 'TRAFFIC_CONTROL_DEVICE', 'DEVICE_CONDITION', 'WEATHER_CONDITION', 'LIGHTING_CONDITION', 'FIRST_CRASH_TYPE', 'TRAFFICWAY_TYPE', 'LANE_CNT', 'ALIGNMENT', 'ROADWAY_SURFACE_COND', 'ROAD_DEFECT', 'CRASH_TYPE', 'INTERSECTION_RELATED_I', 'NOT_RIGHT_OF_WAY_I', 'HIT_AND_RUN_I', 'DAMAGE', 'PRIM_CONTRIBUTORY_CAUSE', 'SEC_CONTRIBUTORY_CAUSE', 'STREET_NO', 'STREET_DIRECTION', 'STREET_NAME',  'DOORING_I', 'WORK_ZONE_I', 'WORK_ZONE_TYPE', 'WORKERS_PRESENT_I', 'NUM_UNITS', 'MOST_SEVERE_INJURY', 'INJURIES_TOTAL', 'INJURIES_FATAL', 'INJURIES_INCAPACITATING', 'INJURIES_NON_INCAPACITATING', 'INJURIES_REPORTED_NOT_EVIDENT', 'INJURIES_NO_INDICATION', 'INJURIES_UNKNOWN', 'CRASH_HOUR', 'CRASH_DAY_OF_WEEK', 'CRASH_MONTH', 'LATITUDE', 'LONGITUDE', 'LOCATION', 'RD_NO_y', 'UNIT_NO', 'UNIT_TYPE', 'NUM_PASSENGERS', 'VEHICLE_ID_x', 'CMRC_VEH_I', 'MAKE', 'MODEL', 'VEHICLE_YEAR', 'VEHICLE_DEFECT', 'VEHICLE_TYPE', 'TRAVEL_DIRECTION', 'MANEUVER', 'OCCUPANT_CNT', 'EXCEED_SPEED_LIMIT_I', 'FIRST_CONTACT_POINT', 'PERSON_TYPE', 'CITY', 'STATE', 'ZIPCODE', 'SEX', 'AGE',  'AIRBAG_DEPLOYED', 'EJECTION', 'INJURY_CLASSIFICATION', 'DRIVER_VISION','PHYSICAL_CONDITION', 'PEDPEDAL_ACTION', 'PEDPEDAL_VISIBILITY', 'PEDPEDAL_LOCATION', 'BAC_RESULT', 'BAC_RESULT VALUE', 'CELL_PHONE_USE']\n",
    "df_comb = df_dropped[columns]"
   ]
  },
  {
   "cell_type": "code",
   "execution_count": 46,
   "metadata": {},
   "outputs": [
    {
     "name": "stderr",
     "output_type": "stream",
     "text": [
      "<ipython-input-46-6efbe8c7bb70>:2: SettingWithCopyWarning: \n",
      "A value is trying to be set on a copy of a slice from a DataFrame.\n",
      "Try using .loc[row_indexer,col_indexer] = value instead\n",
      "\n",
      "See the caveats in the documentation: https://pandas.pydata.org/pandas-docs/stable/user_guide/indexing.html#returning-a-view-versus-a-copy\n",
      "  df_comb['date'] = pd.to_datetime(df_comb['CRASH_DATE_x'])\n",
      "<ipython-input-46-6efbe8c7bb70>:3: SettingWithCopyWarning: \n",
      "A value is trying to be set on a copy of a slice from a DataFrame.\n",
      "Try using .loc[row_indexer,col_indexer] = value instead\n",
      "\n",
      "See the caveats in the documentation: https://pandas.pydata.org/pandas-docs/stable/user_guide/indexing.html#returning-a-view-versus-a-copy\n",
      "  df_comb['Crash_year'] = df_comb['date'].apply(lambda date: date.year)\n"
     ]
    }
   ],
   "source": [
    "#Taking the Year from the date column\n",
    "df_comb['date'] = pd.to_datetime(df_comb['CRASH_DATE_x'])\n",
    "df_comb['Crash_year'] = df_comb['date'].apply(lambda date: date.year)\n",
    "#only accidents with the driver\n",
    "df_driver = df_comb[df_comb['PERSON_TYPE']=='DRIVER']\n",
    "#necessary columns\n",
    "new_columns = ['CRASH_RECORD_ID', 'CRASH_DATE_x', 'POSTED_SPEED_LIMIT',\n",
    "       'TRAFFIC_CONTROL_DEVICE', 'DEVICE_CONDITION', 'WEATHER_CONDITION',\n",
    "       'LIGHTING_CONDITION', 'FIRST_CRASH_TYPE', 'TRAFFICWAY_TYPE',\n",
    "       'ALIGNMENT', 'ROADWAY_SURFACE_COND', 'ROAD_DEFECT', 'CRASH_TYPE',\n",
    "       'DAMAGE', 'PRIM_CONTRIBUTORY_CAUSE', 'SEC_CONTRIBUTORY_CAUSE','NUM_UNITS',\n",
    "       'MOST_SEVERE_INJURY', 'INJURIES_TOTAL', 'INJURIES_FATAL',\n",
    "       'INJURIES_INCAPACITATING', 'INJURIES_NON_INCAPACITATING',\n",
    "       'INJURIES_REPORTED_NOT_EVIDENT','CRASH_HOUR', 'CRASH_DAY_OF_WEEK', 'CRASH_MONTH',\n",
    "       'LATITUDE', 'LONGITUDE', 'MAKE', 'MODEL',\n",
    "       'VEHICLE_YEAR', 'VEHICLE_DEFECT', 'VEHICLE_TYPE',\n",
    "       'MANEUVER', 'OCCUPANT_CNT', \n",
    "       'FIRST_CONTACT_POINT', 'PERSON_TYPE','SEX',\n",
    "       'AGE', 'AIRBAG_DEPLOYED', 'EJECTION', 'INJURY_CLASSIFICATION','DRIVER_VISION',\n",
    "       'PHYSICAL_CONDITION', 'Crash_year']"
   ]
  },
  {
   "cell_type": "code",
   "execution_count": 47,
   "metadata": {},
   "outputs": [
    {
     "data": {
      "text/plain": [
       "CRASH_RECORD_ID                0\n",
       "RD_NO_x                     2170\n",
       "CRASH_DATE_x                   0\n",
       "POSTED_SPEED_LIMIT             0\n",
       "TRAFFIC_CONTROL_DEVICE         0\n",
       "                           ...  \n",
       "BAC_RESULT                     0\n",
       "BAC_RESULT VALUE          543197\n",
       "CELL_PHONE_USE            543803\n",
       "date                           0\n",
       "Crash_year                     0\n",
       "Length: 78, dtype: int64"
      ]
     },
     "execution_count": 47,
     "metadata": {},
     "output_type": "execute_result"
    }
   ],
   "source": [
    "#going to drop columns with lots of missing values\n",
    "pd.isnull(df_driver).sum()"
   ]
  },
  {
   "cell_type": "code",
   "execution_count": 48,
   "metadata": {},
   "outputs": [
    {
     "data": {
      "text/plain": [
       "CRASH_RECORD_ID                       0\n",
       "CRASH_DATE_x                          0\n",
       "POSTED_SPEED_LIMIT                    0\n",
       "TRAFFIC_CONTROL_DEVICE                0\n",
       "DEVICE_CONDITION                      0\n",
       "WEATHER_CONDITION                     0\n",
       "LIGHTING_CONDITION                    0\n",
       "FIRST_CRASH_TYPE                      0\n",
       "TRAFFICWAY_TYPE                       0\n",
       "ALIGNMENT                             0\n",
       "ROADWAY_SURFACE_COND                  0\n",
       "ROAD_DEFECT                           0\n",
       "CRASH_TYPE                            0\n",
       "DAMAGE                                0\n",
       "PRIM_CONTRIBUTORY_CAUSE               0\n",
       "SEC_CONTRIBUTORY_CAUSE                0\n",
       "NUM_UNITS                             0\n",
       "MOST_SEVERE_INJURY                    0\n",
       "INJURIES_TOTAL                        0\n",
       "INJURIES_FATAL                        0\n",
       "INJURIES_INCAPACITATING               0\n",
       "INJURIES_NON_INCAPACITATING           0\n",
       "INJURIES_REPORTED_NOT_EVIDENT         0\n",
       "CRASH_HOUR                            0\n",
       "CRASH_DAY_OF_WEEK                     0\n",
       "CRASH_MONTH                           0\n",
       "LATITUDE                           3200\n",
       "LONGITUDE                          3200\n",
       "MAKE                               2646\n",
       "MODEL                              2712\n",
       "VEHICLE_YEAR                     143120\n",
       "VEHICLE_DEFECT                     2643\n",
       "VEHICLE_TYPE                       2643\n",
       "MANEUVER                           2643\n",
       "OCCUPANT_CNT                       2643\n",
       "FIRST_CONTACT_POINT                7338\n",
       "PERSON_TYPE                           0\n",
       "SEX                                  89\n",
       "AGE                              216490\n",
       "AIRBAG_DEPLOYED                       0\n",
       "EJECTION                              0\n",
       "INJURY_CLASSIFICATION                 0\n",
       "DRIVER_VISION                         0\n",
       "PHYSICAL_CONDITION                    0\n",
       "Crash_year                            0\n",
       "dtype: int64"
      ]
     },
     "execution_count": 48,
     "metadata": {},
     "output_type": "execute_result"
    }
   ],
   "source": [
    "#Dataframe with the new columns\n",
    "df_driver = df_driver[new_columns]\n",
    "#check for nulls\n",
    "pd.isnull(df_driver).sum()"
   ]
  },
  {
   "cell_type": "code",
   "execution_count": 49,
   "metadata": {},
   "outputs": [],
   "source": [
    "#dropping missing values\n",
    "df_driver.dropna(axis=0, subset=['LATITUDE'], inplace =True)\n",
    "df_driver.dropna(axis=0, subset=['LONGITUDE'], inplace =True)\n",
    "df_driver.dropna(axis=0, subset=['MODEL'], inplace =True)\n",
    "df_driver.dropna(axis=0, subset=['MAKE'], inplace =True)\n",
    "df_driver.dropna(axis=0, subset=['FIRST_CONTACT_POINT'], inplace =True)"
   ]
  },
  {
   "cell_type": "code",
   "execution_count": 50,
   "metadata": {},
   "outputs": [],
   "source": [
    "df_driver.INJURIES_FATAL.replace({0.0:0, 1.0:1, 2.0:1, 3.0:1, 4.0:1}, inplace=True)"
   ]
  },
  {
   "cell_type": "code",
   "execution_count": 51,
   "metadata": {},
   "outputs": [
    {
     "data": {
      "text/plain": [
       "CRASH_RECORD_ID                       0\n",
       "CRASH_DATE_x                          0\n",
       "POSTED_SPEED_LIMIT                    0\n",
       "TRAFFIC_CONTROL_DEVICE                0\n",
       "DEVICE_CONDITION                      0\n",
       "WEATHER_CONDITION                     0\n",
       "LIGHTING_CONDITION                    0\n",
       "FIRST_CRASH_TYPE                      0\n",
       "TRAFFICWAY_TYPE                       0\n",
       "ALIGNMENT                             0\n",
       "ROADWAY_SURFACE_COND                  0\n",
       "ROAD_DEFECT                           0\n",
       "CRASH_TYPE                            0\n",
       "DAMAGE                                0\n",
       "PRIM_CONTRIBUTORY_CAUSE               0\n",
       "SEC_CONTRIBUTORY_CAUSE                0\n",
       "NUM_UNITS                             0\n",
       "MOST_SEVERE_INJURY                    0\n",
       "INJURIES_TOTAL                        0\n",
       "INJURIES_FATAL                        0\n",
       "INJURIES_INCAPACITATING               0\n",
       "INJURIES_NON_INCAPACITATING           0\n",
       "INJURIES_REPORTED_NOT_EVIDENT         0\n",
       "CRASH_HOUR                            0\n",
       "CRASH_DAY_OF_WEEK                     0\n",
       "CRASH_MONTH                           0\n",
       "LATITUDE                              0\n",
       "LONGITUDE                             0\n",
       "MAKE                                  0\n",
       "MODEL                                 0\n",
       "VEHICLE_YEAR                     139182\n",
       "VEHICLE_DEFECT                        0\n",
       "VEHICLE_TYPE                          0\n",
       "MANEUVER                              0\n",
       "OCCUPANT_CNT                          0\n",
       "FIRST_CONTACT_POINT                   0\n",
       "PERSON_TYPE                           0\n",
       "SEX                                  89\n",
       "AGE                              213665\n",
       "AIRBAG_DEPLOYED                       0\n",
       "EJECTION                              0\n",
       "INJURY_CLASSIFICATION                 0\n",
       "DRIVER_VISION                         0\n",
       "PHYSICAL_CONDITION                    0\n",
       "Crash_year                            0\n",
       "dtype: int64"
      ]
     },
     "execution_count": 51,
     "metadata": {},
     "output_type": "execute_result"
    }
   ],
   "source": [
    "pd.isnull(df_driver).sum()"
   ]
  },
  {
   "cell_type": "code",
   "execution_count": 52,
   "metadata": {
    "scrolled": true
   },
   "outputs": [
    {
     "data": {
      "image/png": "[encoded data removed]",
      "text/plain": [
       "<Figure size 1440x1440 with 16 Axes>"
      ]
     },
     "metadata": {
      "needs_background": "light"
     },
     "output_type": "display_data"
    }
   ],
   "source": [
    "df_driver.hist(figsize=(20,20), bins='auto');"
   ]
  },
  {
   "cell_type": "code",
   "execution_count": 53,
   "metadata": {},
   "outputs": [
    {
     "data": {
      "text/plain": [
       "0.0    533592\n",
       "1.0       488\n",
       "Name: INJURIES_FATAL, dtype: int64"
      ]
     },
     "execution_count": 53,
     "metadata": {},
     "output_type": "execute_result"
    }
   ],
   "source": [
    "df_driver.INJURIES_FATAL.value_counts()"
   ]
  },
  {
   "cell_type": "markdown",
   "metadata": {},
   "source": [
    "# Data Preperation"
   ]
  },
  {
   "cell_type": "code",
   "execution_count": 70,
   "metadata": {},
   "outputs": [],
   "source": [
    "test_df = df_driver.copy()\n",
    "test_df = test_df[['AGE', 'CRASH_HOUR', 'POSTED_SPEED_LIMIT', 'INJURIES_FATAL']]\n",
    "# make columns equal legnth \n",
    "test_df = test_df[test_df['AGE'].notna()]"
   ]
  },
  {
   "cell_type": "code",
   "execution_count": 71,
   "metadata": {},
   "outputs": [],
   "source": [
    "data = test_df[['AGE', 'CRASH_HOUR', 'POSTED_SPEED_LIMIT']].astype('int16')\n",
    "target = test_df.INJURIES_FATAL.values.astype('int16')"
   ]
  },
  {
   "cell_type": "markdown",
   "metadata": {},
   "source": [
    "# train-test split"
   ]
  },
  {
   "cell_type": "code",
   "execution_count": 72,
   "metadata": {},
   "outputs": [],
   "source": [
    "data_train, data_test, target_train, target_test = train_test_split(data, target, test_size = 0.5, random_state=42)"
   ]
  },
  {
   "cell_type": "markdown",
   "metadata": {},
   "source": [
    "# Decision Tree"
   ]
  },
  {
   "cell_type": "code",
   "execution_count": 73,
   "metadata": {},
   "outputs": [],
   "source": [
    "tree = DecisionTreeClassifier()"
   ]
  },
  {
   "cell_type": "code",
   "execution_count": 74,
   "metadata": {},
   "outputs": [],
   "source": [
    "tree_grid = {'max_leaf_nodes': list(range(2, 100)), \n",
    "             'min_samples_split': [2, 3, 4],\n",
    "             'max_depth': [5, 6, 7, 8, 9],\n",
    "            }"
   ]
  },
  {
   "cell_type": "code",
   "execution_count": 75,
   "metadata": {},
   "outputs": [],
   "source": [
    "tree_grid_search = GridSearchCV(tree, tree_grid, cv=5)"
   ]
  },
  {
   "cell_type": "code",
   "execution_count": null,
   "metadata": {},
   "outputs": [],
   "source": [
    "tree_grid_search.fit(data_train, target_train)"
   ]
  },
  {
   "cell_type": "code",
   "execution_count": null,
   "metadata": {},
   "outputs": [],
   "source": [
    "tree_grid_search.best_params_"
   ]
  },
  {
   "cell_type": "code",
   "execution_count": null,
   "metadata": {},
   "outputs": [],
   "source": [
    "tree_grid_search.best_score_"
   ]
  },
  {
   "cell_type": "code",
   "execution_count": null,
   "metadata": {},
   "outputs": [],
   "source": [
    "tree_grid_search.best_estimator_.score(data_test, target_test)"
   ]
  },
  {
   "cell_type": "code",
   "execution_count": null,
   "metadata": {},
   "outputs": [],
   "source": [
    "tree_cv_df = pd.DataFrame(tree_grid_search.cv_results_)\n",
    "tree_cv_df.head()"
   ]
  },
  {
   "cell_type": "code",
   "execution_count": null,
   "metadata": {},
   "outputs": [],
   "source": [
    "best_tree = tree_grid_search.best_estimator_"
   ]
  },
  {
   "cell_type": "code",
   "execution_count": null,
   "metadata": {},
   "outputs": [],
   "source": [
    "def plot_feature_importances(model):\n",
    "    n_features = data_train.shape[1]\n",
    "    plt.figure(figsize=(8,8))\n",
    "    plt.barh(range(n_features), model.feature_importances_, align='center') \n",
    "    plt.yticks(np.arange(n_features), data_train.columns.values) \n",
    "    plt.xlabel('Feature importance')\n",
    "    plt.ylabel('Feature')"
   ]
  },
  {
   "cell_type": "code",
   "execution_count": null,
   "metadata": {},
   "outputs": [],
   "source": [
    "plot_feature_importances(best_tree)"
   ]
  },
  {
   "cell_type": "markdown",
   "metadata": {},
   "source": [
    "# Random Forest"
   ]
  },
  {
   "cell_type": "code",
   "execution_count": null,
   "metadata": {},
   "outputs": [],
   "source": [
    "forest = RandomForestClassifier()"
   ]
  },
  {
   "cell_type": "code",
   "execution_count": null,
   "metadata": {},
   "outputs": [],
   "source": [
    "# Number of trees in random forest\n",
    "# n_estimators = [100,150,200]\n",
    "\n",
    "# The number of features to consider when looking for the best split\n",
    "max_features = ['sqrt', 'log2']\n",
    "\n",
    "# function to measure the quality of a split\n",
    "criteria = ['gini', 'entropy']\n",
    "\n",
    "# Minimum number of samples required to split a node\n",
    "min_samples_split = [2, 5, 10]\n",
    "\n",
    "# Minimum number of samples required at each leaf node\n",
    "min_samples_leaf = [1, 2, 4]\n",
    "\n",
    "# Create the random grid\n",
    "forrest_grid = {'max_features': max_features, \n",
    "                'min_samples_split': min_samples_split,\n",
    "               'min_samples_leaf': min_samples_leaf\n",
    "              }"
   ]
  },
  {
   "cell_type": "code",
   "execution_count": null,
   "metadata": {},
   "outputs": [],
   "source": [
    "forrest_grid_search = GridSearchCV(estimator=forest, param_grid=forrest_grid, cv=5)"
   ]
  },
  {
   "cell_type": "code",
   "execution_count": null,
   "metadata": {},
   "outputs": [],
   "source": [
    "forrest_grid_search.fit(data_train, target_train)"
   ]
  },
  {
   "cell_type": "code",
   "execution_count": null,
   "metadata": {},
   "outputs": [],
   "source": [
    "forrest_grid_search.best_params_"
   ]
  },
  {
   "cell_type": "code",
   "execution_count": null,
   "metadata": {},
   "outputs": [],
   "source": [
    "forrest_grid_search.best_score_"
   ]
  },
  {
   "cell_type": "code",
   "execution_count": null,
   "metadata": {},
   "outputs": [],
   "source": [
    "forrest_grid_search.best_estimator_.score(data_test, target_test)"
   ]
  },
  {
   "cell_type": "code",
   "execution_count": null,
   "metadata": {},
   "outputs": [],
   "source": [
    "forest_cv_df = pd.DataFrame(forrest_grid_search.cv_results_)\n",
    "forest_cv_df.head()"
   ]
  },
  {
   "cell_type": "code",
   "execution_count": null,
   "metadata": {},
   "outputs": [],
   "source": [
    "best_forest = forrest_grid_search.best_estimator_"
   ]
  },
  {
   "cell_type": "code",
   "execution_count": null,
   "metadata": {},
   "outputs": [],
   "source": [
    "plot_feature_importances(best_forest)"
   ]
  },
  {
   "cell_type": "markdown",
   "metadata": {},
   "source": [
    "# map"
   ]
  },
  {
   "cell_type": "code",
   "execution_count": null,
   "metadata": {},
   "outputs": [],
   "source": [
    "map_df = df_driver[:100]"
   ]
  },
  {
   "cell_type": "code",
   "execution_count": null,
   "metadata": {},
   "outputs": [],
   "source": [
    "map_center = [map_df.LATITUDE.mean(), map_df.LONGITUDE.mean()]\n",
    "\n",
    "crash_map = folium.Map(location=map_center, zoom_start=10, control_scale=True)\n",
    "\n",
    "for index, location_info in map_df.iterrows():\n",
    "    folium.Marker([location_info[\"LATITUDE\"], location_info[\"LONGITUDE\"]], popup=location_info[\"INJURIES_FATAL\"]).add_to(crash_map)"
   ]
  },
  {
   "cell_type": "code",
   "execution_count": 69,
   "metadata": {},
   "outputs": [
    {
     "data": {
      "text/html": [
       "<div style=\"width:100%;\"><div style=\"position:relative;width:100%;height:0;padding-bottom:60%;\"><span style=\"color:#565656\">Make this Notebook Trusted to load map: File -> Trust Notebook</span><iframe src=\"about:blank\" style=\"position:absolute;width:100%;height:100%;left:0;top:0;border:none !important;\" data-html=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 onload=\"this.contentDocument.open();this.contentDocument.write(atob(this.getAttribute('data-html')));this.contentDocument.close();\" allowfullscreen webkitallowfullscreen mozallowfullscreen></iframe></div></div>"
      ],
      "text/plain": [
       "<folium.folium.Map at 0x7fa128020220>"
      ]
     },
     "execution_count": 69,
     "metadata": {},
     "output_type": "execute_result"
    }
   ],
   "source": [
    "crash_map"
   ]
  },
  {
   "cell_type": "code",
   "execution_count": null,
   "metadata": {},
   "outputs": [],
   "source": []
  }
 ],
 "metadata": {
  "kernelspec": {
   "display_name": "Python (learn-env)",
   "language": "python",
   "name": "learn-env"
  },
  "language_info": {
   "codemirror_mode": {
    "name": "ipython",
    "version": 3
   },
   "file_extension": ".py",
   "mimetype": "text/x-python",
   "name": "python",
   "nbconvert_exporter": "python",
   "pygments_lexer": "ipython3",
   "version": "3.8.5"
  }
 },
 "nbformat": 4,
 "nbformat_minor": 4
}
