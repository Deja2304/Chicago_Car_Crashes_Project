{
 "cells": [
  {
   "cell_type": "code",
   "execution_count": 86,
   "metadata": {},
   "outputs": [],
   "source": [
    "import pandas as pd\n",
    "import numpy as np\n",
    "\n",
    "from sklearn.model_selection import train_test_split, RandomizedSearchCV, GridSearchCV\n",
    "from sklearn.dummy import DummyClassifier\n",
    "from sklearn.tree import DecisionTreeClassifier\n",
    "from sklearn.ensemble import RandomForestClassifier\n",
    "from sklearn.neighbors import KNeighborsClassifier\n",
    "from sklearn.preprocessing import OneHotEncoder, StandardScaler\n",
    "from imblearn.over_sampling import SMOTE\n",
    "from sklearn.metrics import precision_score, recall_score, accuracy_score, f1_score, plot_confusion_matrix, plot_roc_curve\n",
    "\n",
    "import matplotlib.pyplot as plt\n",
    "%matplotlib inline\n",
    "import seaborn as sns\n",
    "import folium "
   ]
  },
  {
   "cell_type": "code",
   "execution_count": 2,
   "metadata": {},
   "outputs": [],
   "source": [
    "df = pd.read_csv('cleaned_crash_data.csv')"
   ]
  },
  {
   "cell_type": "markdown",
   "metadata": {},
   "source": [
    "# Data Preperation"
   ]
  },
  {
   "cell_type": "code",
   "execution_count": 3,
   "metadata": {},
   "outputs": [],
   "source": [
    "X = df.drop('INJURIES_FATAL',axis=1)\n",
    "y = df.INJURIES_FATAL"
   ]
  },
  {
   "cell_type": "markdown",
   "metadata": {},
   "source": [
    "# train-test split"
   ]
  },
  {
   "cell_type": "code",
   "execution_count": 4,
   "metadata": {},
   "outputs": [],
   "source": [
    "X_train, X_test, y_train, y_test = train_test_split(X, y, random_state=42)"
   ]
  },
  {
   "cell_type": "markdown",
   "metadata": {},
   "source": [
    "### One Hot Encoding "
   ]
  },
  {
   "cell_type": "code",
   "execution_count": 5,
   "metadata": {},
   "outputs": [],
   "source": [
    "#Ohe-ing Train set\n",
    "X_train_cat = X_train.select_dtypes('object')\n",
    "\n",
    "ohe = OneHotEncoder(\n",
    "    drop='first',\n",
    "    sparse=False)\n",
    "\n",
    "dums_train = ohe.fit_transform(X_train_cat)\n",
    "dums_train_df = pd.DataFrame(dums_train,\n",
    "                       columns=ohe.get_feature_names(),\n",
    "                       index=X_train_cat.index)\n",
    "\n",
    "nums_train_df = X_train.select_dtypes(['int64','float64'])\n",
    "\n",
    "X_train_clean = pd.concat([nums_train_df, dums_train_df], axis=1)"
   ]
  },
  {
   "cell_type": "code",
   "execution_count": 6,
   "metadata": {},
   "outputs": [],
   "source": [
    "#Ohe-ing Test set\n",
    "X_test_cat = X_test.select_dtypes('object')\n",
    "\n",
    "dums_test = ohe.transform(X_test_cat)\n",
    "dums_test_df = pd.DataFrame(dums_test,\n",
    "                       columns=ohe.get_feature_names(),\n",
    "                       index=X_test_cat.index)\n",
    "\n",
    "nums_test_df = X_test.select_dtypes(['int64','float64'])\n",
    "\n",
    "X_test_clean = pd.concat([nums_test_df, dums_test_df], axis=1)"
   ]
  },
  {
   "cell_type": "markdown",
   "metadata": {},
   "source": [
    "# Dummy Classfier "
   ]
  },
  {
   "cell_type": "code",
   "execution_count": 156,
   "metadata": {},
   "outputs": [],
   "source": [
    "dummy = DummyClassifier(random_state=42) \n",
    "\n",
    "#establishing random_state for reproducibility\n",
    "dummy.fit(X_train_clean, y_train)\n",
    "y_pred = dummy.predict(X_test_clean)"
   ]
  },
  {
   "cell_type": "code",
   "execution_count": 157,
   "metadata": {},
   "outputs": [
    {
     "data": {
      "image/png": "[encoded data removed]",
      "text/plain": [
       "<Figure size 432x288 with 2 Axes>"
      ]
     },
     "metadata": {
      "needs_background": "light"
     },
     "output_type": "display_data"
    }
   ],
   "source": [
    "plot_confusion_matrix(estimator=dummy, X=X_test_clean, y_true=y_test, normalize='true');"
   ]
  },
  {
   "cell_type": "code",
   "execution_count": 158,
   "metadata": {},
   "outputs": [
    {
     "data": {
      "text/plain": [
       "0.0    0.998928\n",
       "1.0    0.001072\n",
       "Name: INJURIES_FATAL, dtype: float64"
      ]
     },
     "execution_count": 158,
     "metadata": {},
     "output_type": "execute_result"
    }
   ],
   "source": [
    "y_train.value_counts(normalize=True)"
   ]
  },
  {
   "cell_type": "code",
   "execution_count": 159,
   "metadata": {},
   "outputs": [
    {
     "name": "stdout",
     "output_type": "stream",
     "text": [
      "Accuracy Score: 0.9977578704888661\n"
     ]
    }
   ],
   "source": [
    "print(\"Accuracy Score: {}\".format(accuracy_score(y_test, y_pred)))"
   ]
  },
  {
   "cell_type": "markdown",
   "metadata": {},
   "source": [
    "### SMOTE"
   ]
  },
  {
   "cell_type": "code",
   "execution_count": 7,
   "metadata": {
    "scrolled": true
   },
   "outputs": [],
   "source": [
    "# X_train_clean.columns\n",
    "smote = SMOTE(sampling_strategy='auto',random_state=42)\n",
    "X_train_resampled, y_train_resampled = smote.fit_sample(X_train_clean, y_train) "
   ]
  },
  {
   "cell_type": "markdown",
   "metadata": {},
   "source": [
    "# Dummy Classfier with SMOTE"
   ]
  },
  {
   "cell_type": "code",
   "execution_count": 148,
   "metadata": {},
   "outputs": [],
   "source": [
    "dummy_smote = DummyClassifier(random_state=42)\n",
    "dummy_smote.fit(X_train_resampled, y_train_resampled)\n",
    "y_pred_dummy_sm = dummy_smote.predict(X_test)"
   ]
  },
  {
   "cell_type": "code",
   "execution_count": 149,
   "metadata": {},
   "outputs": [
    {
     "data": {
      "image/png": "[encoded data removed]",
      "text/plain": [
       "<Figure size 432x288 with 2 Axes>"
      ]
     },
     "metadata": {
      "needs_background": "light"
     },
     "output_type": "display_data"
    }
   ],
   "source": [
    "plot_confusion_matrix(estimator=dummy_smote, X=X_test_clean, y_true=y_test, normalize='true');"
   ]
  },
  {
   "cell_type": "code",
   "execution_count": 150,
   "metadata": {},
   "outputs": [
    {
     "name": "stdout",
     "output_type": "stream",
     "text": [
      "Accuracy Score: 0.5009367801382134\n"
     ]
    }
   ],
   "source": [
    "print(\"Accuracy Score: {}\".format(accuracy_score(y_test, y_pred_dummy_sm)))"
   ]
  },
  {
   "cell_type": "markdown",
   "metadata": {},
   "source": [
    "# Decision Tree"
   ]
  },
  {
   "cell_type": "code",
   "execution_count": 105,
   "metadata": {},
   "outputs": [],
   "source": [
    "tree = DecisionTreeClassifier()"
   ]
  },
  {
   "cell_type": "code",
   "execution_count": 106,
   "metadata": {},
   "outputs": [],
   "source": [
    "tree_grid = {'max_leaf_nodes': [4, 5, 6, 7], \n",
    "             'min_samples_split': [2, 3, 4],\n",
    "             'max_depth': [2, 3, 4, 5],\n",
    "            }"
   ]
  },
  {
   "cell_type": "code",
   "execution_count": 107,
   "metadata": {},
   "outputs": [],
   "source": [
    "tree_grid_search = GridSearchCV(tree, tree_grid, cv=5)"
   ]
  },
  {
   "cell_type": "code",
   "execution_count": 108,
   "metadata": {},
   "outputs": [
    {
     "data": {
      "text/plain": [
       "GridSearchCV(cv=5, estimator=DecisionTreeClassifier(),\n",
       "             param_grid={'max_depth': [2, 3, 4, 5],\n",
       "                         'max_leaf_nodes': [4, 5, 6, 7],\n",
       "                         'min_samples_split': [2, 3, 4]})"
      ]
     },
     "execution_count": 108,
     "metadata": {},
     "output_type": "execute_result"
    }
   ],
   "source": [
    "tree_grid_search.fit(X_train_resampled, y_train_resampled)"
   ]
  },
  {
   "cell_type": "code",
   "execution_count": 109,
   "metadata": {},
   "outputs": [
    {
     "data": {
      "text/plain": [
       "{'max_depth': 5, 'max_leaf_nodes': 7, 'min_samples_split': 2}"
      ]
     },
     "execution_count": 109,
     "metadata": {},
     "output_type": "execute_result"
    }
   ],
   "source": [
    "tree_grid_search.best_params_"
   ]
  },
  {
   "cell_type": "code",
   "execution_count": 110,
   "metadata": {},
   "outputs": [
    {
     "data": {
      "text/plain": [
       "0.9023948618086161"
      ]
     },
     "execution_count": 110,
     "metadata": {},
     "output_type": "execute_result"
    }
   ],
   "source": [
    "tree_grid_search.best_score_"
   ]
  },
  {
   "cell_type": "code",
   "execution_count": 111,
   "metadata": {},
   "outputs": [
    {
     "data": {
      "text/plain": [
       "0.917952393140517"
      ]
     },
     "execution_count": 111,
     "metadata": {},
     "output_type": "execute_result"
    }
   ],
   "source": [
    "tree_grid_search.best_estimator_.score(X_test_clean, y_test)"
   ]
  },
  {
   "cell_type": "code",
   "execution_count": 112,
   "metadata": {},
   "outputs": [],
   "source": [
    "best_tree = tree_grid_search.best_estimator_"
   ]
  },
  {
   "cell_type": "code",
   "execution_count": 113,
   "metadata": {},
   "outputs": [],
   "source": [
    "tree_test_preds = best_tree.predict(X_test_clean)"
   ]
  },
  {
   "cell_type": "code",
   "execution_count": 136,
   "metadata": {},
   "outputs": [
    {
     "data": {
      "image/png": "[encoded data removed]",
      "text/plain": [
       "<Figure size 432x288 with 2 Axes>"
      ]
     },
     "metadata": {
      "needs_background": "light"
     },
     "output_type": "display_data"
    }
   ],
   "source": [
    "plot_confusion_matrix(best_tree, X_test_clean, y_test, normalize='true')\n",
    "plt.savefig('images/tree_conf_matrix.png');"
   ]
  },
  {
   "cell_type": "code",
   "execution_count": 137,
   "metadata": {},
   "outputs": [
    {
     "data": {
      "image/png": "[encoded data removed]",
      "text/plain": [
       "<Figure size 432x288 with 1 Axes>"
      ]
     },
     "metadata": {
      "needs_background": "light"
     },
     "output_type": "display_data"
    }
   ],
   "source": [
    "plot_roc_curve(best_tree, X_test_clean, y_test)\n",
    "plt.savefig('images/tree_roc.png');"
   ]
  },
  {
   "cell_type": "code",
   "execution_count": 116,
   "metadata": {},
   "outputs": [],
   "source": [
    "def print_metrics(labels, preds):\n",
    "    print(\"Precision Score: {}\".format(precision_score(labels, preds)))\n",
    "    print(\"Recall Score: {}\".format(recall_score(labels, preds)))\n",
    "    print(\"Accuracy Score: {}\".format(accuracy_score(labels, preds)))\n",
    "    print(\"F1 Score: {}\".format(f1_score(labels, preds)))"
   ]
  },
  {
   "cell_type": "code",
   "execution_count": 117,
   "metadata": {},
   "outputs": [
    {
     "name": "stdout",
     "output_type": "stream",
     "text": [
      "Precision Score: 0.007864186743228061\n",
      "Recall Score: 0.4883720930232558\n",
      "Accuracy Score: 0.917952393140517\n",
      "F1 Score: 0.015479115479115478\n"
     ]
    }
   ],
   "source": [
    "print_metrics(y_test, tree_test_preds)"
   ]
  },
  {
   "cell_type": "code",
   "execution_count": 125,
   "metadata": {},
   "outputs": [],
   "source": [
    "tree_features = list(zip(best_tree.feature_importances_, X_train_resampled.columns.values))\n",
    "tree_features = sorted(tree_features, key=lambda x: x[0], reverse=True)\n",
    "tree_features_values = [x[0] for x in tree_features][:4]\n",
    "tree_features_names = [x[1] for x in tree_features][:4]"
   ]
  },
  {
   "cell_type": "code",
   "execution_count": 126,
   "metadata": {},
   "outputs": [
    {
     "data": {
      "text/html": [
       "<div>\n",
       "<style scoped>\n",
       "    .dataframe tbody tr th:only-of-type {\n",
       "        vertical-align: middle;\n",
       "    }\n",
       "\n",
       "    .dataframe tbody tr th {\n",
       "        vertical-align: top;\n",
       "    }\n",
       "\n",
       "    .dataframe thead th {\n",
       "        text-align: right;\n",
       "    }\n",
       "</style>\n",
       "<table border=\"1\" class=\"dataframe\">\n",
       "  <thead>\n",
       "    <tr style=\"text-align: right;\">\n",
       "      <th></th>\n",
       "      <th>AGE</th>\n",
       "      <th>CRASH_HOUR</th>\n",
       "      <th>CRASH_DAY_OF_WEEK</th>\n",
       "      <th>CRASH_MONTH</th>\n",
       "      <th>POSTED_SPEED_LIMIT</th>\n",
       "      <th>WEATHER_CONDITION</th>\n",
       "      <th>LIGHTING_CONDITION</th>\n",
       "      <th>TRAFFIC_CONTROL_DEVICE</th>\n",
       "      <th>PHYSICAL_CONDITION</th>\n",
       "      <th>VEHICLE_DEFECT</th>\n",
       "      <th>LONGITUDE</th>\n",
       "      <th>LATITUDE</th>\n",
       "      <th>INJURIES_FATAL</th>\n",
       "    </tr>\n",
       "  </thead>\n",
       "  <tbody>\n",
       "    <tr>\n",
       "      <th>0</th>\n",
       "      <td>31.0</td>\n",
       "      <td>17</td>\n",
       "      <td>4</td>\n",
       "      <td>7</td>\n",
       "      <td>35</td>\n",
       "      <td>CLEAR</td>\n",
       "      <td>DAYLIGHT</td>\n",
       "      <td>NO CONTROLS</td>\n",
       "      <td>NORMAL</td>\n",
       "      <td>UNKNOWN</td>\n",
       "      <td>-87.773288</td>\n",
       "      <td>41.919664</td>\n",
       "      <td>0.0</td>\n",
       "    </tr>\n",
       "    <tr>\n",
       "      <th>1</th>\n",
       "      <td>20.0</td>\n",
       "      <td>16</td>\n",
       "      <td>6</td>\n",
       "      <td>6</td>\n",
       "      <td>35</td>\n",
       "      <td>CLEAR</td>\n",
       "      <td>DAYLIGHT</td>\n",
       "      <td>STOP SIGN/FLASHER</td>\n",
       "      <td>UNKNOWN</td>\n",
       "      <td>UNKNOWN</td>\n",
       "      <td>-87.740954</td>\n",
       "      <td>41.741804</td>\n",
       "      <td>0.0</td>\n",
       "    </tr>\n",
       "    <tr>\n",
       "      <th>2</th>\n",
       "      <td>50.0</td>\n",
       "      <td>10</td>\n",
       "      <td>6</td>\n",
       "      <td>7</td>\n",
       "      <td>30</td>\n",
       "      <td>CLEAR</td>\n",
       "      <td>DAYLIGHT</td>\n",
       "      <td>TRAFFIC SIGNAL</td>\n",
       "      <td>NORMAL</td>\n",
       "      <td>UNKNOWN</td>\n",
       "      <td>-87.585022</td>\n",
       "      <td>41.773456</td>\n",
       "      <td>0.0</td>\n",
       "    </tr>\n",
       "    <tr>\n",
       "      <th>3</th>\n",
       "      <td>36.0</td>\n",
       "      <td>1</td>\n",
       "      <td>7</td>\n",
       "      <td>7</td>\n",
       "      <td>30</td>\n",
       "      <td>CLEAR</td>\n",
       "      <td>DARKNESS</td>\n",
       "      <td>NO CONTROLS</td>\n",
       "      <td>UNKNOWN</td>\n",
       "      <td>NONE</td>\n",
       "      <td>-87.622115</td>\n",
       "      <td>41.802119</td>\n",
       "      <td>0.0</td>\n",
       "    </tr>\n",
       "    <tr>\n",
       "      <th>4</th>\n",
       "      <td>45.0</td>\n",
       "      <td>22</td>\n",
       "      <td>5</td>\n",
       "      <td>3</td>\n",
       "      <td>30</td>\n",
       "      <td>CLEAR</td>\n",
       "      <td>DARKNESS, LIGHTED ROAD</td>\n",
       "      <td>TRAFFIC SIGNAL</td>\n",
       "      <td>NORMAL</td>\n",
       "      <td>UNKNOWN</td>\n",
       "      <td>-87.740954</td>\n",
       "      <td>41.741804</td>\n",
       "      <td>0.0</td>\n",
       "    </tr>\n",
       "  </tbody>\n",
       "</table>\n",
       "</div>"
      ],
      "text/plain": [
       "    AGE  CRASH_HOUR  CRASH_DAY_OF_WEEK  CRASH_MONTH  POSTED_SPEED_LIMIT  \\\n",
       "0  31.0          17                  4            7                  35   \n",
       "1  20.0          16                  6            6                  35   \n",
       "2  50.0          10                  6            7                  30   \n",
       "3  36.0           1                  7            7                  30   \n",
       "4  45.0          22                  5            3                  30   \n",
       "\n",
       "  WEATHER_CONDITION      LIGHTING_CONDITION TRAFFIC_CONTROL_DEVICE  \\\n",
       "0             CLEAR                DAYLIGHT            NO CONTROLS   \n",
       "1             CLEAR                DAYLIGHT      STOP SIGN/FLASHER   \n",
       "2             CLEAR                DAYLIGHT         TRAFFIC SIGNAL   \n",
       "3             CLEAR                DARKNESS            NO CONTROLS   \n",
       "4             CLEAR  DARKNESS, LIGHTED ROAD         TRAFFIC SIGNAL   \n",
       "\n",
       "  PHYSICAL_CONDITION VEHICLE_DEFECT  LONGITUDE   LATITUDE  INJURIES_FATAL  \n",
       "0             NORMAL        UNKNOWN -87.773288  41.919664             0.0  \n",
       "1            UNKNOWN        UNKNOWN -87.740954  41.741804             0.0  \n",
       "2             NORMAL        UNKNOWN -87.585022  41.773456             0.0  \n",
       "3            UNKNOWN           NONE -87.622115  41.802119             0.0  \n",
       "4             NORMAL        UNKNOWN -87.740954  41.741804             0.0  "
      ]
     },
     "execution_count": 126,
     "metadata": {},
     "output_type": "execute_result"
    }
   ],
   "source": [
    "df.head()"
   ]
  },
  {
   "cell_type": "code",
   "execution_count": 135,
   "metadata": {},
   "outputs": [
    {
     "data": {
      "image/png": "[encoded data removed]",
      "text/plain": [
       "<Figure size 576x576 with 1 Axes>"
      ]
     },
     "metadata": {
      "needs_background": "light"
     },
     "output_type": "display_data"
    }
   ],
   "source": [
    "plt.figure(figsize=(8,8))\n",
    "tree_labels = ['Physical Condition: Normal', 'Physical Condition: Unknown', 'AGE',\n",
    "               'Physical Condition: Fatigued/Asleep']\n",
    "plt.barh(tree_features_names, tree_features_values, align='center', tick_label=tree_labels)\n",
    "plt.xlabel('Mean Decrease Accuracy', fontsize=20, labelpad=10)\n",
    "plt.ylabel('Feature', fontsize=20)\n",
    "plt.savefig('images/tree_feature_plot.png');"
   ]
  },
  {
   "cell_type": "code",
   "execution_count": 128,
   "metadata": {},
   "outputs": [
    {
     "data": {
      "text/html": [
       "<div>\n",
       "<style scoped>\n",
       "    .dataframe tbody tr th:only-of-type {\n",
       "        vertical-align: middle;\n",
       "    }\n",
       "\n",
       "    .dataframe tbody tr th {\n",
       "        vertical-align: top;\n",
       "    }\n",
       "\n",
       "    .dataframe thead th {\n",
       "        text-align: right;\n",
       "    }\n",
       "</style>\n",
       "<table border=\"1\" class=\"dataframe\">\n",
       "  <thead>\n",
       "    <tr style=\"text-align: right;\">\n",
       "      <th></th>\n",
       "      <th>mean_fit_time</th>\n",
       "      <th>std_fit_time</th>\n",
       "      <th>mean_score_time</th>\n",
       "      <th>std_score_time</th>\n",
       "      <th>param_max_depth</th>\n",
       "      <th>param_max_leaf_nodes</th>\n",
       "      <th>param_min_samples_split</th>\n",
       "      <th>params</th>\n",
       "      <th>split0_test_score</th>\n",
       "      <th>split1_test_score</th>\n",
       "      <th>split2_test_score</th>\n",
       "      <th>split3_test_score</th>\n",
       "      <th>split4_test_score</th>\n",
       "      <th>mean_test_score</th>\n",
       "      <th>std_test_score</th>\n",
       "      <th>rank_test_score</th>\n",
       "    </tr>\n",
       "  </thead>\n",
       "  <tbody>\n",
       "    <tr>\n",
       "      <th>0</th>\n",
       "      <td>0.977304</td>\n",
       "      <td>0.139740</td>\n",
       "      <td>0.019456</td>\n",
       "      <td>0.002555</td>\n",
       "      <td>2</td>\n",
       "      <td>4</td>\n",
       "      <td>2</td>\n",
       "      <td>{'max_depth': 2, 'max_leaf_nodes': 4, 'min_sam...</td>\n",
       "      <td>0.850424</td>\n",
       "      <td>0.851722</td>\n",
       "      <td>0.85144</td>\n",
       "      <td>0.851414</td>\n",
       "      <td>0.850116</td>\n",
       "      <td>0.851023</td>\n",
       "      <td>0.000632</td>\n",
       "      <td>37</td>\n",
       "    </tr>\n",
       "    <tr>\n",
       "      <th>1</th>\n",
       "      <td>0.897817</td>\n",
       "      <td>0.008857</td>\n",
       "      <td>0.017474</td>\n",
       "      <td>0.000178</td>\n",
       "      <td>2</td>\n",
       "      <td>4</td>\n",
       "      <td>3</td>\n",
       "      <td>{'max_depth': 2, 'max_leaf_nodes': 4, 'min_sam...</td>\n",
       "      <td>0.850424</td>\n",
       "      <td>0.851722</td>\n",
       "      <td>0.85144</td>\n",
       "      <td>0.851414</td>\n",
       "      <td>0.850116</td>\n",
       "      <td>0.851023</td>\n",
       "      <td>0.000632</td>\n",
       "      <td>37</td>\n",
       "    </tr>\n",
       "    <tr>\n",
       "      <th>2</th>\n",
       "      <td>0.887219</td>\n",
       "      <td>0.007858</td>\n",
       "      <td>0.017654</td>\n",
       "      <td>0.000324</td>\n",
       "      <td>2</td>\n",
       "      <td>4</td>\n",
       "      <td>4</td>\n",
       "      <td>{'max_depth': 2, 'max_leaf_nodes': 4, 'min_sam...</td>\n",
       "      <td>0.850424</td>\n",
       "      <td>0.851722</td>\n",
       "      <td>0.85144</td>\n",
       "      <td>0.851414</td>\n",
       "      <td>0.850116</td>\n",
       "      <td>0.851023</td>\n",
       "      <td>0.000632</td>\n",
       "      <td>37</td>\n",
       "    </tr>\n",
       "    <tr>\n",
       "      <th>3</th>\n",
       "      <td>0.894236</td>\n",
       "      <td>0.010971</td>\n",
       "      <td>0.017588</td>\n",
       "      <td>0.000127</td>\n",
       "      <td>2</td>\n",
       "      <td>5</td>\n",
       "      <td>2</td>\n",
       "      <td>{'max_depth': 2, 'max_leaf_nodes': 5, 'min_sam...</td>\n",
       "      <td>0.850424</td>\n",
       "      <td>0.851722</td>\n",
       "      <td>0.85144</td>\n",
       "      <td>0.851414</td>\n",
       "      <td>0.850116</td>\n",
       "      <td>0.851023</td>\n",
       "      <td>0.000632</td>\n",
       "      <td>37</td>\n",
       "    </tr>\n",
       "    <tr>\n",
       "      <th>4</th>\n",
       "      <td>0.887710</td>\n",
       "      <td>0.005493</td>\n",
       "      <td>0.017568</td>\n",
       "      <td>0.000326</td>\n",
       "      <td>2</td>\n",
       "      <td>5</td>\n",
       "      <td>3</td>\n",
       "      <td>{'max_depth': 2, 'max_leaf_nodes': 5, 'min_sam...</td>\n",
       "      <td>0.850424</td>\n",
       "      <td>0.851722</td>\n",
       "      <td>0.85144</td>\n",
       "      <td>0.851414</td>\n",
       "      <td>0.850116</td>\n",
       "      <td>0.851023</td>\n",
       "      <td>0.000632</td>\n",
       "      <td>37</td>\n",
       "    </tr>\n",
       "  </tbody>\n",
       "</table>\n",
       "</div>"
      ],
      "text/plain": [
       "   mean_fit_time  std_fit_time  mean_score_time  std_score_time  \\\n",
       "0       0.977304      0.139740         0.019456        0.002555   \n",
       "1       0.897817      0.008857         0.017474        0.000178   \n",
       "2       0.887219      0.007858         0.017654        0.000324   \n",
       "3       0.894236      0.010971         0.017588        0.000127   \n",
       "4       0.887710      0.005493         0.017568        0.000326   \n",
       "\n",
       "  param_max_depth param_max_leaf_nodes param_min_samples_split  \\\n",
       "0               2                    4                       2   \n",
       "1               2                    4                       3   \n",
       "2               2                    4                       4   \n",
       "3               2                    5                       2   \n",
       "4               2                    5                       3   \n",
       "\n",
       "                                              params  split0_test_score  \\\n",
       "0  {'max_depth': 2, 'max_leaf_nodes': 4, 'min_sam...           0.850424   \n",
       "1  {'max_depth': 2, 'max_leaf_nodes': 4, 'min_sam...           0.850424   \n",
       "2  {'max_depth': 2, 'max_leaf_nodes': 4, 'min_sam...           0.850424   \n",
       "3  {'max_depth': 2, 'max_leaf_nodes': 5, 'min_sam...           0.850424   \n",
       "4  {'max_depth': 2, 'max_leaf_nodes': 5, 'min_sam...           0.850424   \n",
       "\n",
       "   split1_test_score  split2_test_score  split3_test_score  split4_test_score  \\\n",
       "0           0.851722            0.85144           0.851414           0.850116   \n",
       "1           0.851722            0.85144           0.851414           0.850116   \n",
       "2           0.851722            0.85144           0.851414           0.850116   \n",
       "3           0.851722            0.85144           0.851414           0.850116   \n",
       "4           0.851722            0.85144           0.851414           0.850116   \n",
       "\n",
       "   mean_test_score  std_test_score  rank_test_score  \n",
       "0         0.851023        0.000632               37  \n",
       "1         0.851023        0.000632               37  \n",
       "2         0.851023        0.000632               37  \n",
       "3         0.851023        0.000632               37  \n",
       "4         0.851023        0.000632               37  "
      ]
     },
     "execution_count": 128,
     "metadata": {},
     "output_type": "execute_result"
    }
   ],
   "source": [
    "tree_cv_df = pd.DataFrame(tree_grid_search.cv_results_)\n",
    "tree_cv_df.head()"
   ]
  },
  {
   "cell_type": "markdown",
   "metadata": {},
   "source": [
    "# Random Forest"
   ]
  },
  {
   "cell_type": "code",
   "execution_count": 24,
   "metadata": {},
   "outputs": [],
   "source": [
    "forest = RandomForestClassifier()"
   ]
  },
  {
   "cell_type": "code",
   "execution_count": 81,
   "metadata": {},
   "outputs": [],
   "source": [
    "# The number of features to consider when looking for the best split\n",
    "max_features = ['sqrt', 'log2']\n",
    "\n",
    "# Minimum number of samples required to split a node\n",
    "min_samples_split = [2, 5, 10]\n",
    "\n",
    "# Minimum number of samples required at each leaf node\n",
    "min_samples_leaf = [1, 2, 4]\n",
    "\n",
    "# Create the random grid\n",
    "forrest_grid = {'max_features': max_features,\n",
    "                'min_samples_split': min_samples_split,\n",
    "               'min_samples_leaf': min_samples_leaf\n",
    "              }"
   ]
  },
  {
   "cell_type": "code",
   "execution_count": 26,
   "metadata": {},
   "outputs": [],
   "source": [
    "forrest_grid_search = GridSearchCV(estimator=forest, param_grid=forrest_grid, cv=5)"
   ]
  },
  {
   "cell_type": "code",
   "execution_count": 27,
   "metadata": {},
   "outputs": [
    {
     "data": {
      "text/plain": [
       "GridSearchCV(cv=5, estimator=RandomForestClassifier(),\n",
       "             param_grid={'max_features': ['sqrt', 'log2'],\n",
       "                         'min_samples_leaf': [1, 2, 4],\n",
       "                         'min_samples_split': [2, 5, 10]})"
      ]
     },
     "execution_count": 27,
     "metadata": {},
     "output_type": "execute_result"
    }
   ],
   "source": [
    "forrest_grid_search.fit(X_train_resampled, y_train_resampled)"
   ]
  },
  {
   "cell_type": "code",
   "execution_count": 95,
   "metadata": {},
   "outputs": [
    {
     "data": {
      "text/plain": [
       "{'max_features': 'sqrt', 'min_samples_leaf': 1, 'min_samples_split': 2}"
      ]
     },
     "execution_count": 95,
     "metadata": {},
     "output_type": "execute_result"
    }
   ],
   "source": [
    "forrest_grid_search.best_params_"
   ]
  },
  {
   "cell_type": "code",
   "execution_count": 96,
   "metadata": {},
   "outputs": [
    {
     "data": {
      "text/plain": [
       "0.9994345939667246"
      ]
     },
     "execution_count": 96,
     "metadata": {},
     "output_type": "execute_result"
    }
   ],
   "source": [
    "forrest_grid_search.best_score_"
   ]
  },
  {
   "cell_type": "code",
   "execution_count": 98,
   "metadata": {},
   "outputs": [],
   "source": [
    "best_forest = forrest_grid_search.best_estimator_"
   ]
  },
  {
   "cell_type": "code",
   "execution_count": 99,
   "metadata": {},
   "outputs": [],
   "source": [
    "forrest_test_preds = forrest_grid_search.predict(X_test_clean)"
   ]
  },
  {
   "cell_type": "code",
   "execution_count": 133,
   "metadata": {},
   "outputs": [
    {
     "data": {
      "image/png": "[encoded data removed]",
      "text/plain": [
       "<Figure size 432x288 with 2 Axes>"
      ]
     },
     "metadata": {
      "needs_background": "light"
     },
     "output_type": "display_data"
    }
   ],
   "source": [
    "plot_confusion_matrix(best_forest, X_test_clean, y_test, normalize='true', values_format = '.2f')\n",
    "plt.savefig('images/forrest_conf_matrix.png');"
   ]
  },
  {
   "cell_type": "code",
   "execution_count": 138,
   "metadata": {},
   "outputs": [
    {
     "data": {
      "image/png": "[encoded data removed]",
      "text/plain": [
       "<Figure size 432x288 with 1 Axes>"
      ]
     },
     "metadata": {
      "needs_background": "light"
     },
     "output_type": "display_data"
    }
   ],
   "source": [
    "plot_roc_curve(best_forest, X_test_clean, y_test)\n",
    "plt.savefig('images/forest_roc.png');"
   ]
  },
  {
   "cell_type": "code",
   "execution_count": 47,
   "metadata": {},
   "outputs": [
    {
     "name": "stdout",
     "output_type": "stream",
     "text": [
      "Precision Score: 0.0\n",
      "Recall Score: 0.0\n",
      "Accuracy Score: 0.9986485794727412\n",
      "F1 Score: 0.0\n"
     ]
    }
   ],
   "source": [
    "print_metrics(y_test, forrest_test_preds)"
   ]
  },
  {
   "cell_type": "code",
   "execution_count": 82,
   "metadata": {},
   "outputs": [],
   "source": [
    "forrest_features = list(zip(best_forest.feature_importances_, X_train_resampled.columns.values))\n",
    "forrest_features = sorted(forrest_features, key=lambda x: x[0], reverse=True)\n",
    "forrest_features_values = [x[0] for x in forrest_features][:5]\n",
    "forrest_features_names = [x[1] for x in forrest_features][:5]"
   ]
  },
  {
   "cell_type": "code",
   "execution_count": 134,
   "metadata": {},
   "outputs": [
    {
     "data": {
      "image/png": "[encoded data removed]",
      "text/plain": [
       "<Figure size 576x576 with 1 Axes>"
      ]
     },
     "metadata": {
      "needs_background": "light"
     },
     "output_type": "display_data"
    }
   ],
   "source": [
    "plt.figure(figsize=(8,8))\n",
    "forrest_labels = ['Physical Condition: Normal', 'Vehical Defect: None', 'Physical Condition: Unknown',\n",
    "                  'Vehical Defect: Unknown','Physical Condition: Removed by EMS']\n",
    "\n",
    "plt.barh(forrest_features_names, forrest_features_values, align='center', tick_label=forrest_labels)\n",
    "plt.xlabel('Mean Decrease Accuracy', fontsize=20, labelpad=10)\n",
    "plt.ylabel('Feature', fontsize=20)\n",
    "plt.savefig('images/forest_feature_plot.png');"
   ]
  },
  {
   "cell_type": "code",
   "execution_count": 50,
   "metadata": {},
   "outputs": [
    {
     "data": {
      "text/html": [
       "<div>\n",
       "<style scoped>\n",
       "    .dataframe tbody tr th:only-of-type {\n",
       "        vertical-align: middle;\n",
       "    }\n",
       "\n",
       "    .dataframe tbody tr th {\n",
       "        vertical-align: top;\n",
       "    }\n",
       "\n",
       "    .dataframe thead th {\n",
       "        text-align: right;\n",
       "    }\n",
       "</style>\n",
       "<table border=\"1\" class=\"dataframe\">\n",
       "  <thead>\n",
       "    <tr style=\"text-align: right;\">\n",
       "      <th></th>\n",
       "      <th>mean_fit_time</th>\n",
       "      <th>std_fit_time</th>\n",
       "      <th>mean_score_time</th>\n",
       "      <th>std_score_time</th>\n",
       "      <th>param_max_features</th>\n",
       "      <th>param_min_samples_leaf</th>\n",
       "      <th>param_min_samples_split</th>\n",
       "      <th>params</th>\n",
       "      <th>split0_test_score</th>\n",
       "      <th>split1_test_score</th>\n",
       "      <th>split2_test_score</th>\n",
       "      <th>split3_test_score</th>\n",
       "      <th>split4_test_score</th>\n",
       "      <th>mean_test_score</th>\n",
       "      <th>std_test_score</th>\n",
       "      <th>rank_test_score</th>\n",
       "    </tr>\n",
       "  </thead>\n",
       "  <tbody>\n",
       "    <tr>\n",
       "      <th>0</th>\n",
       "      <td>41.850999</td>\n",
       "      <td>0.761358</td>\n",
       "      <td>0.984590</td>\n",
       "      <td>0.030435</td>\n",
       "      <td>sqrt</td>\n",
       "      <td>1</td>\n",
       "      <td>2</td>\n",
       "      <td>{'max_features': 'sqrt', 'min_samples_leaf': 1...</td>\n",
       "      <td>0.997352</td>\n",
       "      <td>0.999966</td>\n",
       "      <td>0.999966</td>\n",
       "      <td>0.999940</td>\n",
       "      <td>0.999949</td>\n",
       "      <td>0.999435</td>\n",
       "      <td>0.001041</td>\n",
       "      <td>1</td>\n",
       "    </tr>\n",
       "    <tr>\n",
       "      <th>1</th>\n",
       "      <td>41.781056</td>\n",
       "      <td>1.573100</td>\n",
       "      <td>0.981821</td>\n",
       "      <td>0.030089</td>\n",
       "      <td>sqrt</td>\n",
       "      <td>1</td>\n",
       "      <td>5</td>\n",
       "      <td>{'max_features': 'sqrt', 'min_samples_leaf': 1...</td>\n",
       "      <td>0.997369</td>\n",
       "      <td>0.999932</td>\n",
       "      <td>0.999974</td>\n",
       "      <td>0.999915</td>\n",
       "      <td>0.999932</td>\n",
       "      <td>0.999424</td>\n",
       "      <td>0.001028</td>\n",
       "      <td>3</td>\n",
       "    </tr>\n",
       "    <tr>\n",
       "      <th>2</th>\n",
       "      <td>41.867234</td>\n",
       "      <td>0.875400</td>\n",
       "      <td>0.980139</td>\n",
       "      <td>0.027985</td>\n",
       "      <td>sqrt</td>\n",
       "      <td>1</td>\n",
       "      <td>10</td>\n",
       "      <td>{'max_features': 'sqrt', 'min_samples_leaf': 1...</td>\n",
       "      <td>0.997378</td>\n",
       "      <td>0.999923</td>\n",
       "      <td>0.999957</td>\n",
       "      <td>0.999923</td>\n",
       "      <td>0.999915</td>\n",
       "      <td>0.999419</td>\n",
       "      <td>0.001021</td>\n",
       "      <td>4</td>\n",
       "    </tr>\n",
       "    <tr>\n",
       "      <th>3</th>\n",
       "      <td>41.255589</td>\n",
       "      <td>1.402057</td>\n",
       "      <td>0.959210</td>\n",
       "      <td>0.034043</td>\n",
       "      <td>sqrt</td>\n",
       "      <td>2</td>\n",
       "      <td>2</td>\n",
       "      <td>{'max_features': 'sqrt', 'min_samples_leaf': 2...</td>\n",
       "      <td>0.997395</td>\n",
       "      <td>0.999880</td>\n",
       "      <td>0.999915</td>\n",
       "      <td>0.999872</td>\n",
       "      <td>0.999898</td>\n",
       "      <td>0.999392</td>\n",
       "      <td>0.000999</td>\n",
       "      <td>7</td>\n",
       "    </tr>\n",
       "    <tr>\n",
       "      <th>4</th>\n",
       "      <td>42.523286</td>\n",
       "      <td>1.516671</td>\n",
       "      <td>0.955736</td>\n",
       "      <td>0.028170</td>\n",
       "      <td>sqrt</td>\n",
       "      <td>2</td>\n",
       "      <td>5</td>\n",
       "      <td>{'max_features': 'sqrt', 'min_samples_leaf': 2...</td>\n",
       "      <td>0.997369</td>\n",
       "      <td>0.999932</td>\n",
       "      <td>0.999898</td>\n",
       "      <td>0.999855</td>\n",
       "      <td>0.999906</td>\n",
       "      <td>0.999392</td>\n",
       "      <td>0.001012</td>\n",
       "      <td>7</td>\n",
       "    </tr>\n",
       "  </tbody>\n",
       "</table>\n",
       "</div>"
      ],
      "text/plain": [
       "   mean_fit_time  std_fit_time  mean_score_time  std_score_time  \\\n",
       "0      41.850999      0.761358         0.984590        0.030435   \n",
       "1      41.781056      1.573100         0.981821        0.030089   \n",
       "2      41.867234      0.875400         0.980139        0.027985   \n",
       "3      41.255589      1.402057         0.959210        0.034043   \n",
       "4      42.523286      1.516671         0.955736        0.028170   \n",
       "\n",
       "  param_max_features param_min_samples_leaf param_min_samples_split  \\\n",
       "0               sqrt                      1                       2   \n",
       "1               sqrt                      1                       5   \n",
       "2               sqrt                      1                      10   \n",
       "3               sqrt                      2                       2   \n",
       "4               sqrt                      2                       5   \n",
       "\n",
       "                                              params  split0_test_score  \\\n",
       "0  {'max_features': 'sqrt', 'min_samples_leaf': 1...           0.997352   \n",
       "1  {'max_features': 'sqrt', 'min_samples_leaf': 1...           0.997369   \n",
       "2  {'max_features': 'sqrt', 'min_samples_leaf': 1...           0.997378   \n",
       "3  {'max_features': 'sqrt', 'min_samples_leaf': 2...           0.997395   \n",
       "4  {'max_features': 'sqrt', 'min_samples_leaf': 2...           0.997369   \n",
       "\n",
       "   split1_test_score  split2_test_score  split3_test_score  split4_test_score  \\\n",
       "0           0.999966           0.999966           0.999940           0.999949   \n",
       "1           0.999932           0.999974           0.999915           0.999932   \n",
       "2           0.999923           0.999957           0.999923           0.999915   \n",
       "3           0.999880           0.999915           0.999872           0.999898   \n",
       "4           0.999932           0.999898           0.999855           0.999906   \n",
       "\n",
       "   mean_test_score  std_test_score  rank_test_score  \n",
       "0         0.999435        0.001041                1  \n",
       "1         0.999424        0.001028                3  \n",
       "2         0.999419        0.001021                4  \n",
       "3         0.999392        0.000999                7  \n",
       "4         0.999392        0.001012                7  "
      ]
     },
     "execution_count": 50,
     "metadata": {},
     "output_type": "execute_result"
    }
   ],
   "source": [
    "forest_cv_df = pd.DataFrame(forrest_grid_search.cv_results_)\n",
    "forest_cv_df.head()"
   ]
  },
  {
   "cell_type": "code",
   "execution_count": null,
   "metadata": {},
   "outputs": [],
   "source": [
    "plot_columns = []"
   ]
  }
 ],
 "metadata": {
  "kernelspec": {
   "display_name": "Python (learn-env)",
   "language": "python",
   "name": "learn-env"
  },
  "language_info": {
   "codemirror_mode": {
    "name": "ipython",
    "version": 3
   },
   "file_extension": ".py",
   "mimetype": "text/x-python",
   "name": "python",
   "nbconvert_exporter": "python",
   "pygments_lexer": "ipython3",
   "version": "3.8.5"
  }
 },
 "nbformat": 4,
 "nbformat_minor": 4
}
